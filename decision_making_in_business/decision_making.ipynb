{
 "cells": [
  {
   "cell_type": "markdown",
   "metadata": {},
   "source": [
    "# Введение"
   ]
  },
  {
   "cell_type": "markdown",
   "metadata": {},
   "source": [
    "В данном кейсе рассматриваются бизнес-показатели крупного интернет-магазина.\\\n",
    "Аналитиками совместно с отделом маркетинга подготовлен список гипотез для увеличения выручки.\\\n",
    "Необходимо приоритизировать гипотезы, провести A/B-тест и проанализировать результаты.\\\n",
    "\\\n",
    "Работа состоит из двух частей.\\\n",
    "\\\n",
    "**Часть 1. Приоритизация гипотез.**\\\n",
    "Имеется 9 гипотез по увеличению выручки интернет-магазина с указанными параметрами *Reach, Impact, Confidence, Effort.*\\\n",
    "\\\n",
    "**Задача:**\n",
    "- Применить фреймворк ICE для приоритизации гипотез. \n",
    "- Отсортировать их по убыванию приоритета.\n",
    "- Применить фреймворк RICE для приоритизации гипотез.\n",
    "- Отсортировать их по убыванию приоритета.\n",
    "- Как изменилась приоритизация гипотез при применении RICE вместо ICE. Вывод.\n",
    "\n",
    "Метод ICE будет рассчитан по формуле:\\\n",
    "    ICE = Impact x Confidence / Efforts\\\n",
    "Метод RICE будет рассчитан по формуле:\\\n",
    "    RICE = Reach x Impact x Confidence / Efforts\n",
    "\n",
    "\n",
    "**Часть 2. Анализ A/B-теста**\n",
    "\\\n",
    "**Задача**\\\n",
    "Проанализировать A/B-тест:\n",
    "- График кумулятивной выручки по группам. Выводы и предположения.\n",
    "- График кумулятивного среднего чека по группам. Выводы и предположения.\n",
    "- График относительного изменения кумулятивного среднего чека группы B к группе A. Выводы и предположения.\n",
    "- График кумулятивной конверсии по группам. Выводы и предположения.\n",
    "- График относительного изменения кумулятивной конверсии группы B к группе A. Выводы и предположения.\n",
    "- Точечный график количества заказов по пользователям. Выводы и предположения.\n",
    "- 95-й и 99-й перцентили количества заказов на пользователя. Выбор границы для определения аномальных пользователей.\n",
    "- Точечный график стоимостей заказов. Выводы и предположения.\n",
    "- 95-й и 99-й перцентили стоимости заказов. Выбор границы для определения аномальных заказов.\n",
    "- Статистическая значимость различий в конверсии между группами по «сырым» данным. Выводы и предположения.\n",
    "- Статистическая значимость различий в среднем чеке заказа между группами по «сырым» данным. Выводы и предположения.\n",
    "- Статистическая значимость различий в конверсии между группами по «очищенным» данным. Выводы и предположения.\n",
    "- Статистическая значимость различий в среднем чеке заказа между группами по «очищенным» данным. Выводы и предположения.\n",
    "- Решение по результатам теста. **Варианты решений:**\n",
    "    1. Остановить тест, зафиксировать победу одной из групп. \n",
    "    2. Остановить тест, зафиксировать отсутствие различий между группами. \n",
    "    3. Продолжить тест."
   ]
  },
  {
   "cell_type": "markdown",
   "metadata": {},
   "source": [
    "# Часть 1. Приоритизация гипотез.\n",
    "В файле */datasets/hypothesis.csv* 9 гипотез по увеличению выручки интернет-магазина с указанными параметрами *Reach, Impact, Confidence, Effort.*\\\n",
    "\\\n",
    "**Задача:**\n",
    "- Применить фреймворк ICE для приоритизации гипотез. \n",
    "- Отсортировать их по убыванию приоритета.\n",
    "- Применить фреймворк RICE для приоритизации гипотез.\n",
    "- Отсортировать их по убыванию приоритета.\n",
    "- Как изменилась приоритизация гипотез при применении RICE вместо ICE. Вывод."
   ]
  },
  {
   "cell_type": "code",
   "execution_count": 1,
   "metadata": {},
   "outputs": [
    {
     "name": "stdout",
     "output_type": "stream",
     "text": [
      "                                          Hypothesis  Reach  Impact  \\\n",
      "0  Добавить два новых канала привлечения трафика,...      3      10   \n",
      "1  Запустить собственную службу доставки, что сок...      2       5   \n",
      "2  Добавить блоки рекомендаций товаров на сайт ин...      8       3   \n",
      "3  Изменить структура категорий, что увеличит кон...      8       3   \n",
      "4  Изменить цвет фона главной страницы, чтобы уве...      3       1   \n",
      "5  Добавить страницу отзывов клиентов о магазине,...      3       2   \n",
      "6  Показать на главной странице баннеры с актуаль...      5       3   \n",
      "7  Добавить форму подписки на все основные страни...     10       7   \n",
      "8  Запустить акцию, дающую скидку на товар в день...      1       9   \n",
      "\n",
      "   Confidence  Efforts  \n",
      "0           8        6  \n",
      "1           4       10  \n",
      "2           7        3  \n",
      "3           3        8  \n",
      "4           1        1  \n",
      "5           2        3  \n",
      "6           8        3  \n",
      "7           8        5  \n",
      "8           9        5  \n"
     ]
    }
   ],
   "source": [
    "import pandas as pd\n",
    "import scipy.stats as stats\n",
    "import numpy as np\n",
    "import matplotlib.pyplot as plt\n",
    "\n",
    "hypothesis = pd.read_csv('/datasets/hypothesis.csv')\n",
    "print(hypothesis.head(10))\n",
    "pd.options.display.max_colwidth = 250"
   ]
  },
  {
   "cell_type": "markdown",
   "metadata": {},
   "source": [
    "## Фреймфорк ICE."
   ]
  },
  {
   "cell_type": "code",
   "execution_count": 2,
   "metadata": {},
   "outputs": [
    {
     "name": "stdout",
     "output_type": "stream",
     "text": [
      "                                                                                                     Hypothesis  \\\n",
      "8                                                       Запустить акцию, дающую скидку на товар в день рождения   \n",
      "0            Добавить два новых канала привлечения трафика, что позволит привлекать на 30% больше пользователей   \n",
      "7              Добавить форму подписки на все основные страницы, чтобы собрать базу клиентов для email-рассылок   \n",
      "6          Показать на главной странице баннеры с актуальными акциями и распродажами, чтобы увеличить конверсию   \n",
      "2  Добавить блоки рекомендаций товаров на сайт интернет магазина, чтобы повысить конверсию и средний чек заказа   \n",
      "1                                     Запустить собственную службу доставки, что сократит срок доставки заказов   \n",
      "5                      Добавить страницу отзывов клиентов о магазине, что позволит увеличить количество заказов   \n",
      "3           Изменить структура категорий, что увеличит конверсию, т.к. пользователи быстрее найдут нужный товар   \n",
      "4                              Изменить цвет фона главной страницы, чтобы увеличить вовлеченность пользователей   \n",
      "\n",
      "   Reach  Impact  Confidence  Efforts    ICE  \n",
      "8      1       9           9        5  16.20  \n",
      "0      3      10           8        6  13.33  \n",
      "7     10       7           8        5  11.20  \n",
      "6      5       3           8        3   8.00  \n",
      "2      8       3           7        3   7.00  \n",
      "1      2       5           4       10   2.00  \n",
      "5      3       2           2        3   1.33  \n",
      "3      8       3           3        8   1.12  \n",
      "4      3       1           1        1   1.00  \n"
     ]
    }
   ],
   "source": [
    "hypothesis['ICE'] = round(hypothesis['Impact'] * hypothesis['Confidence'] / hypothesis['Efforts'],2)\n",
    "print(hypothesis.sort_values('ICE', ascending=False))"
   ]
  },
  {
   "cell_type": "markdown",
   "metadata": {},
   "source": [
    "По результатам оценки во фреймворке ICE приоритетными гипотезами для А/В-теста являются гипотезы с индексами:\\\n",
    "8 - Запустить акцию, дающую скидку на товар в день рождения,\\\n",
    "0 - Добавить два новых канала привлечения трафика, что позволит привлекать на 30% больше пользователей,\\\n",
    "7 - Добавить форму подписки на все основные страницы, чтобы собрать базу клиентов для email-рассылок."
   ]
  },
  {
   "cell_type": "markdown",
   "metadata": {},
   "source": [
    "## Фреймворк RICE."
   ]
  },
  {
   "cell_type": "code",
   "execution_count": 3,
   "metadata": {},
   "outputs": [
    {
     "name": "stdout",
     "output_type": "stream",
     "text": [
      "                                                                                                     Hypothesis  \\\n",
      "7              Добавить форму подписки на все основные страницы, чтобы собрать базу клиентов для email-рассылок   \n",
      "2  Добавить блоки рекомендаций товаров на сайт интернет магазина, чтобы повысить конверсию и средний чек заказа   \n",
      "0            Добавить два новых канала привлечения трафика, что позволит привлекать на 30% больше пользователей   \n",
      "6          Показать на главной странице баннеры с актуальными акциями и распродажами, чтобы увеличить конверсию   \n",
      "8                                                       Запустить акцию, дающую скидку на товар в день рождения   \n",
      "3           Изменить структура категорий, что увеличит конверсию, т.к. пользователи быстрее найдут нужный товар   \n",
      "1                                     Запустить собственную службу доставки, что сократит срок доставки заказов   \n",
      "5                      Добавить страницу отзывов клиентов о магазине, что позволит увеличить количество заказов   \n",
      "4                              Изменить цвет фона главной страницы, чтобы увеличить вовлеченность пользователей   \n",
      "\n",
      "   Reach  Impact  Confidence  Efforts    ICE   RICE  \n",
      "7     10       7           8        5  11.20  112.0  \n",
      "2      8       3           7        3   7.00   56.0  \n",
      "0      3      10           8        6  13.33   40.0  \n",
      "6      5       3           8        3   8.00   40.0  \n",
      "8      1       9           9        5  16.20   16.2  \n",
      "3      8       3           3        8   1.12    9.0  \n",
      "1      2       5           4       10   2.00    4.0  \n",
      "5      3       2           2        3   1.33    4.0  \n",
      "4      3       1           1        1   1.00    3.0  \n"
     ]
    }
   ],
   "source": [
    "hypothesis['RICE'] = hypothesis['Reach'] * hypothesis['Impact'] * hypothesis['Confidence'] / hypothesis['Efforts']\n",
    "print(hypothesis.sort_values('RICE', ascending=False))"
   ]
  },
  {
   "cell_type": "markdown",
   "metadata": {},
   "source": [
    "По результатам оценки во фреймворке RICE приоритетными гипотезами для А/В-теста являются гипотезы с индексами:\\\n",
    "7 - Добавить форму подписки на все основные страницы, чтобы собрать базу клиентов для email-рассылок,\\\n",
    "2 - Добавить блоки рекомендаций товаров на сайт интернет магазина, чтобы повысить конверсию и средний чек заказа,\\\n",
    "0 - Добавить два новых канала привлечения трафика, что позволит привлекать на 30% больше пользователей."
   ]
  },
  {
   "cell_type": "markdown",
   "metadata": {},
   "source": [
    "## Вывод\n",
    "Приоритезация методами ICE и RICE имеет различия, т.к. RICE, помимо параметров *Impact, Confidence, Effort* учитывает еще *Reach* - охват пользователей. Который, при тех же значениях *Confidence, Effort*, оказывает большее влияние на величину расчитываемого показателя, чем *Impact* и, соответственно, на очередность (приоритет) гипотез в датасете.\\\n",
    "\\\n",
    "По результатам **ICE** первая пятерка:\\\n",
    "    8 - Запустить акцию, дающую скидку на товар в день рождения\\\n",
    "    0 - Добавить два новых канала привлечения трафика, что позволит привлекать на 30% больше пользователей\\\n",
    "    7 - Добавить форму подписки на все основные страницы, чтобы собрать базу клиентов для email-рассылок\\\n",
    "    6 - Показать на главной странице баннеры с актуальными акциями и распродажами, чтобы увеличить конверсию\\\n",
    "    2 - Добавить блоки рекомендаций товаров на сайт интернет магазина, чтобы повысить конверсию и средний чек заказа\\\n",
    "По результатам **RICE**:\\\n",
    "    7 - Добавить форму подписки на все основные страницы, чтобы собрать базу клиентов для email-рассылок\\\n",
    "    2 - Добавить блоки рекомендаций товаров на сайт интернет магазина, чтобы повысить конверсию и средний чек заказа\\\n",
    "    0 - Добавить два новых канала привлечения трафика, что позволит привлекать на 30% больше пользователей\\\n",
    "    6 - Показать на главной странице баннеры с актуальными акциями и распродажами, чтобы увеличить конверсию\\\n",
    "    8 - Запустить акцию, дающую скидку на товар в день рождения"
   ]
  },
  {
   "cell_type": "markdown",
   "metadata": {},
   "source": [
    "# Часть 2. Анализ A/B-теста\n",
    "Результаты проведённого A/B-тест получены и описаны в файлах */datasets/orders.csv* и */datasets/visitors.csv.*\\\n",
    "\\\n",
    "**Задача**\\\n",
    "Проанализировать A/B-тест:\n",
    "- График кумулятивной выручки по группам. Выводы и предположения.\n",
    "- График кумулятивного среднего чека по группам. Выводы и предположения.\n",
    "- График относительного изменения кумулятивного среднего чека группы B к группе A. Выводы и предположения.\n",
    "- График кумулятивной конверсии по группам. Выводы и предположения.\n",
    "- График относительного изменения кумулятивной конверсии группы B к группе A. Выводы и предположения.\n",
    "- Точечный график количества заказов по пользователям. Выводы и предположения.\n",
    "- 95-й и 99-й перцентили количества заказов на пользователя. Выбор границы для определения аномальных пользователей.\n",
    "- Точечный график стоимостей заказов. Выводы и предположения.\n",
    "- 95-й и 99-й перцентили стоимости заказов. Выбор границы для определения аномальных заказов.\n",
    "- Статистическая значимость различий в конверсии между группами по «сырым» данным. Выводы и предположения.\n",
    "- Статистическая значимость различий в среднем чеке заказа между группами по «сырым» данным. Выводы и предположения.\n",
    "- Статистическая значимость различий в конверсии между группами по «очищенным» данным. Выводы и предположения.\n",
    "- Статистическая значимость различий в среднем чеке заказа между группами по «очищенным» данным. Выводы и предположения.\n",
    "- Решение по результатам теста. **Варианты решений:**\n",
    "    1. Остановить тест, зафиксировать победу одной из групп. \n",
    "    2. Остановить тест, зафиксировать отсутствие различий между группами. \n",
    "    3. Продолжить тест."
   ]
  },
  {
   "cell_type": "code",
   "execution_count": 4,
   "metadata": {},
   "outputs": [
    {
     "name": "stdout",
     "output_type": "stream",
     "text": [
      "   transactionId   visitorId        date  revenue group\n",
      "0     3667963787  3312258926  2019-08-15     1650     B\n",
      "1     2804400009  3642806036  2019-08-15      730     B\n",
      "2     2961555356  4069496402  2019-08-15      400     A\n",
      "3     3797467345  1196621759  2019-08-15     9759     B\n",
      "4     2282983706  2322279887  2019-08-15     2308     B\n"
     ]
    }
   ],
   "source": [
    "orders = pd.read_csv('/datasets/orders.csv')\n",
    "print(orders.head(5))"
   ]
  },
  {
   "cell_type": "code",
   "execution_count": 5,
   "metadata": {},
   "outputs": [
    {
     "name": "stdout",
     "output_type": "stream",
     "text": [
      "<class 'pandas.core.frame.DataFrame'>\n",
      "RangeIndex: 1197 entries, 0 to 1196\n",
      "Data columns (total 5 columns):\n",
      " #   Column         Non-Null Count  Dtype \n",
      "---  ------         --------------  ----- \n",
      " 0   transactionId  1197 non-null   int64 \n",
      " 1   visitorId      1197 non-null   int64 \n",
      " 2   date           1197 non-null   object\n",
      " 3   revenue        1197 non-null   int64 \n",
      " 4   group          1197 non-null   object\n",
      "dtypes: int64(3), object(2)\n",
      "memory usage: 46.9+ KB\n"
     ]
    }
   ],
   "source": [
    "#общая информация о дф\n",
    "orders.info()"
   ]
  },
  {
   "cell_type": "code",
   "execution_count": 6,
   "metadata": {},
   "outputs": [
    {
     "data": {
      "text/plain": [
       "0.0"
      ]
     },
     "execution_count": 6,
     "metadata": {},
     "output_type": "execute_result"
    }
   ],
   "source": [
    "#проверка наличия дубликатов записей\n",
    "orders.duplicated().mean()"
   ]
  },
  {
   "cell_type": "code",
   "execution_count": 7,
   "metadata": {},
   "outputs": [
    {
     "name": "stdout",
     "output_type": "stream",
     "text": [
      "         date group  visitors\n",
      "0  2019-08-01     A       719\n",
      "1  2019-08-02     A       619\n",
      "2  2019-08-03     A       507\n",
      "3  2019-08-04     A       717\n",
      "4  2019-08-05     A       756\n"
     ]
    }
   ],
   "source": [
    "visitors = pd.read_csv('/datasets/visitors.csv')\n",
    "print(visitors.head(5))"
   ]
  },
  {
   "cell_type": "code",
   "execution_count": 8,
   "metadata": {},
   "outputs": [
    {
     "name": "stdout",
     "output_type": "stream",
     "text": [
      "<class 'pandas.core.frame.DataFrame'>\n",
      "RangeIndex: 62 entries, 0 to 61\n",
      "Data columns (total 3 columns):\n",
      " #   Column    Non-Null Count  Dtype \n",
      "---  ------    --------------  ----- \n",
      " 0   date      62 non-null     object\n",
      " 1   group     62 non-null     object\n",
      " 2   visitors  62 non-null     int64 \n",
      "dtypes: int64(1), object(2)\n",
      "memory usage: 1.6+ KB\n"
     ]
    }
   ],
   "source": [
    "#общая информация\n",
    "visitors.info()"
   ]
  },
  {
   "cell_type": "code",
   "execution_count": 9,
   "metadata": {},
   "outputs": [
    {
     "data": {
      "text/plain": [
       "0.0"
      ]
     },
     "execution_count": 9,
     "metadata": {},
     "output_type": "execute_result"
    }
   ],
   "source": [
    "#проверка наличия дубликатов записей\n",
    "visitors.duplicated().mean()"
   ]
  },
  {
   "cell_type": "code",
   "execution_count": 10,
   "metadata": {},
   "outputs": [
    {
     "data": {
      "text/plain": [
       "B    640\n",
       "A    557\n",
       "Name: group, dtype: int64"
      ]
     },
     "execution_count": 10,
     "metadata": {},
     "output_type": "execute_result"
    }
   ],
   "source": [
    "orders['group'].value_counts()"
   ]
  },
  {
   "cell_type": "markdown",
   "metadata": {},
   "source": [
    "В имеющихся датафреймах пропусков и дубликатов нет.\\\n",
    "Имеется две группы пользователей. Группы разделены не равномерно: А - 557, В - 640. Возможно, есть пользователи, которые присутствуют в обеих группах."
   ]
  },
  {
   "cell_type": "code",
   "execution_count": 11,
   "metadata": {},
   "outputs": [
    {
     "name": "stdout",
     "output_type": "stream",
     "text": [
      "58\n"
     ]
    }
   ],
   "source": [
    "groupA = orders.query('group == \"A\"')['visitorId'].unique()\n",
    "groupB = orders.query('group == \"B\"')['visitorId'].unique()\n",
    "ABvisitors = list(set(groupA) & set(groupB))\n",
    "print(len(ABvisitors))"
   ]
  },
  {
   "cell_type": "markdown",
   "metadata": {},
   "source": [
    "Имеется 58 пользователей, которые входят в обе группы теста. Вероятно, что они совевршали покупки несколько раз в течении периода тестирования и при делении трафика попали в обе группы. Возможно, есть какие-то технические особенности при делении пользователей по группам. Пользователи, попавшие в обе группы, совершили не менее двух заказов за период теста. В дальнейшем анализе проверим, являются ли они аномальными."
   ]
  },
  {
   "cell_type": "code",
   "execution_count": 12,
   "metadata": {},
   "outputs": [
    {
     "name": "stdout",
     "output_type": "stream",
     "text": [
      "Дата начала теста: 2019-08-01\n",
      "Дата окончания теста: 2019-08-31\n"
     ]
    }
   ],
   "source": [
    "print('Дата начала теста:', orders['date'].min())\n",
    "print('Дата окончания теста:', orders['date'].max())"
   ]
  },
  {
   "cell_type": "code",
   "execution_count": 13,
   "metadata": {},
   "outputs": [
    {
     "name": "stdout",
     "output_type": "stream",
     "text": [
      "         date group  transactions  buyers  revenue  visitors\n",
      "0  2019-08-01     A            24      20   148579       719\n",
      "1  2019-08-01     B            21      20   101217       713\n",
      "2  2019-08-02     A            44      38   242401      1338\n",
      "3  2019-08-02     B            45      43   266748      1294\n",
      "4  2019-08-03     A            68      62   354874      1845\n"
     ]
    }
   ],
   "source": [
    "# создаем массив уникальных пар значений дат и групп теста\n",
    "datesGroups = orders[['date','group']].drop_duplicates()\n",
    "\n",
    "# получаем агрегированные кумулятивные по дням данные о заказах \n",
    "ordersAggregated = datesGroups.apply(\\\n",
    "    lambda x: orders[np.logical_and(orders['date'] <= x['date'], orders['group'] == x['group'])]\\\n",
    "    .agg({'date' : 'max', 'group' : 'max', 'transactionId' : 'nunique', 'visitorId' : 'nunique', 'revenue' : 'sum'}), axis=1)\\\n",
    "    .sort_values(by=['date','group'])\n",
    "\n",
    "# получаем агрегированные кумулятивные по дням данные о посетителях интернет-магазина \n",
    "visitorsAggregated = datesGroups.apply(\\\n",
    "    lambda x: visitors[np.logical_and(visitors['date'] <= x['date'], visitors['group'] == x['group'])]\\\n",
    "    .agg({'date' : 'max', 'group' : 'max', 'visitors' : 'sum'}), axis=1)\\\n",
    "    .sort_values(by=['date','group'])\n",
    "\n",
    "# объединяем кумулятивные данные в одной таблице и присваиваем ее столбцам понятные названия\n",
    "cumulativeData = ordersAggregated.merge(visitorsAggregated, left_on=['date', 'group'], right_on=['date', 'group'])\n",
    "cumulativeData.columns = ['date', 'group', 'transactions', 'buyers', 'revenue', 'visitors']\n",
    "\n",
    "print(cumulativeData.head(5))"
   ]
  },
  {
   "cell_type": "markdown",
   "metadata": {},
   "source": [
    "## График кумулятивной выручки по группам"
   ]
  },
  {
   "cell_type": "code",
   "execution_count": 14,
   "metadata": {},
   "outputs": [
    {
     "data": {
      "image/png": "[encoded data removed]",
      "text/plain": [
       "<Figure size 432x288 with 1 Axes>"
      ]
     },
     "metadata": {
      "needs_background": "light"
     },
     "output_type": "display_data"
    }
   ],
   "source": [
    "# датафрейм с кумулятивным количеством заказов и кумулятивной выручкой по дням в группе А\n",
    "cumulativeRevenueA = cumulativeData[cumulativeData['group']=='A'][['date','revenue', 'transactions']]\n",
    "\n",
    "# датафрейм с кумулятивным количеством заказов и кумулятивной выручкой по дням в группе B\n",
    "cumulativeRevenueB = cumulativeData[cumulativeData['group']=='B'][['date','revenue', 'transactions']]\n",
    "\n",
    "# Строим график выручки группы А\n",
    "plt.plot(cumulativeRevenueA['date'], cumulativeRevenueA['revenue'], label='A')\n",
    "\n",
    "# Строим график выручки группы B\n",
    "plt.plot(cumulativeRevenueB['date'], cumulativeRevenueB['revenue'], label='B')\n",
    "\n",
    "plt.title('График кумулятивной выручки по группам')\n",
    "plt.xlabel('Дата')\n",
    "plt.ylabel('Кумулятивная выручка, руб.')\n",
    "plt.legend()\n",
    "plt.xticks(rotation=50)\n",
    "plt.rcParams['figure.figsize'] = [15, 5]\n",
    "plt.grid(True)\n",
    "None"
   ]
  },
  {
   "cell_type": "markdown",
   "metadata": {},
   "source": [
    "График А имеет равномерный рост с незначительными колебаниями. График В имеет излом - резкий рост, что говорит о начличии выбросов. Возможно, резкий рост заказов или появились очень дорогие заказы."
   ]
  },
  {
   "cell_type": "markdown",
   "metadata": {},
   "source": [
    "## График кумулятивного среднего чека по группам"
   ]
  },
  {
   "cell_type": "code",
   "execution_count": 15,
   "metadata": {},
   "outputs": [
    {
     "data": {
      "image/png": "[encoded data removed]",
      "text/plain": [
       "<Figure size 1080x360 with 1 Axes>"
      ]
     },
     "metadata": {
      "needs_background": "light"
     },
     "output_type": "display_data"
    }
   ],
   "source": [
    "plt.plot(cumulativeRevenueA['date'], cumulativeRevenueA['revenue']/cumulativeRevenueA['transactions'], label='A')\n",
    "plt.plot(cumulativeRevenueB['date'], cumulativeRevenueB['revenue']/cumulativeRevenueB['transactions'], label='B')\n",
    "\n",
    "plt.title('График кумулятивного среднего чека по группам')\n",
    "plt.xlabel('Дата')\n",
    "plt.ylabel('Средний чек, руб.')\n",
    "plt.legend()\n",
    "plt.xticks(rotation=50)\n",
    "plt.rcParams['figure.figsize'] = [15, 5]\n",
    "plt.grid(True)\n",
    "None"
   ]
  },
  {
   "cell_type": "markdown",
   "metadata": {},
   "source": [
    "Для обеих групп графики средних чеков имеют колебания в первой половине периода наблюдений. график В имеет резкий скачок значений. Возможно, появились очень дорогие заказы. Затем оба графика стабилизировались. График А имеет тенденцию к росту, график В - к падению."
   ]
  },
  {
   "cell_type": "markdown",
   "metadata": {},
   "source": [
    "## График относительного изменения кумулятивного среднего чека группы B к группе A"
   ]
  },
  {
   "cell_type": "code",
   "execution_count": 16,
   "metadata": {},
   "outputs": [
    {
     "data": {
      "image/png": "[encoded data removed]",
      "text/plain": [
       "<Figure size 1080x360 with 1 Axes>"
      ]
     },
     "metadata": {
      "needs_background": "light"
     },
     "output_type": "display_data"
    }
   ],
   "source": [
    "# собираем данные в одном датафрейме\n",
    "mergedCumulativeRevenue = cumulativeRevenueA.merge(cumulativeRevenueB,\n",
    "                                                   left_on='date',\n",
    "                                                   right_on='date',\n",
    "                                                   how='left',\n",
    "                                                   suffixes=['A', 'B'])\n",
    "\n",
    "# cтроим отношение средних чеков\n",
    "plt.plot(mergedCumulativeRevenue['date'],\n",
    "         (mergedCumulativeRevenue['revenueB']/mergedCumulativeRevenue['transactionsB'])\\\n",
    "         /(mergedCumulativeRevenue['revenueA']/mergedCumulativeRevenue['transactionsA'])-1)\n",
    "\n",
    "# добавляем ось X\n",
    "plt.axhline(y=0, color='black', linestyle='--')\n",
    "\n",
    "plt.title('График относительного изменения кумулятивного среднего чека группы B к группе A')\n",
    "plt.xlabel('Дата')\n",
    "plt.ylabel('Отношение ср.чека В/А')\n",
    "plt.xticks(rotation=50)\n",
    "plt.rcParams['figure.figsize'] = [15, 5]\n",
    "plt.grid(True)"
   ]
  },
  {
   "cell_type": "markdown",
   "metadata": {},
   "source": [
    "График различия среднего чека имеет резкие скачки.  В группе В имеются очень крупные заказы. Средние чеки групп А и В практически несопоставимы. После 19/08/2019 наблюдается снижение среднего чека группы В относительно группы А."
   ]
  },
  {
   "cell_type": "markdown",
   "metadata": {},
   "source": [
    "## График кумулятивной конверсии по группам"
   ]
  },
  {
   "cell_type": "code",
   "execution_count": 17,
   "metadata": {},
   "outputs": [
    {
     "data": {
      "image/png": "[encoded data removed]",
      "text/plain": [
       "<Figure size 1080x360 with 1 Axes>"
      ]
     },
     "metadata": {
      "needs_background": "light"
     },
     "output_type": "display_data"
    }
   ],
   "source": [
    "# считаем кумулятивную конверсию\n",
    "cumulativeData['conversion'] = cumulativeData['transactions']/cumulativeData['visitors']\n",
    "\n",
    "# отделяем данные по группе A\n",
    "cumulativeDataA = cumulativeData[cumulativeData['group']=='A']\n",
    "\n",
    "# отделяем данные по группе B\n",
    "cumulativeDataB = cumulativeData[cumulativeData['group']=='B']\n",
    "\n",
    "# строим графики\n",
    "plt.plot(cumulativeDataA['date'], cumulativeDataA['conversion'], label='A')\n",
    "plt.plot(cumulativeDataB['date'], cumulativeDataB['conversion'], label='B')\n",
    "\n",
    "plt.title('График кумулятивного среднего чека по группам')\n",
    "plt.xlabel('Дата')\n",
    "plt.ylabel('Средний чек, руб.')\n",
    "plt.legend()\n",
    "plt.xticks(rotation=50)\n",
    "plt.rcParams['figure.figsize'] = [15, 5]\n",
    "plt.grid(True)"
   ]
  },
  {
   "cell_type": "markdown",
   "metadata": {},
   "source": [
    "В начале теста набдюдаются скачки кумулятивной конверсии для обеих групп. Затем графики стабилизировались. Кумулятивная конверсия группы В стабильно больше, чем группы А."
   ]
  },
  {
   "cell_type": "markdown",
   "metadata": {},
   "source": [
    "## График относительного изменения кумулятивной конверсии группы B к группе A"
   ]
  },
  {
   "cell_type": "code",
   "execution_count": 18,
   "metadata": {},
   "outputs": [
    {
     "data": {
      "image/png": "[encoded data removed]",
      "text/plain": [
       "<Figure size 1080x360 with 1 Axes>"
      ]
     },
     "metadata": {
      "needs_background": "light"
     },
     "output_type": "display_data"
    }
   ],
   "source": [
    "mergedCumulativeConversions = cumulativeDataA[['date','conversion']].merge(\n",
    "    cumulativeDataB[['date','conversion']],\n",
    "    left_on='date',\n",
    "    right_on='date',\n",
    "    how='left',\n",
    "    suffixes=['A', 'B'])\n",
    "\n",
    "plt.plot(mergedCumulativeConversions['date'],\n",
    "         mergedCumulativeConversions['conversionB']\\\n",
    "         /mergedCumulativeConversions['conversionA']-1)\n",
    "\n",
    "plt.axhline(y=0, color='black', linestyle='--')\n",
    "plt.axhline(y=0.15, color='grey', linestyle='--')\n",
    "\n",
    "plt.title('График относительного изменения кумулятивной конверсии группы B к группе A')\n",
    "plt.xlabel('Дата')\n",
    "plt.ylabel('Отношение кум.конверсии В/А')\n",
    "plt.xticks(rotation=50)\n",
    "plt.rcParams['figure.figsize'] = [15, 5]\n",
    "plt.grid(True)"
   ]
  },
  {
   "cell_type": "markdown",
   "metadata": {},
   "source": [
    "В начале теста кумулятивная конверсия группы В резко возросла по отношению к группе А. После 10 дней стабилизировалась."
   ]
  },
  {
   "cell_type": "markdown",
   "metadata": {},
   "source": [
    "## Точечный график количества заказов по пользователям"
   ]
  },
  {
   "cell_type": "code",
   "execution_count": 19,
   "metadata": {},
   "outputs": [
    {
     "data": {
      "image/png": "[encoded data removed]",
      "text/plain": [
       "<Figure size 1080x360 with 1 Axes>"
      ]
     },
     "metadata": {
      "needs_background": "light"
     },
     "output_type": "display_data"
    }
   ],
   "source": [
    "ordersByUsers = (\n",
    "    orders.groupby('visitorId', as_index=False)\n",
    "    .agg({'transactionId': 'nunique'})\n",
    ")\n",
    "ordersByUsers.columns = ['visitorId', 'orders']\n",
    "\n",
    "x_values = pd.Series(range(0,len(ordersByUsers['orders'])))\n",
    "plt.scatter(x_values, ordersByUsers['orders'])\n",
    "\n",
    "plt.title('Точечный график количества заказов по пользователям')\n",
    "plt.xlabel('Индекс пользователя')\n",
    "plt.ylabel('Кол-во заказов, шт.')\n",
    "plt.rcParams['figure.figsize'] = [5, 5]\n",
    "plt.grid(True)\n",
    "None"
   ]
  },
  {
   "cell_type": "markdown",
   "metadata": {},
   "source": [
    "Много пользователей с 2-5 заказами. Чтобы проверить являются ли они выбросами нужно посчитать перцентили."
   ]
  },
  {
   "cell_type": "markdown",
   "metadata": {},
   "source": [
    "## 95-й и 99-й перцентили количества заказов на пользователя"
   ]
  },
  {
   "cell_type": "code",
   "execution_count": 20,
   "metadata": {},
   "outputs": [
    {
     "name": "stdout",
     "output_type": "stream",
     "text": [
      "[1. 2. 4.]\n"
     ]
    }
   ],
   "source": [
    "print(np.percentile(ordersByUsers['orders'],[90,95,99]))"
   ]
  },
  {
   "cell_type": "markdown",
   "metadata": {},
   "source": [
    "Не более 1% пользователей оформили заказ более 4 раза, не более 5% - более 2 раз. Разумно выбрать границей отбора 2 заказа. Тех, кто заказал больше, исключим из дальнейшего анализа, что составит 5% пользователей."
   ]
  },
  {
   "cell_type": "markdown",
   "metadata": {},
   "source": [
    "## Точечный график стоимостей заказов"
   ]
  },
  {
   "cell_type": "code",
   "execution_count": 21,
   "metadata": {},
   "outputs": [
    {
     "data": {
      "image/png": "[encoded data removed]",
      "text/plain": [
       "<Figure size 360x360 with 1 Axes>"
      ]
     },
     "metadata": {
      "needs_background": "light"
     },
     "output_type": "display_data"
    }
   ],
   "source": [
    "x_values = pd.Series(range(0,len(orders['revenue'])))\n",
    "plt.scatter(x_values, orders['revenue'])\n",
    "\n",
    "plt.title('Точечный график стоимостей заказов')\n",
    "plt.xlabel('Индекс пользователя')\n",
    "plt.ylabel('Стоимость заказа, руб.')\n",
    "plt.rcParams['figure.figsize'] = [5, 5]\n",
    "plt.grid(True)\n",
    "None"
   ]
  },
  {
   "cell_type": "markdown",
   "metadata": {},
   "source": [
    "Есть заказы стоимостью около 200 000 и 1 300 000 рублей - явные выбросы. Остальные заказы сливаются, изменим границу построения."
   ]
  },
  {
   "cell_type": "code",
   "execution_count": 22,
   "metadata": {},
   "outputs": [
    {
     "data": {
      "image/png": "[encoded data removed]",
      "text/plain": [
       "<Figure size 360x360 with 1 Axes>"
      ]
     },
     "metadata": {
      "needs_background": "light"
     },
     "output_type": "display_data"
    }
   ],
   "source": [
    "x_values = pd.Series(range(0,len(orders['revenue'])))\n",
    "plt.scatter(x_values, orders['revenue'])\n",
    "plt.ylim(0,0.11*1e6)\n",
    "plt.title('Точечный график стоимостей заказов')\n",
    "plt.xlabel('Индекс пользователя')\n",
    "plt.ylabel('Стоимость заказа, руб.')\n",
    "plt.rcParams['figure.figsize'] = [5, 5]\n",
    "plt.grid(True)\n",
    "None"
   ]
  },
  {
   "cell_type": "markdown",
   "metadata": {},
   "source": [
    "## 95-й и 99-й перцентили стоимости заказов"
   ]
  },
  {
   "cell_type": "code",
   "execution_count": 23,
   "metadata": {},
   "outputs": [
    {
     "name": "stdout",
     "output_type": "stream",
     "text": [
      "[18168.  28000.  58233.2]\n"
     ]
    }
   ],
   "source": [
    "print(np.percentile(orders['revenue'],[90, 95, 99]))"
   ]
  },
  {
   "cell_type": "markdown",
   "metadata": {},
   "source": [
    "Не более 5% заказов дороже 28 000 рублей и не более 1% дороже 58 233,2 рублей. За границу выбросов примем заказы дороже 40 000 рублей, что составит от 1% до 5% пользователей."
   ]
  },
  {
   "cell_type": "markdown",
   "metadata": {},
   "source": [
    "## Статистическая значимость различий в конверсии между группами по «сырым» данным"
   ]
  },
  {
   "cell_type": "code",
   "execution_count": 24,
   "metadata": {},
   "outputs": [
    {
     "name": "stdout",
     "output_type": "stream",
     "text": [
      "p-value: 0.01679\n",
      "Различие в средних: 0.138\n"
     ]
    }
   ],
   "source": [
    "ordersByUsersA = orders[orders['group']=='A'].groupby('visitorId', as_index=False).agg({'transactionId' : pd.Series.nunique})\n",
    "ordersByUsersA.columns = ['visitorId', 'orders']\n",
    "\n",
    "ordersByUsersB = orders[orders['group']=='B'].groupby('visitorId', as_index=False).agg({'transactionId' : pd.Series.nunique})\n",
    "ordersByUsersB.columns = ['visitorId', 'orders']\n",
    "\n",
    "# добавим 0 заказов всем посетителям, которые ничего не купили\n",
    "sampleA = pd.concat([ordersByUsersA['orders'],pd.Series(0, index=np.arange(visitors[visitors['group']=='A']['visitors'].sum() - len(ordersByUsersA['orders'])), name='orders')],axis=0)\n",
    "sampleB = pd.concat([ordersByUsersB['orders'],pd.Series(0, index=np.arange(visitors[visitors['group']=='B']['visitors'].sum() - len(ordersByUsersB['orders'])), name='orders')],axis=0)\n",
    "\n",
    "print(\"p-value: {0:.5f}\".format(stats.mannwhitneyu(sampleA, sampleB)[1]))\n",
    "print(\"Различие в средних: {0:.3f}\".format(sampleB.mean()/sampleA.mean()-1))"
   ]
  },
  {
   "cell_type": "code",
   "execution_count": 24,
   "metadata": {},
   "outputs": [
    {
     "name": "stdout",
     "output_type": "stream",
     "text": [
      "         date  ordersPerDateA  revenuePerDateA  ordersPerDateB  \\\n",
      "0  2019-08-01              24           148579              21   \n",
      "1  2019-08-02              20            93822              24   \n",
      "2  2019-08-03              24           112473              16   \n",
      "3  2019-08-04              16            70825              17   \n",
      "4  2019-08-05              25           124218              23   \n",
      "\n",
      "   revenuePerDateB  visitorsPerDateA  visitorsPerDateB  conversionPerDateA  \\\n",
      "0           101217               719               713            0.033380   \n",
      "1           165531               619               581            0.032310   \n",
      "2           114248               507               509            0.047337   \n",
      "3           108571               717               770            0.022315   \n",
      "4            92428               756               707            0.033069   \n",
      "\n",
      "   conversionPerDateB  \n",
      "0            0.029453  \n",
      "1            0.041308  \n",
      "2            0.031434  \n",
      "3            0.022078  \n",
      "4            0.032532  \n"
     ]
    }
   ],
   "source": [
    "#подготовка данных для расчёта\n",
    "visitorsADaily = visitors[visitors['group'] == 'A'][['date', 'visitors']]\n",
    "visitorsADaily.columns = ['date', 'visitorsPerDateA']\n",
    "\n",
    "visitorsBDaily = visitors[visitors['group'] == 'B'][['date', 'visitors']]\n",
    "visitorsBDaily.columns = ['date', 'visitorsPerDateB']\n",
    "\n",
    "ordersADaily = (\n",
    "    orders[orders['group'] == 'A'][['date', 'transactionId', 'visitorId', 'revenue']]\n",
    "    .groupby('date', as_index=False)\n",
    "    .agg({'transactionId': pd.Series.nunique, 'revenue': 'sum'})\n",
    ")\n",
    "ordersADaily.columns = ['date', 'ordersPerDateA', 'revenuePerDateA']\n",
    "\n",
    "ordersBDaily = (\n",
    "    orders[orders['group'] == 'B'][['date', 'transactionId', 'visitorId', 'revenue']]\n",
    "    .groupby('date', as_index=False)\n",
    "    .agg({'transactionId': pd.Series.nunique, 'revenue': 'sum'})\n",
    ")\n",
    "ordersBDaily.columns = ['date', 'ordersPerDateB', 'revenuePerDateB']\n",
    "\n",
    "data = (\n",
    "    ordersADaily.merge(\n",
    "        ordersBDaily, left_on='date', right_on='date', how='left'\n",
    "    )\n",
    "    .merge(visitorsADaily, left_on='date', right_on='date', how='left')\n",
    "    .merge(visitorsBDaily, left_on='date', right_on='date', how='left')\n",
    ")\n",
    "data['conversionPerDateA'] = data['ordersPerDateA'] / data['visitorsPerDateA']\n",
    "data['conversionPerDateB'] = data['ordersPerDateB'] / data['visitorsPerDateB']\n",
    "\n",
    "print(data.head(5))"
   ]
  },
  {
   "cell_type": "markdown",
   "metadata": {},
   "source": [
    "Проверим статистическую значимость различий в конверсии между сегментами.\\\n",
    "Нулевая гипотеза: различий в конверсии между группами нет.\\\n",
    "Альтернативная гипотеза: различия в конверсии между группами есть."
   ]
  },
  {
   "cell_type": "code",
   "execution_count": 25,
   "metadata": {},
   "outputs": [
    {
     "name": "stdout",
     "output_type": "stream",
     "text": [
      "p-value: 0.086\n",
      "Относительное различие конверсий В/А: 0.150\n"
     ]
    }
   ],
   "source": [
    "print('p-value: {0:.3f}'.format(stats.mannwhitneyu(data['conversionPerDateA'], data['conversionPerDateB'])[1]))\n",
    "print('Относительное различие конверсий В/А: {0:.3f}'.format(data['conversionPerDateB'].mean()/ data['conversionPerDateA'].mean()-1))"
   ]
  },
  {
   "cell_type": "markdown",
   "metadata": {},
   "source": [
    "По «сырым» данным статистически значимых различий в конверсии групп A и B нет.\\\n",
    "P-value - 0,086 больше 0.05. Значит, нет причин отвергать нулевую гипотезу и считать, что в конверсии есть статистически значимые различия.\\\n",
    "При этом, коверсия группы B выше конверсии группы A на 15%."
   ]
  },
  {
   "cell_type": "markdown",
   "metadata": {},
   "source": [
    "## Статистическая значимость различий в среднем чеке заказа между группами по «сырым» данным"
   ]
  },
  {
   "cell_type": "markdown",
   "metadata": {},
   "source": [
    "Проверим статистическую значимость различий в среднем чеке между сегментами.\\\n",
    "Нулевая гипотеза: различий в среднем чеке между группами нет.\\\n",
    "Альтернативная гипотеза: различия в среднем чеке между группами есть."
   ]
  },
  {
   "cell_type": "code",
   "execution_count": 26,
   "metadata": {},
   "outputs": [
    {
     "name": "stdout",
     "output_type": "stream",
     "text": [
      "p-value: 0.729\n",
      "Относительное различие средних чеков В/А: 0.259\n"
     ]
    }
   ],
   "source": [
    "print('p-value: {0:.3f}'.format(stats.mannwhitneyu(orders[orders['group']=='A']['revenue'], orders[orders['group']=='B']['revenue'])[1]))\n",
    "print('Относительное различие средних чеков В/А: {0:.3f}'.format(orders[orders['group']=='B']['revenue'].mean()/orders[orders['group']=='A']['revenue'].mean()-1))"
   ]
  },
  {
   "cell_type": "markdown",
   "metadata": {},
   "source": [
    "P-value больше 0.05. Значит, нет причин отвергать нулевую гипотезу и считать, что в среднем чеке есть статистически значимые различия.\\\n",
    "Впрочем, средний чек группы B значительно выше среднего чека группы A - на 26%."
   ]
  },
  {
   "cell_type": "markdown",
   "metadata": {},
   "source": [
    "## Статистическая значимость различий в конверсии между группами по «очищенным» данным"
   ]
  },
  {
   "cell_type": "markdown",
   "metadata": {},
   "source": [
    "За аномальных пользователей приняли тех, кто совершил более 2 заказов или совершил заказ более чем на 40 000 рублей."
   ]
  },
  {
   "cell_type": "code",
   "execution_count": 27,
   "metadata": {},
   "outputs": [
    {
     "name": "stdout",
     "output_type": "stream",
     "text": [
      "1099    148427295\n",
      "44      199603092\n",
      "55      237748145\n",
      "59      249864742\n",
      "684     358944393\n",
      "Name: visitorId, dtype: int64\n",
      "55\n"
     ]
    }
   ],
   "source": [
    "manyOrder = 2\n",
    "expensiveOrder = 40000\n",
    "\n",
    "ordersByUsers = (orders\\\n",
    "    .groupby('visitorId', as_index=False)\n",
    "    .agg({'transactionId': pd.Series.nunique})\n",
    ")\n",
    "ordersByUsers.columns = ['visitorId', 'orders']\n",
    "\n",
    "usersWithManyOrders = ordersByUsers[ordersByUsers['orders'] > manyOrder]['visitorId']\n",
    "\n",
    "usersWithExpensiveOrders = orders[orders['revenue'] > expensiveOrder]['visitorId']\n",
    "\n",
    "abnormalUsers = (\n",
    "    pd.concat([usersWithManyOrders, usersWithExpensiveOrders], axis=0)\n",
    "    .drop_duplicates()\n",
    "    .sort_values()\n",
    ")\n",
    "print(abnormalUsers.head(5))\n",
    "print(abnormalUsers.shape[0])"
   ]
  },
  {
   "cell_type": "markdown",
   "metadata": {},
   "source": [
    "55 аномальных пользователей. Проверим, есть ли среди них те, кто присутствует в обеих группах теста:"
   ]
  },
  {
   "cell_type": "code",
   "execution_count": 33,
   "metadata": {},
   "outputs": [
    {
     "name": "stdout",
     "output_type": "stream",
     "text": [
      "25\n"
     ]
    }
   ],
   "source": [
    "print(len(list(set(ABvisitors) & set(abnormalUsers))))"
   ]
  },
  {
   "cell_type": "markdown",
   "metadata": {},
   "source": [
    "25 аномальных пользователей содержатся в обеих группах. Исключение их из анализа сделает результаты точнее."
   ]
  },
  {
   "cell_type": "code",
   "execution_count": 34,
   "metadata": {},
   "outputs": [
    {
     "name": "stdout",
     "output_type": "stream",
     "text": [
      "         date  ordersPerDateA  revenuePerDateA  ordersPerDateB  \\\n",
      "0  2019-08-01              18           112340              19   \n",
      "1  2019-08-02              19            92132              23   \n",
      "2  2019-08-03              24           112473              14   \n",
      "3  2019-08-04              11            41176              15   \n",
      "4  2019-08-05              24           109723              22   \n",
      "\n",
      "   revenuePerDateB  visitorsPerDateA  visitorsPerDateB  conversionPerDateA  \\\n",
      "0            78258               719               713            0.025035   \n",
      "1           162043               619               581            0.030695   \n",
      "2            67049               507               509            0.047337   \n",
      "3           105291               717               770            0.015342   \n",
      "4            90008               756               707            0.031746   \n",
      "\n",
      "   conversionPerDateB  \n",
      "0            0.026648  \n",
      "1            0.039587  \n",
      "2            0.027505  \n",
      "3            0.019481  \n",
      "4            0.031117  \n"
     ]
    }
   ],
   "source": [
    "#подготовка данных для расчёта\n",
    "\n",
    "ordersADailyFiltered = (\n",
    "    orders[np.logical_and(orders['group'] == 'A',\n",
    "                          np.logical_not(orders['visitorId'].isin(abnormalUsers)),\n",
    "                         )\n",
    "            ][['date', 'transactionId', 'visitorId', 'revenue']]\n",
    "    .groupby('date', as_index=False)\n",
    "    .agg({'transactionId': pd.Series.nunique, 'revenue': 'sum'})\n",
    ")\n",
    "ordersADailyFiltered.columns = ['date', 'ordersPerDateA', 'revenuePerDateA']\n",
    "\n",
    "ordersBDailyFiltered = (\n",
    "    orders[np.logical_and(orders['group'] == 'B',\n",
    "                          np.logical_not(orders['visitorId'].isin(abnormalUsers)),\n",
    "                         )\n",
    "            ][['date', 'transactionId', 'visitorId', 'revenue']]\n",
    "    .groupby('date', as_index=False)\n",
    "    .agg({'transactionId': pd.Series.nunique, 'revenue': 'sum'})\n",
    ")\n",
    "ordersBDailyFiltered.columns = ['date', 'ordersPerDateB', 'revenuePerDateB']\n",
    "\n",
    "dataFiltered = (\n",
    "    ordersADailyFiltered.merge(\n",
    "        ordersBDailyFiltered, left_on='date', right_on='date', how='left'\n",
    "    )\n",
    "    .merge(visitorsADaily, left_on='date', right_on='date', how='left')\n",
    "    .merge(visitorsBDaily, left_on='date', right_on='date', how='left')\n",
    ")\n",
    "dataFiltered['conversionPerDateA'] = dataFiltered['ordersPerDateA'] / dataFiltered['visitorsPerDateA']\n",
    "dataFiltered['conversionPerDateB'] = dataFiltered['ordersPerDateB'] / dataFiltered['visitorsPerDateB']\n",
    "\n",
    "print(dataFiltered.head(5))"
   ]
  },
  {
   "cell_type": "markdown",
   "metadata": {},
   "source": [
    "Проверим статистическую значимость различий в конверсии между сегментами после очистки данных.\\\n",
    "Нулевая гипотеза: различий в конверсии между группами нет.\\\n",
    "Альтернативная гипотеза: различия в конверсии между группами есть."
   ]
  },
  {
   "cell_type": "code",
   "execution_count": 35,
   "metadata": {},
   "outputs": [
    {
     "name": "stdout",
     "output_type": "stream",
     "text": [
      "p-value: 0.024\n",
      "Относительное различие конверсий В/А: 0.202\n"
     ]
    }
   ],
   "source": [
    "print('p-value: {0:.3f}'.format(stats.mannwhitneyu(dataFiltered['conversionPerDateA'], dataFiltered['conversionPerDateB'])[1]))\n",
    "print('Относительное различие конверсий В/А: {0:.3f}'.format(dataFiltered['conversionPerDateB'].mean() / dataFiltered['conversionPerDateA'].mean()-1))"
   ]
  },
  {
   "cell_type": "markdown",
   "metadata": {},
   "source": [
    "После \"очистки\" данных от аномальных пользователей p-value составил 0,024 < 0,05. Это говорит о том, что нулевая гипотеза отвергнута и различия в конверсии между группами А и В имеется. При этом конверсия группы В на 20% больше конверсии группы А."
   ]
  },
  {
   "cell_type": "markdown",
   "metadata": {},
   "source": [
    "## Статистическая значимость различий в среднем чеке заказа между группами по «очищенным» данным"
   ]
  },
  {
   "cell_type": "markdown",
   "metadata": {},
   "source": [
    "Проверим статистическую значимость различий в среднем чеке между сегментами после очистки данных.\n",
    "Нулевая гипотеза: различий в среднем чеке между группами нет.\n",
    "Альтернативная гипотеза: различия в среднем чеке между группами есть."
   ]
  },
  {
   "cell_type": "code",
   "execution_count": 37,
   "metadata": {},
   "outputs": [
    {
     "name": "stdout",
     "output_type": "stream",
     "text": [
      "p-value: 0.916\n",
      "Относительное различие средних чеков В/А: 0.058\n"
     ]
    }
   ],
   "source": [
    "print(\n",
    "    'p-value: {0:.3f}'.format(\n",
    "        stats.mannwhitneyu(\n",
    "            orders[\n",
    "                np.logical_and(\n",
    "                    orders['group'] == 'A',\n",
    "                    np.logical_not(orders['visitorId'].isin(abnormalUsers)),\n",
    "                )\n",
    "            ]['revenue'],\n",
    "            orders[\n",
    "                np.logical_and(\n",
    "                    orders['group'] == 'B',\n",
    "                    np.logical_not(orders['visitorId'].isin(abnormalUsers)),\n",
    "                )\n",
    "            ]['revenue'],\n",
    "        )[1]\n",
    "    )\n",
    ")\n",
    "\n",
    "print(\n",
    "    \"Относительное различие средних чеков В/А: {0:.3f}\".format(\n",
    "        orders[\n",
    "            np.logical_and(\n",
    "                orders['group'] == 'B',\n",
    "                np.logical_not(orders['visitorId'].isin(abnormalUsers)),\n",
    "            )\n",
    "        ]['revenue'].mean()\n",
    "        / orders[\n",
    "            np.logical_and(\n",
    "                orders['group'] == 'A',\n",
    "                np.logical_not(orders['visitorId'].isin(abnormalUsers)),\n",
    "            )\n",
    "        ]['revenue'].mean()\n",
    "        - 1\n",
    "    )\n",
    ")"
   ]
  },
  {
   "cell_type": "markdown",
   "metadata": {},
   "source": [
    "P-value после \"очистки\" по-прежнему больше 0.05. Значит, нет причин отвергать нулевую гипотезу и считать, что в среднем чеке есть различия.\\\n",
    "Отличие среднего чека группы B от среднего чека группы A после \"очистки данных\" изменилось с 26% на 5,8%."
   ]
  },
  {
   "cell_type": "markdown",
   "metadata": {},
   "source": [
    "## Решение по результатам теста"
   ]
  },
  {
   "cell_type": "markdown",
   "metadata": {},
   "source": [
    "1. По «сырым» данным статистически значимых различий в конверсии групп A и B нет.\\\n",
    "P-value - 0,086 больше 0.05. Значит, нет причин отвергать нулевую гипотезу и считать, что в конверсии есть статистически значимые различия.\\\n",
    "При этом, коверсия группы B выше конверсии группы A на 15%.\n",
    "\n",
    "2. После \"очистки\" данных от аномальных пользователей p-value составил 0,024 < 0,05. Это говорит о том, что нулевая гипотеза отвергнута и различия в конверсии между группами А и В имеется. При этом конверсия группы В на 20% больше конверсии группы А.\n",
    "\n",
    "3. P-value (0,729) больше 0.05. Значит, нет причин отвергать нулевую гипотезу и считать, что в среднем чеке есть статистически значимые различия.\\\n",
    "Впрочем, средний чек группы B значительно выше среднего чека группы A - на 26%.\n",
    "\n",
    "4. P-value после \"очистки\" (0,916) по-прежнему больше 0.05. Значит, нет причин отвергать нулевую гипотезу и считать, что в среднем чеке есть различия.\\\n",
    "Отличие среднего чека группы B от среднего чека группы A после \"очистки данных\" изменилось с 26% на 5,8%.\n",
    "\n",
    "Итоги:\n",
    "* Нет статистически значимого различия по конверсии между группами по «сырым» данным.\n",
    "* Есть статистически значимое различие по конверсии между группами по данным после фильтрации аномалий.\n",
    "* Нет статистически значимого различия по среднему чеку между группами ни по «сырым», ни по данным после фильтрации аномалий.\n",
    "* График относительного изменения кумулятивной конверсии группы B к группе A стабилизировался и имеет некоторую тенденцию к уменьшению разницы, но выше него.\n",
    "\n",
    "**Вывод:** Средние чеки не отличаются, но у группы В конверсия выше на 20%. Можно остановить тест и зафиксировать победу группы В."
   ]
  }
 ],
 "metadata": {
  "ExecuteTimeLog": [
   {
    "duration": 439,
    "start_time": "2022-10-04T14:34:51.641Z"
   },
   {
    "duration": 77,
    "start_time": "2022-10-04T14:34:57.414Z"
   },
   {
    "duration": 29,
    "start_time": "2022-10-04T14:35:14.493Z"
   },
   {
    "duration": 11,
    "start_time": "2022-10-04T14:37:50.134Z"
   },
   {
    "duration": 85,
    "start_time": "2022-10-04T14:38:25.934Z"
   },
   {
    "duration": 7,
    "start_time": "2022-10-04T14:38:31.823Z"
   },
   {
    "duration": 10,
    "start_time": "2022-10-04T14:43:12.333Z"
   },
   {
    "duration": 10,
    "start_time": "2022-10-04T14:43:18.922Z"
   },
   {
    "duration": 842,
    "start_time": "2022-10-04T15:32:58.120Z"
   },
   {
    "duration": 8,
    "start_time": "2022-10-04T15:32:58.964Z"
   },
   {
    "duration": 16,
    "start_time": "2022-10-04T15:32:58.973Z"
   },
   {
    "duration": 88,
    "start_time": "2022-10-04T15:32:58.991Z"
   },
   {
    "duration": 49,
    "start_time": "2022-10-04T15:34:20.024Z"
   },
   {
    "duration": 70,
    "start_time": "2022-10-04T15:35:00.728Z"
   },
   {
    "duration": 5,
    "start_time": "2022-10-04T15:36:12.368Z"
   },
   {
    "duration": 870,
    "start_time": "2022-10-04T15:46:40.913Z"
   },
   {
    "duration": 8,
    "start_time": "2022-10-04T15:46:41.785Z"
   },
   {
    "duration": 8,
    "start_time": "2022-10-04T15:46:41.794Z"
   },
   {
    "duration": 40,
    "start_time": "2022-10-04T15:46:41.803Z"
   },
   {
    "duration": 16,
    "start_time": "2022-10-04T15:46:41.846Z"
   },
   {
    "duration": 75,
    "start_time": "2022-10-04T15:46:41.863Z"
   },
   {
    "duration": 72,
    "start_time": "2022-10-04T15:47:10.266Z"
   },
   {
    "duration": 86,
    "start_time": "2022-10-04T15:47:40.097Z"
   },
   {
    "duration": 98,
    "start_time": "2022-10-04T15:47:47.729Z"
   },
   {
    "duration": 242,
    "start_time": "2022-10-04T15:50:55.104Z"
   },
   {
    "duration": 833,
    "start_time": "2022-10-04T15:53:09.620Z"
   },
   {
    "duration": 8,
    "start_time": "2022-10-04T15:53:10.455Z"
   },
   {
    "duration": 15,
    "start_time": "2022-10-04T15:53:10.464Z"
   },
   {
    "duration": 41,
    "start_time": "2022-10-04T15:53:10.480Z"
   },
   {
    "duration": 16,
    "start_time": "2022-10-04T15:53:10.523Z"
   },
   {
    "duration": 229,
    "start_time": "2022-10-04T15:53:10.540Z"
   },
   {
    "duration": 82,
    "start_time": "2022-10-04T15:53:18.588Z"
   },
   {
    "duration": 463,
    "start_time": "2022-10-04T15:53:52.320Z"
   },
   {
    "duration": 1039,
    "start_time": "2022-10-04T15:54:03.676Z"
   },
   {
    "duration": 9,
    "start_time": "2022-10-04T15:54:04.717Z"
   },
   {
    "duration": 9,
    "start_time": "2022-10-04T15:54:04.727Z"
   },
   {
    "duration": 42,
    "start_time": "2022-10-04T15:54:04.738Z"
   },
   {
    "duration": 18,
    "start_time": "2022-10-04T15:54:04.784Z"
   },
   {
    "duration": 287,
    "start_time": "2022-10-04T15:54:04.804Z"
   },
   {
    "duration": 326,
    "start_time": "2022-10-04T15:54:05.092Z"
   },
   {
    "duration": 219,
    "start_time": "2022-10-04T15:54:13.381Z"
   },
   {
    "duration": 232,
    "start_time": "2022-10-04T16:10:08.264Z"
   },
   {
    "duration": 133,
    "start_time": "2022-10-04T16:14:36.251Z"
   },
   {
    "duration": 334,
    "start_time": "2022-10-04T16:27:18.101Z"
   },
   {
    "duration": 1081,
    "start_time": "2022-10-04T16:36:11.158Z"
   },
   {
    "duration": 8,
    "start_time": "2022-10-04T16:36:12.241Z"
   },
   {
    "duration": 9,
    "start_time": "2022-10-04T16:36:12.250Z"
   },
   {
    "duration": 47,
    "start_time": "2022-10-04T16:36:12.261Z"
   },
   {
    "duration": 16,
    "start_time": "2022-10-04T16:36:12.310Z"
   },
   {
    "duration": 269,
    "start_time": "2022-10-04T16:36:12.328Z"
   },
   {
    "duration": 253,
    "start_time": "2022-10-04T16:36:12.599Z"
   },
   {
    "duration": 223,
    "start_time": "2022-10-04T16:36:12.853Z"
   },
   {
    "duration": 320,
    "start_time": "2022-10-04T16:36:13.078Z"
   },
   {
    "duration": 233,
    "start_time": "2022-10-04T16:36:13.399Z"
   },
   {
    "duration": 249,
    "start_time": "2022-10-04T16:36:31.317Z"
   },
   {
    "duration": 316,
    "start_time": "2022-10-04T16:36:46.486Z"
   },
   {
    "duration": 229,
    "start_time": "2022-10-04T16:37:24.965Z"
   },
   {
    "duration": 239,
    "start_time": "2022-10-04T16:37:44.198Z"
   },
   {
    "duration": 226,
    "start_time": "2022-10-04T16:37:56.797Z"
   },
   {
    "duration": 1068,
    "start_time": "2022-10-04T16:41:33.292Z"
   },
   {
    "duration": 7,
    "start_time": "2022-10-04T16:41:34.362Z"
   },
   {
    "duration": 7,
    "start_time": "2022-10-04T16:41:34.371Z"
   },
   {
    "duration": 41,
    "start_time": "2022-10-04T16:41:34.380Z"
   },
   {
    "duration": 16,
    "start_time": "2022-10-04T16:41:34.423Z"
   },
   {
    "duration": 236,
    "start_time": "2022-10-04T16:41:34.440Z"
   },
   {
    "duration": 236,
    "start_time": "2022-10-04T16:41:34.677Z"
   },
   {
    "duration": 225,
    "start_time": "2022-10-04T16:41:34.914Z"
   },
   {
    "duration": 321,
    "start_time": "2022-10-04T16:41:35.140Z"
   },
   {
    "duration": 254,
    "start_time": "2022-10-04T16:41:35.462Z"
   },
   {
    "duration": 369,
    "start_time": "2022-10-04T16:41:35.717Z"
   },
   {
    "duration": 321,
    "start_time": "2022-10-04T16:42:16.676Z"
   },
   {
    "duration": 294,
    "start_time": "2022-10-04T16:42:39.971Z"
   },
   {
    "duration": 68,
    "start_time": "2022-10-04T16:45:17.691Z"
   },
   {
    "duration": 351,
    "start_time": "2022-10-04T16:46:07.396Z"
   },
   {
    "duration": 1067,
    "start_time": "2022-10-04T16:48:09.708Z"
   },
   {
    "duration": 8,
    "start_time": "2022-10-04T16:48:10.776Z"
   },
   {
    "duration": 11,
    "start_time": "2022-10-04T16:48:10.785Z"
   },
   {
    "duration": 41,
    "start_time": "2022-10-04T16:48:10.798Z"
   },
   {
    "duration": 17,
    "start_time": "2022-10-04T16:48:10.840Z"
   },
   {
    "duration": 259,
    "start_time": "2022-10-04T16:48:10.858Z"
   },
   {
    "duration": 228,
    "start_time": "2022-10-04T16:48:11.121Z"
   },
   {
    "duration": 247,
    "start_time": "2022-10-04T16:48:11.351Z"
   },
   {
    "duration": 363,
    "start_time": "2022-10-04T16:48:11.599Z"
   },
   {
    "duration": 253,
    "start_time": "2022-10-04T16:48:11.964Z"
   },
   {
    "duration": 328,
    "start_time": "2022-10-04T16:48:12.221Z"
   },
   {
    "duration": 101,
    "start_time": "2022-10-04T16:48:12.550Z"
   },
   {
    "duration": 111,
    "start_time": "2022-10-04T16:49:34.346Z"
   },
   {
    "duration": 113,
    "start_time": "2022-10-04T16:50:02.620Z"
   },
   {
    "duration": 129,
    "start_time": "2022-10-04T16:51:41.299Z"
   },
   {
    "duration": 45,
    "start_time": "2022-10-05T05:08:16.772Z"
   },
   {
    "duration": 1265,
    "start_time": "2022-10-05T05:08:40.393Z"
   },
   {
    "duration": 11,
    "start_time": "2022-10-05T05:08:41.660Z"
   },
   {
    "duration": 10,
    "start_time": "2022-10-05T05:08:41.674Z"
   },
   {
    "duration": 102,
    "start_time": "2022-10-05T05:08:41.687Z"
   },
   {
    "duration": 54,
    "start_time": "2022-10-05T05:08:41.790Z"
   },
   {
    "duration": 252,
    "start_time": "2022-10-05T05:08:41.845Z"
   },
   {
    "duration": 285,
    "start_time": "2022-10-05T05:08:42.099Z"
   },
   {
    "duration": 276,
    "start_time": "2022-10-05T05:08:42.386Z"
   },
   {
    "duration": 401,
    "start_time": "2022-10-05T05:08:42.663Z"
   },
   {
    "duration": 278,
    "start_time": "2022-10-05T05:08:43.067Z"
   },
   {
    "duration": 336,
    "start_time": "2022-10-05T05:08:43.350Z"
   },
   {
    "duration": 128,
    "start_time": "2022-10-05T05:08:43.687Z"
   },
   {
    "duration": 112,
    "start_time": "2022-10-05T05:08:43.817Z"
   },
   {
    "duration": 338,
    "start_time": "2022-10-05T05:10:55.394Z"
   },
   {
    "duration": 9,
    "start_time": "2022-10-05T05:12:38.520Z"
   },
   {
    "duration": 8,
    "start_time": "2022-10-05T05:12:47.953Z"
   },
   {
    "duration": 116,
    "start_time": "2022-10-05T05:13:55.833Z"
   },
   {
    "duration": 1162,
    "start_time": "2022-10-05T05:16:00.009Z"
   },
   {
    "duration": 106,
    "start_time": "2022-10-05T05:16:17.273Z"
   },
   {
    "duration": 5,
    "start_time": "2022-10-05T05:18:39.753Z"
   },
   {
    "duration": 113,
    "start_time": "2022-10-05T05:24:27.554Z"
   },
   {
    "duration": 173,
    "start_time": "2022-10-05T05:27:28.897Z"
   },
   {
    "duration": 158,
    "start_time": "2022-10-05T05:27:47.972Z"
   },
   {
    "duration": 4,
    "start_time": "2022-10-05T05:28:10.370Z"
   },
   {
    "duration": 164,
    "start_time": "2022-10-05T05:33:27.521Z"
   },
   {
    "duration": 9,
    "start_time": "2022-10-05T05:34:12.922Z"
   },
   {
    "duration": 4,
    "start_time": "2022-10-05T05:34:32.190Z"
   },
   {
    "duration": 116,
    "start_time": "2022-10-05T05:35:34.910Z"
   },
   {
    "duration": 128,
    "start_time": "2022-10-05T05:35:52.462Z"
   },
   {
    "duration": 118,
    "start_time": "2022-10-05T05:36:08.182Z"
   },
   {
    "duration": 117,
    "start_time": "2022-10-05T05:36:14.334Z"
   },
   {
    "duration": 115,
    "start_time": "2022-10-05T05:36:20.784Z"
   },
   {
    "duration": 98,
    "start_time": "2022-10-05T06:16:13.174Z"
   },
   {
    "duration": 100,
    "start_time": "2022-10-05T06:16:22.156Z"
   },
   {
    "duration": 189,
    "start_time": "2022-10-05T06:17:14.491Z"
   },
   {
    "duration": 185,
    "start_time": "2022-10-05T06:19:42.444Z"
   },
   {
    "duration": 227,
    "start_time": "2022-10-05T06:20:00.761Z"
   },
   {
    "duration": 10,
    "start_time": "2022-10-05T06:24:39.150Z"
   },
   {
    "duration": 1097,
    "start_time": "2022-10-05T06:26:38.050Z"
   },
   {
    "duration": 9,
    "start_time": "2022-10-05T06:26:39.149Z"
   },
   {
    "duration": 9,
    "start_time": "2022-10-05T06:26:39.160Z"
   },
   {
    "duration": 49,
    "start_time": "2022-10-05T06:26:39.171Z"
   },
   {
    "duration": 23,
    "start_time": "2022-10-05T06:26:39.223Z"
   },
   {
    "duration": 260,
    "start_time": "2022-10-05T06:26:39.249Z"
   },
   {
    "duration": 274,
    "start_time": "2022-10-05T06:26:39.511Z"
   },
   {
    "duration": 251,
    "start_time": "2022-10-05T06:26:39.786Z"
   },
   {
    "duration": 359,
    "start_time": "2022-10-05T06:26:40.039Z"
   },
   {
    "duration": 269,
    "start_time": "2022-10-05T06:26:40.399Z"
   },
   {
    "duration": 326,
    "start_time": "2022-10-05T06:26:40.670Z"
   },
   {
    "duration": 119,
    "start_time": "2022-10-05T06:26:40.997Z"
   },
   {
    "duration": 17,
    "start_time": "2022-10-05T06:26:41.118Z"
   },
   {
    "duration": 134,
    "start_time": "2022-10-05T06:26:41.139Z"
   },
   {
    "duration": 131,
    "start_time": "2022-10-05T06:26:41.275Z"
   },
   {
    "duration": 4,
    "start_time": "2022-10-05T06:26:41.408Z"
   },
   {
    "duration": 22,
    "start_time": "2022-10-05T06:26:41.413Z"
   },
   {
    "duration": 223,
    "start_time": "2022-10-05T06:26:41.436Z"
   },
   {
    "duration": 4,
    "start_time": "2022-10-05T06:30:27.842Z"
   },
   {
    "duration": 9,
    "start_time": "2022-10-05T06:30:55.882Z"
   },
   {
    "duration": 1067,
    "start_time": "2022-10-05T06:33:32.747Z"
   },
   {
    "duration": 9,
    "start_time": "2022-10-05T06:33:33.816Z"
   },
   {
    "duration": 9,
    "start_time": "2022-10-05T06:33:33.826Z"
   },
   {
    "duration": 42,
    "start_time": "2022-10-05T06:33:33.837Z"
   },
   {
    "duration": 17,
    "start_time": "2022-10-05T06:33:33.881Z"
   },
   {
    "duration": 252,
    "start_time": "2022-10-05T06:33:33.899Z"
   },
   {
    "duration": 274,
    "start_time": "2022-10-05T06:33:34.153Z"
   },
   {
    "duration": 257,
    "start_time": "2022-10-05T06:33:34.429Z"
   },
   {
    "duration": 351,
    "start_time": "2022-10-05T06:33:34.688Z"
   },
   {
    "duration": 272,
    "start_time": "2022-10-05T06:33:35.041Z"
   },
   {
    "duration": 366,
    "start_time": "2022-10-05T06:33:35.315Z"
   },
   {
    "duration": 119,
    "start_time": "2022-10-05T06:33:35.682Z"
   },
   {
    "duration": 5,
    "start_time": "2022-10-05T06:33:35.802Z"
   },
   {
    "duration": 139,
    "start_time": "2022-10-05T06:33:35.809Z"
   },
   {
    "duration": 122,
    "start_time": "2022-10-05T06:33:35.950Z"
   },
   {
    "duration": 3,
    "start_time": "2022-10-05T06:33:36.074Z"
   },
   {
    "duration": 260,
    "start_time": "2022-10-05T06:33:36.079Z"
   },
   {
    "duration": 10,
    "start_time": "2022-10-05T06:33:36.341Z"
   },
   {
    "duration": 194,
    "start_time": "2022-10-05T06:34:50.305Z"
   },
   {
    "duration": 7,
    "start_time": "2022-10-05T06:36:16.788Z"
   },
   {
    "duration": 6,
    "start_time": "2022-10-05T06:36:20.812Z"
   },
   {
    "duration": 8,
    "start_time": "2022-10-05T06:36:46.243Z"
   },
   {
    "duration": 1080,
    "start_time": "2022-10-05T06:54:29.226Z"
   },
   {
    "duration": 8,
    "start_time": "2022-10-05T06:54:30.307Z"
   },
   {
    "duration": 9,
    "start_time": "2022-10-05T06:54:30.316Z"
   },
   {
    "duration": 48,
    "start_time": "2022-10-05T06:54:30.326Z"
   },
   {
    "duration": 16,
    "start_time": "2022-10-05T06:54:30.376Z"
   },
   {
    "duration": 252,
    "start_time": "2022-10-05T06:54:30.394Z"
   },
   {
    "duration": 278,
    "start_time": "2022-10-05T06:54:30.647Z"
   },
   {
    "duration": 257,
    "start_time": "2022-10-05T06:54:30.926Z"
   },
   {
    "duration": 355,
    "start_time": "2022-10-05T06:54:31.184Z"
   },
   {
    "duration": 278,
    "start_time": "2022-10-05T06:54:31.541Z"
   },
   {
    "duration": 384,
    "start_time": "2022-10-05T06:54:31.821Z"
   },
   {
    "duration": 131,
    "start_time": "2022-10-05T06:54:32.207Z"
   },
   {
    "duration": 5,
    "start_time": "2022-10-05T06:54:32.340Z"
   },
   {
    "duration": 132,
    "start_time": "2022-10-05T06:54:32.347Z"
   },
   {
    "duration": 140,
    "start_time": "2022-10-05T06:54:32.481Z"
   },
   {
    "duration": 13,
    "start_time": "2022-10-05T06:54:32.622Z"
   },
   {
    "duration": 200,
    "start_time": "2022-10-05T06:54:32.637Z"
   },
   {
    "duration": 5,
    "start_time": "2022-10-05T06:54:32.839Z"
   },
   {
    "duration": 11,
    "start_time": "2022-10-05T06:54:32.845Z"
   },
   {
    "duration": 39,
    "start_time": "2022-10-05T07:02:30.485Z"
   },
   {
    "duration": 9,
    "start_time": "2022-10-05T07:02:42.805Z"
   },
   {
    "duration": 15,
    "start_time": "2022-10-05T07:02:46.248Z"
   },
   {
    "duration": 117,
    "start_time": "2022-10-05T07:05:58.166Z"
   },
   {
    "duration": 148,
    "start_time": "2022-10-05T07:08:41.073Z"
   },
   {
    "duration": 191,
    "start_time": "2022-10-05T07:10:54.434Z"
   },
   {
    "duration": 144,
    "start_time": "2022-10-05T07:12:08.459Z"
   },
   {
    "duration": 169,
    "start_time": "2022-10-05T07:13:28.978Z"
   },
   {
    "duration": 167,
    "start_time": "2022-10-05T07:13:43.205Z"
   },
   {
    "duration": 151,
    "start_time": "2022-10-05T07:15:51.794Z"
   },
   {
    "duration": 170,
    "start_time": "2022-10-05T07:17:19.497Z"
   },
   {
    "duration": 165,
    "start_time": "2022-10-05T07:17:41.103Z"
   },
   {
    "duration": 157,
    "start_time": "2022-10-05T07:18:14.393Z"
   },
   {
    "duration": 137,
    "start_time": "2022-10-05T07:19:01.378Z"
   },
   {
    "duration": 152,
    "start_time": "2022-10-05T07:20:51.297Z"
   },
   {
    "duration": 1036,
    "start_time": "2022-10-05T07:23:20.162Z"
   },
   {
    "duration": 13,
    "start_time": "2022-10-05T07:23:45.698Z"
   },
   {
    "duration": 18,
    "start_time": "2022-10-05T07:46:46.898Z"
   },
   {
    "duration": 46,
    "start_time": "2022-10-05T07:47:38.028Z"
   },
   {
    "duration": 44,
    "start_time": "2022-10-05T07:48:42.133Z"
   },
   {
    "duration": 6,
    "start_time": "2022-10-05T07:48:52.988Z"
   },
   {
    "duration": 13,
    "start_time": "2022-10-05T07:49:11.892Z"
   },
   {
    "duration": 164,
    "start_time": "2022-10-05T07:49:19.286Z"
   },
   {
    "duration": 39,
    "start_time": "2022-10-05T07:49:49.948Z"
   },
   {
    "duration": 40,
    "start_time": "2022-10-05T07:53:53.069Z"
   },
   {
    "duration": 39,
    "start_time": "2022-10-05T07:54:40.489Z"
   },
   {
    "duration": 54,
    "start_time": "2022-10-05T07:54:53.814Z"
   },
   {
    "duration": 42,
    "start_time": "2022-10-05T07:55:01.188Z"
   },
   {
    "duration": 7,
    "start_time": "2022-10-05T07:55:31.292Z"
   },
   {
    "duration": 1135,
    "start_time": "2022-10-05T07:56:40.185Z"
   },
   {
    "duration": 8,
    "start_time": "2022-10-05T07:56:41.322Z"
   },
   {
    "duration": 15,
    "start_time": "2022-10-05T07:56:41.331Z"
   },
   {
    "duration": 79,
    "start_time": "2022-10-05T07:56:41.348Z"
   },
   {
    "duration": 21,
    "start_time": "2022-10-05T07:56:41.429Z"
   },
   {
    "duration": 312,
    "start_time": "2022-10-05T07:56:41.452Z"
   },
   {
    "duration": 272,
    "start_time": "2022-10-05T07:56:41.766Z"
   },
   {
    "duration": 277,
    "start_time": "2022-10-05T07:56:42.040Z"
   },
   {
    "duration": 400,
    "start_time": "2022-10-05T07:56:42.318Z"
   },
   {
    "duration": 310,
    "start_time": "2022-10-05T07:56:42.720Z"
   },
   {
    "duration": 381,
    "start_time": "2022-10-05T07:56:43.032Z"
   },
   {
    "duration": 129,
    "start_time": "2022-10-05T07:56:43.415Z"
   },
   {
    "duration": 8,
    "start_time": "2022-10-05T07:56:43.546Z"
   },
   {
    "duration": 152,
    "start_time": "2022-10-05T07:56:43.559Z"
   },
   {
    "duration": 149,
    "start_time": "2022-10-05T07:56:43.712Z"
   },
   {
    "duration": 4,
    "start_time": "2022-10-05T07:56:43.863Z"
   },
   {
    "duration": 40,
    "start_time": "2022-10-05T07:56:43.868Z"
   },
   {
    "duration": 6,
    "start_time": "2022-10-05T07:56:43.909Z"
   },
   {
    "duration": 9,
    "start_time": "2022-10-05T07:56:43.934Z"
   },
   {
    "duration": 170,
    "start_time": "2022-10-05T07:56:43.945Z"
   },
   {
    "duration": 27,
    "start_time": "2022-10-05T07:56:44.117Z"
   },
   {
    "duration": 23,
    "start_time": "2022-10-05T07:56:44.146Z"
   },
   {
    "duration": 14,
    "start_time": "2022-10-05T07:56:44.171Z"
   },
   {
    "duration": 982,
    "start_time": "2022-10-05T07:58:17.297Z"
   },
   {
    "duration": 1189,
    "start_time": "2022-10-05T08:06:23.460Z"
   },
   {
    "duration": 10,
    "start_time": "2022-10-05T08:06:24.653Z"
   },
   {
    "duration": 21,
    "start_time": "2022-10-05T08:06:24.665Z"
   },
   {
    "duration": 46,
    "start_time": "2022-10-05T08:06:24.688Z"
   },
   {
    "duration": 18,
    "start_time": "2022-10-05T08:06:24.736Z"
   },
   {
    "duration": 308,
    "start_time": "2022-10-05T08:06:24.757Z"
   },
   {
    "duration": 308,
    "start_time": "2022-10-05T08:06:25.066Z"
   },
   {
    "duration": 297,
    "start_time": "2022-10-05T08:06:25.376Z"
   },
   {
    "duration": 359,
    "start_time": "2022-10-05T08:06:25.675Z"
   },
   {
    "duration": 338,
    "start_time": "2022-10-05T08:06:26.038Z"
   },
   {
    "duration": 390,
    "start_time": "2022-10-05T08:06:26.379Z"
   },
   {
    "duration": 127,
    "start_time": "2022-10-05T08:06:26.772Z"
   },
   {
    "duration": 4,
    "start_time": "2022-10-05T08:06:26.901Z"
   },
   {
    "duration": 157,
    "start_time": "2022-10-05T08:06:26.907Z"
   },
   {
    "duration": 136,
    "start_time": "2022-10-05T08:06:27.066Z"
   },
   {
    "duration": 4,
    "start_time": "2022-10-05T08:06:27.205Z"
   },
   {
    "duration": 55,
    "start_time": "2022-10-05T08:06:27.211Z"
   },
   {
    "duration": 6,
    "start_time": "2022-10-05T08:06:27.269Z"
   },
   {
    "duration": 20,
    "start_time": "2022-10-05T08:06:27.277Z"
   },
   {
    "duration": 152,
    "start_time": "2022-10-05T08:06:27.299Z"
   },
   {
    "duration": 8,
    "start_time": "2022-10-05T08:06:27.453Z"
   },
   {
    "duration": 0,
    "start_time": "2022-10-05T08:06:27.463Z"
   },
   {
    "duration": 0,
    "start_time": "2022-10-05T08:06:27.464Z"
   },
   {
    "duration": 158,
    "start_time": "2022-10-05T08:07:46.652Z"
   },
   {
    "duration": 30,
    "start_time": "2022-10-05T08:08:31.010Z"
   },
   {
    "duration": 25,
    "start_time": "2022-10-05T08:09:41.992Z"
   },
   {
    "duration": 6,
    "start_time": "2022-10-05T08:10:57.828Z"
   },
   {
    "duration": 62,
    "start_time": "2022-10-05T08:11:18.128Z"
   },
   {
    "duration": 42,
    "start_time": "2022-10-05T08:11:50.096Z"
   },
   {
    "duration": 48,
    "start_time": "2022-10-05T08:13:43.532Z"
   },
   {
    "duration": 7,
    "start_time": "2022-10-05T08:13:53.921Z"
   },
   {
    "duration": 46,
    "start_time": "2022-10-05T08:16:31.285Z"
   },
   {
    "duration": 48,
    "start_time": "2022-10-05T08:17:41.947Z"
   },
   {
    "duration": 162,
    "start_time": "2022-10-05T08:18:22.923Z"
   },
   {
    "duration": 22,
    "start_time": "2022-10-05T08:20:46.348Z"
   },
   {
    "duration": 61,
    "start_time": "2022-10-05T08:22:42.806Z"
   },
   {
    "duration": 3138,
    "start_time": "2022-10-05T08:24:04.844Z"
   },
   {
    "duration": 821,
    "start_time": "2022-10-05T08:24:14.163Z"
   },
   {
    "duration": 42,
    "start_time": "2022-10-05T08:28:19.763Z"
   },
   {
    "duration": 9,
    "start_time": "2022-10-05T08:28:24.161Z"
   },
   {
    "duration": 65,
    "start_time": "2022-10-05T08:28:56.183Z"
   },
   {
    "duration": 9,
    "start_time": "2022-10-05T08:29:09.970Z"
   },
   {
    "duration": 1424,
    "start_time": "2022-10-05T12:57:48.495Z"
   },
   {
    "duration": 0,
    "start_time": "2022-10-05T12:57:49.921Z"
   },
   {
    "duration": 0,
    "start_time": "2022-10-05T12:57:49.922Z"
   },
   {
    "duration": 0,
    "start_time": "2022-10-05T12:57:49.923Z"
   },
   {
    "duration": 0,
    "start_time": "2022-10-05T12:57:49.924Z"
   },
   {
    "duration": 0,
    "start_time": "2022-10-05T12:57:49.925Z"
   },
   {
    "duration": 0,
    "start_time": "2022-10-05T12:57:49.926Z"
   },
   {
    "duration": 0,
    "start_time": "2022-10-05T12:57:49.927Z"
   },
   {
    "duration": 0,
    "start_time": "2022-10-05T12:57:49.928Z"
   },
   {
    "duration": 0,
    "start_time": "2022-10-05T12:57:49.929Z"
   },
   {
    "duration": 0,
    "start_time": "2022-10-05T12:57:49.930Z"
   },
   {
    "duration": 0,
    "start_time": "2022-10-05T12:57:49.931Z"
   },
   {
    "duration": 0,
    "start_time": "2022-10-05T12:57:49.933Z"
   },
   {
    "duration": 0,
    "start_time": "2022-10-05T12:57:49.934Z"
   },
   {
    "duration": 0,
    "start_time": "2022-10-05T12:57:49.935Z"
   },
   {
    "duration": 0,
    "start_time": "2022-10-05T12:57:49.936Z"
   },
   {
    "duration": 0,
    "start_time": "2022-10-05T12:57:49.936Z"
   },
   {
    "duration": 0,
    "start_time": "2022-10-05T12:57:49.937Z"
   },
   {
    "duration": 0,
    "start_time": "2022-10-05T12:57:49.938Z"
   },
   {
    "duration": 0,
    "start_time": "2022-10-05T12:57:49.939Z"
   },
   {
    "duration": 0,
    "start_time": "2022-10-05T12:57:49.940Z"
   },
   {
    "duration": 0,
    "start_time": "2022-10-05T12:57:49.941Z"
   },
   {
    "duration": 0,
    "start_time": "2022-10-05T12:57:49.942Z"
   },
   {
    "duration": 31,
    "start_time": "2022-10-05T13:11:10.318Z"
   },
   {
    "duration": 30,
    "start_time": "2022-10-05T13:11:17.976Z"
   },
   {
    "duration": 30,
    "start_time": "2022-10-05T13:11:26.617Z"
   },
   {
    "duration": 70,
    "start_time": "2022-10-05T13:13:11.195Z"
   },
   {
    "duration": 9,
    "start_time": "2022-10-05T13:19:14.338Z"
   },
   {
    "duration": 7,
    "start_time": "2022-10-05T13:21:04.057Z"
   },
   {
    "duration": 46,
    "start_time": "2022-10-05T13:21:50.936Z"
   },
   {
    "duration": 10,
    "start_time": "2022-10-05T13:22:38.836Z"
   },
   {
    "duration": 95,
    "start_time": "2022-10-05T13:45:52.462Z"
   },
   {
    "duration": 63,
    "start_time": "2022-10-05T13:45:54.272Z"
   },
   {
    "duration": 13,
    "start_time": "2022-10-05T13:46:42.583Z"
   },
   {
    "duration": 9,
    "start_time": "2022-10-05T13:50:13.642Z"
   },
   {
    "duration": 8,
    "start_time": "2022-10-05T13:50:20.735Z"
   },
   {
    "duration": 9,
    "start_time": "2022-10-05T13:56:24.804Z"
   },
   {
    "duration": 8,
    "start_time": "2022-10-05T13:56:55.359Z"
   },
   {
    "duration": 5,
    "start_time": "2022-10-05T13:57:04.103Z"
   },
   {
    "duration": 5,
    "start_time": "2022-10-05T13:57:14.463Z"
   },
   {
    "duration": 5,
    "start_time": "2022-10-05T13:57:34.484Z"
   },
   {
    "duration": 7,
    "start_time": "2022-10-05T13:57:52.725Z"
   },
   {
    "duration": 5,
    "start_time": "2022-10-05T13:57:58.032Z"
   },
   {
    "duration": 4,
    "start_time": "2022-10-05T14:00:28.502Z"
   },
   {
    "duration": 2,
    "start_time": "2022-10-05T14:00:41.904Z"
   },
   {
    "duration": 13,
    "start_time": "2022-10-05T14:01:35.344Z"
   },
   {
    "duration": 7,
    "start_time": "2022-10-05T14:02:12.864Z"
   },
   {
    "duration": 6,
    "start_time": "2022-10-05T14:04:55.424Z"
   },
   {
    "duration": 11,
    "start_time": "2022-10-05T14:05:03.245Z"
   },
   {
    "duration": 6,
    "start_time": "2022-10-05T14:05:17.224Z"
   },
   {
    "duration": 6,
    "start_time": "2022-10-05T14:05:28.911Z"
   },
   {
    "duration": 21,
    "start_time": "2022-10-05T14:07:39.424Z"
   },
   {
    "duration": 8,
    "start_time": "2022-10-05T14:07:58.303Z"
   },
   {
    "duration": 13,
    "start_time": "2022-10-05T14:08:13.463Z"
   },
   {
    "duration": 12,
    "start_time": "2022-10-05T14:08:31.950Z"
   },
   {
    "duration": 14,
    "start_time": "2022-10-05T14:08:47.983Z"
   },
   {
    "duration": 7,
    "start_time": "2022-10-05T14:09:12.124Z"
   },
   {
    "duration": 6,
    "start_time": "2022-10-05T14:09:39.164Z"
   },
   {
    "duration": 9,
    "start_time": "2022-10-05T14:13:30.444Z"
   },
   {
    "duration": 29,
    "start_time": "2022-10-05T14:17:17.895Z"
   },
   {
    "duration": 6,
    "start_time": "2022-10-05T14:17:17.926Z"
   },
   {
    "duration": 9,
    "start_time": "2022-10-05T14:17:17.934Z"
   },
   {
    "duration": 41,
    "start_time": "2022-10-05T14:17:17.945Z"
   },
   {
    "duration": 10,
    "start_time": "2022-10-05T14:17:17.987Z"
   },
   {
    "duration": 7,
    "start_time": "2022-10-05T14:17:17.998Z"
   },
   {
    "duration": 17,
    "start_time": "2022-10-05T14:17:18.007Z"
   },
   {
    "duration": 10,
    "start_time": "2022-10-05T14:17:18.026Z"
   },
   {
    "duration": 6,
    "start_time": "2022-10-05T14:17:18.037Z"
   },
   {
    "duration": 7,
    "start_time": "2022-10-05T14:17:18.045Z"
   },
   {
    "duration": 297,
    "start_time": "2022-10-05T14:17:32.543Z"
   },
   {
    "duration": 368,
    "start_time": "2022-10-05T14:17:46.584Z"
   },
   {
    "duration": 238,
    "start_time": "2022-10-05T14:17:58.543Z"
   },
   {
    "duration": 235,
    "start_time": "2022-10-05T14:18:51.388Z"
   },
   {
    "duration": 251,
    "start_time": "2022-10-05T14:19:03.924Z"
   },
   {
    "duration": 6,
    "start_time": "2022-10-05T14:23:39.216Z"
   },
   {
    "duration": 8,
    "start_time": "2022-10-05T14:23:48.515Z"
   },
   {
    "duration": 8,
    "start_time": "2022-10-05T14:24:10.851Z"
   },
   {
    "duration": 13,
    "start_time": "2022-10-05T14:24:33.379Z"
   },
   {
    "duration": 9,
    "start_time": "2022-10-05T14:24:40.783Z"
   },
   {
    "duration": 9,
    "start_time": "2022-10-05T14:27:21.855Z"
   },
   {
    "duration": 9,
    "start_time": "2022-10-05T14:27:30.685Z"
   },
   {
    "duration": 8,
    "start_time": "2022-10-05T14:27:47.076Z"
   },
   {
    "duration": 5,
    "start_time": "2022-10-05T14:28:03.683Z"
   },
   {
    "duration": 5,
    "start_time": "2022-10-05T14:28:40.503Z"
   },
   {
    "duration": 56,
    "start_time": "2022-10-06T04:04:20.071Z"
   },
   {
    "duration": 55,
    "start_time": "2022-10-06T04:04:26.576Z"
   },
   {
    "duration": 1341,
    "start_time": "2022-10-06T04:04:34.784Z"
   },
   {
    "duration": 12,
    "start_time": "2022-10-06T04:04:36.128Z"
   },
   {
    "duration": 9,
    "start_time": "2022-10-06T04:04:36.141Z"
   },
   {
    "duration": 87,
    "start_time": "2022-10-06T04:04:36.153Z"
   },
   {
    "duration": 12,
    "start_time": "2022-10-06T04:04:36.242Z"
   },
   {
    "duration": 10,
    "start_time": "2022-10-06T04:04:36.255Z"
   },
   {
    "duration": 9,
    "start_time": "2022-10-06T04:04:36.267Z"
   },
   {
    "duration": 64,
    "start_time": "2022-10-06T04:04:36.277Z"
   },
   {
    "duration": 14,
    "start_time": "2022-10-06T04:04:36.344Z"
   },
   {
    "duration": 9,
    "start_time": "2022-10-06T04:04:36.360Z"
   },
   {
    "duration": 8,
    "start_time": "2022-10-06T04:04:36.371Z"
   },
   {
    "duration": 106,
    "start_time": "2022-10-06T04:04:36.380Z"
   },
   {
    "duration": 0,
    "start_time": "2022-10-06T04:04:36.488Z"
   },
   {
    "duration": 0,
    "start_time": "2022-10-06T04:04:36.490Z"
   },
   {
    "duration": 0,
    "start_time": "2022-10-06T04:04:36.491Z"
   },
   {
    "duration": 0,
    "start_time": "2022-10-06T04:04:36.493Z"
   },
   {
    "duration": 1,
    "start_time": "2022-10-06T04:04:36.493Z"
   },
   {
    "duration": 0,
    "start_time": "2022-10-06T04:04:36.495Z"
   },
   {
    "duration": 0,
    "start_time": "2022-10-06T04:04:36.497Z"
   },
   {
    "duration": 0,
    "start_time": "2022-10-06T04:04:36.498Z"
   },
   {
    "duration": 0,
    "start_time": "2022-10-06T04:04:36.499Z"
   },
   {
    "duration": 1,
    "start_time": "2022-10-06T04:04:36.500Z"
   },
   {
    "duration": 0,
    "start_time": "2022-10-06T04:04:36.502Z"
   },
   {
    "duration": 0,
    "start_time": "2022-10-06T04:04:36.504Z"
   },
   {
    "duration": 0,
    "start_time": "2022-10-06T04:04:36.505Z"
   },
   {
    "duration": 0,
    "start_time": "2022-10-06T04:04:36.506Z"
   },
   {
    "duration": 0,
    "start_time": "2022-10-06T04:04:36.507Z"
   },
   {
    "duration": 0,
    "start_time": "2022-10-06T04:04:36.509Z"
   },
   {
    "duration": 0,
    "start_time": "2022-10-06T04:04:36.510Z"
   },
   {
    "duration": 0,
    "start_time": "2022-10-06T04:04:36.511Z"
   },
   {
    "duration": 9,
    "start_time": "2022-10-06T04:07:51.731Z"
   },
   {
    "duration": 8,
    "start_time": "2022-10-06T04:08:32.928Z"
   },
   {
    "duration": 19,
    "start_time": "2022-10-06T04:08:52.164Z"
   },
   {
    "duration": 17,
    "start_time": "2022-10-06T04:09:10.268Z"
   },
   {
    "duration": 18,
    "start_time": "2022-10-06T04:09:19.512Z"
   },
   {
    "duration": 14,
    "start_time": "2022-10-06T04:09:24.843Z"
   },
   {
    "duration": 17,
    "start_time": "2022-10-06T04:09:29.464Z"
   },
   {
    "duration": 16,
    "start_time": "2022-10-06T04:09:39.923Z"
   },
   {
    "duration": 8,
    "start_time": "2022-10-06T04:10:02.524Z"
   },
   {
    "duration": 8,
    "start_time": "2022-10-06T04:10:17.244Z"
   },
   {
    "duration": 8,
    "start_time": "2022-10-06T04:10:32.364Z"
   },
   {
    "duration": 1200,
    "start_time": "2022-10-06T04:27:54.198Z"
   },
   {
    "duration": 13,
    "start_time": "2022-10-06T04:27:55.401Z"
   },
   {
    "duration": 26,
    "start_time": "2022-10-06T04:27:55.416Z"
   },
   {
    "duration": 57,
    "start_time": "2022-10-06T04:27:55.444Z"
   },
   {
    "duration": 19,
    "start_time": "2022-10-06T04:27:55.504Z"
   },
   {
    "duration": 47,
    "start_time": "2022-10-06T04:27:55.524Z"
   },
   {
    "duration": 28,
    "start_time": "2022-10-06T04:27:55.573Z"
   },
   {
    "duration": 12,
    "start_time": "2022-10-06T04:27:55.603Z"
   },
   {
    "duration": 6,
    "start_time": "2022-10-06T04:27:55.617Z"
   },
   {
    "duration": 8,
    "start_time": "2022-10-06T04:27:55.625Z"
   },
   {
    "duration": 11,
    "start_time": "2022-10-06T04:27:55.635Z"
   },
   {
    "duration": 4,
    "start_time": "2022-10-06T04:27:58.395Z"
   },
   {
    "duration": 5,
    "start_time": "2022-10-06T04:30:51.066Z"
   },
   {
    "duration": 14,
    "start_time": "2022-10-06T04:43:12.651Z"
   },
   {
    "duration": 7,
    "start_time": "2022-10-06T04:43:30.327Z"
   },
   {
    "duration": 12,
    "start_time": "2022-10-06T04:43:47.211Z"
   },
   {
    "duration": 1069,
    "start_time": "2022-10-06T05:04:19.628Z"
   },
   {
    "duration": 9,
    "start_time": "2022-10-06T05:04:20.700Z"
   },
   {
    "duration": 8,
    "start_time": "2022-10-06T05:04:20.711Z"
   },
   {
    "duration": 45,
    "start_time": "2022-10-06T05:04:20.721Z"
   },
   {
    "duration": 14,
    "start_time": "2022-10-06T05:04:20.768Z"
   },
   {
    "duration": 11,
    "start_time": "2022-10-06T05:04:20.784Z"
   },
   {
    "duration": 20,
    "start_time": "2022-10-06T05:04:20.796Z"
   },
   {
    "duration": 13,
    "start_time": "2022-10-06T05:04:20.818Z"
   },
   {
    "duration": 10,
    "start_time": "2022-10-06T05:04:20.833Z"
   },
   {
    "duration": 10,
    "start_time": "2022-10-06T05:04:20.845Z"
   },
   {
    "duration": 22,
    "start_time": "2022-10-06T05:04:20.857Z"
   },
   {
    "duration": 5,
    "start_time": "2022-10-06T05:04:20.881Z"
   },
   {
    "duration": 293,
    "start_time": "2022-10-06T05:04:20.888Z"
   },
   {
    "duration": 274,
    "start_time": "2022-10-06T05:04:28.363Z"
   },
   {
    "duration": 329,
    "start_time": "2022-10-06T05:04:53.204Z"
   },
   {
    "duration": 268,
    "start_time": "2022-10-06T05:05:19.569Z"
   },
   {
    "duration": 142,
    "start_time": "2022-10-06T05:05:52.106Z"
   },
   {
    "duration": 265,
    "start_time": "2022-10-06T05:06:17.759Z"
   },
   {
    "duration": 267,
    "start_time": "2022-10-06T05:07:57.273Z"
   },
   {
    "duration": 253,
    "start_time": "2022-10-06T05:08:50.079Z"
   },
   {
    "duration": 1070,
    "start_time": "2022-10-06T05:12:06.914Z"
   },
   {
    "duration": 10,
    "start_time": "2022-10-06T05:12:07.986Z"
   },
   {
    "duration": 8,
    "start_time": "2022-10-06T05:12:07.998Z"
   },
   {
    "duration": 42,
    "start_time": "2022-10-06T05:12:08.008Z"
   },
   {
    "duration": 11,
    "start_time": "2022-10-06T05:12:08.052Z"
   },
   {
    "duration": 13,
    "start_time": "2022-10-06T05:12:08.064Z"
   },
   {
    "duration": 17,
    "start_time": "2022-10-06T05:12:08.079Z"
   },
   {
    "duration": 10,
    "start_time": "2022-10-06T05:12:08.098Z"
   },
   {
    "duration": 8,
    "start_time": "2022-10-06T05:12:08.109Z"
   },
   {
    "duration": 7,
    "start_time": "2022-10-06T05:12:08.118Z"
   },
   {
    "duration": 10,
    "start_time": "2022-10-06T05:12:08.127Z"
   },
   {
    "duration": 5,
    "start_time": "2022-10-06T05:12:08.139Z"
   },
   {
    "duration": 317,
    "start_time": "2022-10-06T05:12:08.145Z"
   },
   {
    "duration": 262,
    "start_time": "2022-10-06T05:12:10.098Z"
   },
   {
    "duration": 299,
    "start_time": "2022-10-06T05:12:15.030Z"
   },
   {
    "duration": 280,
    "start_time": "2022-10-06T05:12:29.830Z"
   },
   {
    "duration": 52,
    "start_time": "2022-10-06T05:13:11.111Z"
   },
   {
    "duration": 259,
    "start_time": "2022-10-06T05:13:21.192Z"
   },
   {
    "duration": 266,
    "start_time": "2022-10-06T05:13:52.330Z"
   },
   {
    "duration": 291,
    "start_time": "2022-10-06T05:14:28.673Z"
   },
   {
    "duration": 1121,
    "start_time": "2022-10-06T05:21:35.150Z"
   },
   {
    "duration": 9,
    "start_time": "2022-10-06T05:21:36.273Z"
   },
   {
    "duration": 8,
    "start_time": "2022-10-06T05:21:36.284Z"
   },
   {
    "duration": 41,
    "start_time": "2022-10-06T05:21:36.294Z"
   },
   {
    "duration": 10,
    "start_time": "2022-10-06T05:21:36.338Z"
   },
   {
    "duration": 11,
    "start_time": "2022-10-06T05:21:36.350Z"
   },
   {
    "duration": 18,
    "start_time": "2022-10-06T05:21:36.362Z"
   },
   {
    "duration": 13,
    "start_time": "2022-10-06T05:21:36.381Z"
   },
   {
    "duration": 9,
    "start_time": "2022-10-06T05:21:36.396Z"
   },
   {
    "duration": 8,
    "start_time": "2022-10-06T05:21:36.406Z"
   },
   {
    "duration": 13,
    "start_time": "2022-10-06T05:21:36.415Z"
   },
   {
    "duration": 7,
    "start_time": "2022-10-06T05:21:36.429Z"
   },
   {
    "duration": 293,
    "start_time": "2022-10-06T05:21:36.437Z"
   },
   {
    "duration": 332,
    "start_time": "2022-10-06T05:21:36.733Z"
   },
   {
    "duration": 269,
    "start_time": "2022-10-06T05:21:37.068Z"
   },
   {
    "duration": 407,
    "start_time": "2022-10-06T05:21:37.339Z"
   },
   {
    "duration": 369,
    "start_time": "2022-10-06T05:21:37.748Z"
   },
   {
    "duration": 0,
    "start_time": "2022-10-06T05:21:38.119Z"
   },
   {
    "duration": 0,
    "start_time": "2022-10-06T05:21:38.120Z"
   },
   {
    "duration": 0,
    "start_time": "2022-10-06T05:21:38.121Z"
   },
   {
    "duration": 0,
    "start_time": "2022-10-06T05:21:38.122Z"
   },
   {
    "duration": 0,
    "start_time": "2022-10-06T05:21:38.124Z"
   },
   {
    "duration": 0,
    "start_time": "2022-10-06T05:21:38.125Z"
   },
   {
    "duration": 0,
    "start_time": "2022-10-06T05:21:38.126Z"
   },
   {
    "duration": 0,
    "start_time": "2022-10-06T05:21:38.127Z"
   },
   {
    "duration": 0,
    "start_time": "2022-10-06T05:21:38.128Z"
   },
   {
    "duration": 0,
    "start_time": "2022-10-06T05:21:38.130Z"
   },
   {
    "duration": 1,
    "start_time": "2022-10-06T05:21:38.130Z"
   },
   {
    "duration": 0,
    "start_time": "2022-10-06T05:21:38.132Z"
   },
   {
    "duration": 0,
    "start_time": "2022-10-06T05:21:38.133Z"
   },
   {
    "duration": 30,
    "start_time": "2022-10-06T05:21:46.777Z"
   },
   {
    "duration": 7,
    "start_time": "2022-10-06T05:21:59.525Z"
   },
   {
    "duration": 1126,
    "start_time": "2022-10-06T05:34:32.464Z"
   },
   {
    "duration": 10,
    "start_time": "2022-10-06T05:34:33.592Z"
   },
   {
    "duration": 16,
    "start_time": "2022-10-06T05:34:33.604Z"
   },
   {
    "duration": 43,
    "start_time": "2022-10-06T05:34:33.623Z"
   },
   {
    "duration": 15,
    "start_time": "2022-10-06T05:34:33.669Z"
   },
   {
    "duration": 11,
    "start_time": "2022-10-06T05:34:33.686Z"
   },
   {
    "duration": 21,
    "start_time": "2022-10-06T05:34:33.699Z"
   },
   {
    "duration": 14,
    "start_time": "2022-10-06T05:34:33.722Z"
   },
   {
    "duration": 8,
    "start_time": "2022-10-06T05:34:33.737Z"
   },
   {
    "duration": 5,
    "start_time": "2022-10-06T05:34:33.748Z"
   },
   {
    "duration": 32,
    "start_time": "2022-10-06T05:34:33.755Z"
   },
   {
    "duration": 5,
    "start_time": "2022-10-06T05:34:33.788Z"
   },
   {
    "duration": 312,
    "start_time": "2022-10-06T05:34:33.794Z"
   },
   {
    "duration": 390,
    "start_time": "2022-10-06T05:34:34.108Z"
   },
   {
    "duration": 0,
    "start_time": "2022-10-06T05:34:34.500Z"
   },
   {
    "duration": 0,
    "start_time": "2022-10-06T05:34:34.502Z"
   },
   {
    "duration": 0,
    "start_time": "2022-10-06T05:34:34.503Z"
   },
   {
    "duration": 0,
    "start_time": "2022-10-06T05:34:34.505Z"
   },
   {
    "duration": 0,
    "start_time": "2022-10-06T05:34:34.506Z"
   },
   {
    "duration": 0,
    "start_time": "2022-10-06T05:34:34.508Z"
   },
   {
    "duration": 0,
    "start_time": "2022-10-06T05:34:34.509Z"
   },
   {
    "duration": 0,
    "start_time": "2022-10-06T05:34:34.511Z"
   },
   {
    "duration": 0,
    "start_time": "2022-10-06T05:34:34.512Z"
   },
   {
    "duration": 0,
    "start_time": "2022-10-06T05:34:34.513Z"
   },
   {
    "duration": 0,
    "start_time": "2022-10-06T05:34:34.514Z"
   },
   {
    "duration": 0,
    "start_time": "2022-10-06T05:34:34.516Z"
   },
   {
    "duration": 0,
    "start_time": "2022-10-06T05:34:34.517Z"
   },
   {
    "duration": 0,
    "start_time": "2022-10-06T05:34:34.519Z"
   },
   {
    "duration": 0,
    "start_time": "2022-10-06T05:34:34.520Z"
   },
   {
    "duration": 0,
    "start_time": "2022-10-06T05:34:34.522Z"
   },
   {
    "duration": 299,
    "start_time": "2022-10-06T05:35:01.642Z"
   },
   {
    "duration": 181,
    "start_time": "2022-10-06T05:35:27.161Z"
   },
   {
    "duration": 163,
    "start_time": "2022-10-06T05:35:43.442Z"
   },
   {
    "duration": 285,
    "start_time": "2022-10-06T05:36:45.506Z"
   },
   {
    "duration": 138,
    "start_time": "2022-10-06T05:36:52.451Z"
   },
   {
    "duration": 284,
    "start_time": "2022-10-06T05:38:32.299Z"
   },
   {
    "duration": 3747,
    "start_time": "2022-10-06T05:38:58.598Z"
   },
   {
    "duration": 99,
    "start_time": "2022-10-06T05:39:22.082Z"
   },
   {
    "duration": 314,
    "start_time": "2022-10-06T05:39:38.283Z"
   },
   {
    "duration": 302,
    "start_time": "2022-10-06T05:41:03.348Z"
   },
   {
    "duration": 297,
    "start_time": "2022-10-06T05:41:35.322Z"
   },
   {
    "duration": 285,
    "start_time": "2022-10-06T05:41:44.385Z"
   },
   {
    "duration": 320,
    "start_time": "2022-10-06T05:41:51.305Z"
   },
   {
    "duration": 1164,
    "start_time": "2022-10-06T06:13:43.610Z"
   },
   {
    "duration": 11,
    "start_time": "2022-10-06T06:13:44.776Z"
   },
   {
    "duration": 12,
    "start_time": "2022-10-06T06:13:44.788Z"
   },
   {
    "duration": 46,
    "start_time": "2022-10-06T06:13:44.802Z"
   },
   {
    "duration": 13,
    "start_time": "2022-10-06T06:13:44.850Z"
   },
   {
    "duration": 12,
    "start_time": "2022-10-06T06:13:44.865Z"
   },
   {
    "duration": 22,
    "start_time": "2022-10-06T06:13:44.879Z"
   },
   {
    "duration": 15,
    "start_time": "2022-10-06T06:13:44.903Z"
   },
   {
    "duration": 11,
    "start_time": "2022-10-06T06:13:44.920Z"
   },
   {
    "duration": 7,
    "start_time": "2022-10-06T06:13:44.935Z"
   },
   {
    "duration": 14,
    "start_time": "2022-10-06T06:13:44.944Z"
   },
   {
    "duration": 18,
    "start_time": "2022-10-06T06:13:44.960Z"
   },
   {
    "duration": 321,
    "start_time": "2022-10-06T06:13:44.981Z"
   },
   {
    "duration": 377,
    "start_time": "2022-10-06T06:13:45.304Z"
   },
   {
    "duration": 289,
    "start_time": "2022-10-06T06:13:45.683Z"
   },
   {
    "duration": 440,
    "start_time": "2022-10-06T06:13:45.973Z"
   },
   {
    "duration": 536,
    "start_time": "2022-10-06T06:13:46.415Z"
   },
   {
    "duration": 0,
    "start_time": "2022-10-06T06:13:46.953Z"
   },
   {
    "duration": 0,
    "start_time": "2022-10-06T06:13:46.955Z"
   },
   {
    "duration": 0,
    "start_time": "2022-10-06T06:13:46.957Z"
   },
   {
    "duration": 0,
    "start_time": "2022-10-06T06:13:46.958Z"
   },
   {
    "duration": 0,
    "start_time": "2022-10-06T06:13:46.960Z"
   },
   {
    "duration": 0,
    "start_time": "2022-10-06T06:13:46.961Z"
   },
   {
    "duration": 0,
    "start_time": "2022-10-06T06:13:46.963Z"
   },
   {
    "duration": 0,
    "start_time": "2022-10-06T06:13:46.977Z"
   },
   {
    "duration": 0,
    "start_time": "2022-10-06T06:13:46.978Z"
   },
   {
    "duration": 0,
    "start_time": "2022-10-06T06:13:46.979Z"
   },
   {
    "duration": 0,
    "start_time": "2022-10-06T06:13:46.980Z"
   },
   {
    "duration": 0,
    "start_time": "2022-10-06T06:13:46.981Z"
   },
   {
    "duration": 0,
    "start_time": "2022-10-06T06:13:46.982Z"
   },
   {
    "duration": 313,
    "start_time": "2022-10-06T06:14:02.281Z"
   },
   {
    "duration": 357,
    "start_time": "2022-10-06T06:14:06.762Z"
   },
   {
    "duration": 424,
    "start_time": "2022-10-06T06:15:29.585Z"
   },
   {
    "duration": 6,
    "start_time": "2022-10-06T06:15:50.426Z"
   },
   {
    "duration": 300,
    "start_time": "2022-10-06T06:15:53.924Z"
   },
   {
    "duration": 334,
    "start_time": "2022-10-06T06:16:02.474Z"
   },
   {
    "duration": 407,
    "start_time": "2022-10-06T06:16:08.377Z"
   },
   {
    "duration": 291,
    "start_time": "2022-10-06T06:17:25.746Z"
   },
   {
    "duration": 377,
    "start_time": "2022-10-06T06:17:33.386Z"
   },
   {
    "duration": 344,
    "start_time": "2022-10-06T06:17:54.721Z"
   },
   {
    "duration": 331,
    "start_time": "2022-10-06T06:18:00.282Z"
   },
   {
    "duration": 335,
    "start_time": "2022-10-06T06:18:03.827Z"
   },
   {
    "duration": 388,
    "start_time": "2022-10-06T06:18:09.481Z"
   },
   {
    "duration": 383,
    "start_time": "2022-10-06T06:18:13.323Z"
   },
   {
    "duration": 329,
    "start_time": "2022-10-06T06:18:35.865Z"
   },
   {
    "duration": 345,
    "start_time": "2022-10-06T06:18:38.866Z"
   },
   {
    "duration": 339,
    "start_time": "2022-10-06T06:18:43.737Z"
   },
   {
    "duration": 424,
    "start_time": "2022-10-06T06:18:46.425Z"
   },
   {
    "duration": 332,
    "start_time": "2022-10-06T06:18:51.362Z"
   },
   {
    "duration": 410,
    "start_time": "2022-10-06T06:18:56.267Z"
   },
   {
    "duration": 334,
    "start_time": "2022-10-06T06:18:58.730Z"
   },
   {
    "duration": 335,
    "start_time": "2022-10-06T06:20:29.866Z"
   },
   {
    "duration": 339,
    "start_time": "2022-10-06T06:20:43.920Z"
   },
   {
    "duration": 54,
    "start_time": "2022-10-06T06:24:11.785Z"
   },
   {
    "duration": 425,
    "start_time": "2022-10-06T06:27:39.402Z"
   },
   {
    "duration": 412,
    "start_time": "2022-10-06T06:27:57.305Z"
   },
   {
    "duration": 366,
    "start_time": "2022-10-06T06:28:56.824Z"
   },
   {
    "duration": 345,
    "start_time": "2022-10-06T06:29:09.024Z"
   },
   {
    "duration": 362,
    "start_time": "2022-10-06T06:33:36.399Z"
   },
   {
    "duration": 489,
    "start_time": "2022-10-06T06:33:43.280Z"
   },
   {
    "duration": 421,
    "start_time": "2022-10-06T06:34:52.600Z"
   },
   {
    "duration": 448,
    "start_time": "2022-10-06T06:35:03.240Z"
   },
   {
    "duration": 130,
    "start_time": "2022-10-06T06:36:22.662Z"
   },
   {
    "duration": 1240,
    "start_time": "2022-10-06T06:36:29.184Z"
   },
   {
    "duration": 10,
    "start_time": "2022-10-06T06:36:30.426Z"
   },
   {
    "duration": 34,
    "start_time": "2022-10-06T06:36:30.438Z"
   },
   {
    "duration": 66,
    "start_time": "2022-10-06T06:36:30.474Z"
   },
   {
    "duration": 12,
    "start_time": "2022-10-06T06:36:30.543Z"
   },
   {
    "duration": 43,
    "start_time": "2022-10-06T06:36:30.557Z"
   },
   {
    "duration": 44,
    "start_time": "2022-10-06T06:36:30.602Z"
   },
   {
    "duration": 10,
    "start_time": "2022-10-06T06:36:30.649Z"
   },
   {
    "duration": 36,
    "start_time": "2022-10-06T06:36:30.661Z"
   },
   {
    "duration": 21,
    "start_time": "2022-10-06T06:36:30.699Z"
   },
   {
    "duration": 37,
    "start_time": "2022-10-06T06:36:30.722Z"
   },
   {
    "duration": 19,
    "start_time": "2022-10-06T06:36:30.761Z"
   },
   {
    "duration": 317,
    "start_time": "2022-10-06T06:36:30.782Z"
   },
   {
    "duration": 335,
    "start_time": "2022-10-06T06:36:31.102Z"
   },
   {
    "duration": 347,
    "start_time": "2022-10-06T06:36:31.439Z"
   },
   {
    "duration": 431,
    "start_time": "2022-10-06T06:36:31.788Z"
   },
   {
    "duration": 363,
    "start_time": "2022-10-06T06:36:32.221Z"
   },
   {
    "duration": 425,
    "start_time": "2022-10-06T06:36:32.585Z"
   },
   {
    "duration": 133,
    "start_time": "2022-10-06T06:36:33.011Z"
   },
   {
    "duration": 5,
    "start_time": "2022-10-06T06:36:33.146Z"
   },
   {
    "duration": 160,
    "start_time": "2022-10-06T06:36:33.152Z"
   },
   {
    "duration": 162,
    "start_time": "2022-10-06T06:36:33.314Z"
   },
   {
    "duration": 4,
    "start_time": "2022-10-06T06:36:33.478Z"
   },
   {
    "duration": 39,
    "start_time": "2022-10-06T06:36:33.484Z"
   },
   {
    "duration": 6,
    "start_time": "2022-10-06T06:36:33.525Z"
   },
   {
    "duration": 12,
    "start_time": "2022-10-06T06:36:33.533Z"
   },
   {
    "duration": 151,
    "start_time": "2022-10-06T06:36:33.577Z"
   },
   {
    "duration": 53,
    "start_time": "2022-10-06T06:36:33.729Z"
   },
   {
    "duration": 7,
    "start_time": "2022-10-06T06:36:33.784Z"
   },
   {
    "duration": 22,
    "start_time": "2022-10-06T06:36:33.793Z"
   },
   {
    "duration": 33,
    "start_time": "2022-10-06T06:36:46.064Z"
   },
   {
    "duration": 368,
    "start_time": "2022-10-06T06:38:35.017Z"
   },
   {
    "duration": 1077,
    "start_time": "2022-10-06T06:42:27.735Z"
   },
   {
    "duration": 10,
    "start_time": "2022-10-06T06:42:28.815Z"
   },
   {
    "duration": 10,
    "start_time": "2022-10-06T06:42:28.827Z"
   },
   {
    "duration": 45,
    "start_time": "2022-10-06T06:42:28.839Z"
   },
   {
    "duration": 11,
    "start_time": "2022-10-06T06:42:28.887Z"
   },
   {
    "duration": 10,
    "start_time": "2022-10-06T06:42:28.900Z"
   },
   {
    "duration": 19,
    "start_time": "2022-10-06T06:42:28.912Z"
   },
   {
    "duration": 10,
    "start_time": "2022-10-06T06:42:28.933Z"
   },
   {
    "duration": 9,
    "start_time": "2022-10-06T06:42:28.945Z"
   },
   {
    "duration": 24,
    "start_time": "2022-10-06T06:42:28.956Z"
   },
   {
    "duration": 11,
    "start_time": "2022-10-06T06:42:28.982Z"
   },
   {
    "duration": 5,
    "start_time": "2022-10-06T06:42:28.996Z"
   },
   {
    "duration": 308,
    "start_time": "2022-10-06T06:42:29.003Z"
   },
   {
    "duration": 347,
    "start_time": "2022-10-06T06:42:29.315Z"
   },
   {
    "duration": 331,
    "start_time": "2022-10-06T06:42:29.664Z"
   },
   {
    "duration": 434,
    "start_time": "2022-10-06T06:42:29.997Z"
   },
   {
    "duration": 399,
    "start_time": "2022-10-06T06:42:30.433Z"
   },
   {
    "duration": 473,
    "start_time": "2022-10-06T06:42:30.834Z"
   },
   {
    "duration": 143,
    "start_time": "2022-10-06T06:42:31.309Z"
   },
   {
    "duration": 5,
    "start_time": "2022-10-06T06:42:31.454Z"
   },
   {
    "duration": 187,
    "start_time": "2022-10-06T06:42:31.461Z"
   },
   {
    "duration": 161,
    "start_time": "2022-10-06T06:42:31.650Z"
   },
   {
    "duration": 5,
    "start_time": "2022-10-06T06:42:31.813Z"
   },
   {
    "duration": 68,
    "start_time": "2022-10-06T06:42:31.820Z"
   },
   {
    "duration": 13,
    "start_time": "2022-10-06T06:42:31.890Z"
   },
   {
    "duration": 31,
    "start_time": "2022-10-06T06:42:31.905Z"
   },
   {
    "duration": 163,
    "start_time": "2022-10-06T06:42:31.937Z"
   },
   {
    "duration": 39,
    "start_time": "2022-10-06T06:42:32.102Z"
   },
   {
    "duration": 19,
    "start_time": "2022-10-06T06:42:32.143Z"
   },
   {
    "duration": 14,
    "start_time": "2022-10-06T06:42:32.176Z"
   },
   {
    "duration": 110,
    "start_time": "2022-10-06T06:42:49.255Z"
   },
   {
    "duration": 138,
    "start_time": "2022-10-06T06:46:09.997Z"
   },
   {
    "duration": 217,
    "start_time": "2022-10-06T06:47:18.836Z"
   },
   {
    "duration": 132,
    "start_time": "2022-10-06T06:47:33.029Z"
   },
   {
    "duration": 1143,
    "start_time": "2022-10-06T06:48:33.958Z"
   },
   {
    "duration": 9,
    "start_time": "2022-10-06T06:48:35.104Z"
   },
   {
    "duration": 15,
    "start_time": "2022-10-06T06:48:35.114Z"
   },
   {
    "duration": 62,
    "start_time": "2022-10-06T06:48:35.131Z"
   },
   {
    "duration": 15,
    "start_time": "2022-10-06T06:48:35.195Z"
   },
   {
    "duration": 45,
    "start_time": "2022-10-06T06:48:35.212Z"
   },
   {
    "duration": 54,
    "start_time": "2022-10-06T06:48:35.260Z"
   },
   {
    "duration": 22,
    "start_time": "2022-10-06T06:48:35.316Z"
   },
   {
    "duration": 25,
    "start_time": "2022-10-06T06:48:35.340Z"
   },
   {
    "duration": 18,
    "start_time": "2022-10-06T06:48:35.367Z"
   },
   {
    "duration": 27,
    "start_time": "2022-10-06T06:48:35.386Z"
   },
   {
    "duration": 26,
    "start_time": "2022-10-06T06:48:35.416Z"
   },
   {
    "duration": 299,
    "start_time": "2022-10-06T06:48:35.443Z"
   },
   {
    "duration": 315,
    "start_time": "2022-10-06T06:48:35.744Z"
   },
   {
    "duration": 332,
    "start_time": "2022-10-06T06:48:36.060Z"
   },
   {
    "duration": 437,
    "start_time": "2022-10-06T06:48:36.394Z"
   },
   {
    "duration": 379,
    "start_time": "2022-10-06T06:48:36.833Z"
   },
   {
    "duration": 415,
    "start_time": "2022-10-06T06:48:37.214Z"
   },
   {
    "duration": 160,
    "start_time": "2022-10-06T06:48:37.632Z"
   },
   {
    "duration": 4,
    "start_time": "2022-10-06T06:48:37.794Z"
   },
   {
    "duration": 167,
    "start_time": "2022-10-06T06:48:37.800Z"
   },
   {
    "duration": 133,
    "start_time": "2022-10-06T06:48:37.968Z"
   },
   {
    "duration": 5,
    "start_time": "2022-10-06T06:48:38.102Z"
   },
   {
    "duration": 41,
    "start_time": "2022-10-06T06:48:38.108Z"
   },
   {
    "duration": 28,
    "start_time": "2022-10-06T06:48:38.151Z"
   },
   {
    "duration": 10,
    "start_time": "2022-10-06T06:48:38.180Z"
   },
   {
    "duration": 158,
    "start_time": "2022-10-06T06:48:38.192Z"
   },
   {
    "duration": 49,
    "start_time": "2022-10-06T06:48:38.351Z"
   },
   {
    "duration": 6,
    "start_time": "2022-10-06T06:48:38.402Z"
   },
   {
    "duration": 13,
    "start_time": "2022-10-06T06:48:38.410Z"
   },
   {
    "duration": 147,
    "start_time": "2022-10-06T06:49:49.721Z"
   },
   {
    "duration": 131,
    "start_time": "2022-10-06T06:49:54.162Z"
   },
   {
    "duration": 217,
    "start_time": "2022-10-06T06:51:01.742Z"
   },
   {
    "duration": 151,
    "start_time": "2022-10-06T06:51:26.054Z"
   },
   {
    "duration": 149,
    "start_time": "2022-10-06T06:51:33.450Z"
   },
   {
    "duration": 154,
    "start_time": "2022-10-06T06:51:43.870Z"
   },
   {
    "duration": 303,
    "start_time": "2022-10-06T06:53:28.857Z"
   },
   {
    "duration": 338,
    "start_time": "2022-10-06T06:53:31.936Z"
   },
   {
    "duration": 7,
    "start_time": "2022-10-06T06:57:02.931Z"
   },
   {
    "duration": 7,
    "start_time": "2022-10-06T06:57:06.307Z"
   },
   {
    "duration": 6,
    "start_time": "2022-10-06T06:57:51.973Z"
   },
   {
    "duration": 6,
    "start_time": "2022-10-06T06:57:57.468Z"
   },
   {
    "duration": 1180,
    "start_time": "2022-10-06T07:13:38.084Z"
   },
   {
    "duration": 9,
    "start_time": "2022-10-06T07:13:39.266Z"
   },
   {
    "duration": 21,
    "start_time": "2022-10-06T07:13:39.277Z"
   },
   {
    "duration": 50,
    "start_time": "2022-10-06T07:13:39.299Z"
   },
   {
    "duration": 11,
    "start_time": "2022-10-06T07:13:39.351Z"
   },
   {
    "duration": 24,
    "start_time": "2022-10-06T07:13:39.364Z"
   },
   {
    "duration": 31,
    "start_time": "2022-10-06T07:13:39.390Z"
   },
   {
    "duration": 12,
    "start_time": "2022-10-06T07:13:39.423Z"
   },
   {
    "duration": 19,
    "start_time": "2022-10-06T07:13:39.436Z"
   },
   {
    "duration": 16,
    "start_time": "2022-10-06T07:13:39.457Z"
   },
   {
    "duration": 18,
    "start_time": "2022-10-06T07:13:39.474Z"
   },
   {
    "duration": 5,
    "start_time": "2022-10-06T07:13:39.493Z"
   },
   {
    "duration": 284,
    "start_time": "2022-10-06T07:13:39.499Z"
   },
   {
    "duration": 309,
    "start_time": "2022-10-06T07:13:39.785Z"
   },
   {
    "duration": 346,
    "start_time": "2022-10-06T07:13:40.095Z"
   },
   {
    "duration": 466,
    "start_time": "2022-10-06T07:13:40.443Z"
   },
   {
    "duration": 337,
    "start_time": "2022-10-06T07:13:40.910Z"
   },
   {
    "duration": 464,
    "start_time": "2022-10-06T07:13:41.248Z"
   },
   {
    "duration": 159,
    "start_time": "2022-10-06T07:13:41.714Z"
   },
   {
    "duration": 4,
    "start_time": "2022-10-06T07:13:41.877Z"
   },
   {
    "duration": 166,
    "start_time": "2022-10-06T07:13:41.882Z"
   },
   {
    "duration": 157,
    "start_time": "2022-10-06T07:13:42.049Z"
   },
   {
    "duration": 4,
    "start_time": "2022-10-06T07:13:42.208Z"
   },
   {
    "duration": 52,
    "start_time": "2022-10-06T07:13:42.215Z"
   },
   {
    "duration": 12,
    "start_time": "2022-10-06T07:13:42.269Z"
   },
   {
    "duration": 29,
    "start_time": "2022-10-06T07:13:42.283Z"
   },
   {
    "duration": 175,
    "start_time": "2022-10-06T07:13:42.314Z"
   },
   {
    "duration": 43,
    "start_time": "2022-10-06T07:13:42.490Z"
   },
   {
    "duration": 8,
    "start_time": "2022-10-06T07:13:42.536Z"
   },
   {
    "duration": 45,
    "start_time": "2022-10-06T07:13:42.546Z"
   },
   {
    "duration": 1353,
    "start_time": "2022-10-06T07:19:14.266Z"
   },
   {
    "duration": 10,
    "start_time": "2022-10-06T07:19:15.621Z"
   },
   {
    "duration": 9,
    "start_time": "2022-10-06T07:19:15.632Z"
   },
   {
    "duration": 42,
    "start_time": "2022-10-06T07:19:15.642Z"
   },
   {
    "duration": 12,
    "start_time": "2022-10-06T07:19:15.685Z"
   },
   {
    "duration": 10,
    "start_time": "2022-10-06T07:19:15.699Z"
   },
   {
    "duration": 20,
    "start_time": "2022-10-06T07:19:15.710Z"
   },
   {
    "duration": 10,
    "start_time": "2022-10-06T07:19:15.732Z"
   },
   {
    "duration": 7,
    "start_time": "2022-10-06T07:19:15.744Z"
   },
   {
    "duration": 24,
    "start_time": "2022-10-06T07:19:15.754Z"
   },
   {
    "duration": 11,
    "start_time": "2022-10-06T07:19:15.780Z"
   },
   {
    "duration": 18,
    "start_time": "2022-10-06T07:19:15.792Z"
   },
   {
    "duration": 282,
    "start_time": "2022-10-06T07:19:15.811Z"
   },
   {
    "duration": 319,
    "start_time": "2022-10-06T07:19:16.096Z"
   },
   {
    "duration": 347,
    "start_time": "2022-10-06T07:19:16.417Z"
   },
   {
    "duration": 462,
    "start_time": "2022-10-06T07:19:16.765Z"
   },
   {
    "duration": 351,
    "start_time": "2022-10-06T07:19:17.228Z"
   },
   {
    "duration": 430,
    "start_time": "2022-10-06T07:19:17.581Z"
   },
   {
    "duration": 165,
    "start_time": "2022-10-06T07:19:18.013Z"
   },
   {
    "duration": 5,
    "start_time": "2022-10-06T07:19:18.180Z"
   },
   {
    "duration": 166,
    "start_time": "2022-10-06T07:19:18.187Z"
   },
   {
    "duration": 157,
    "start_time": "2022-10-06T07:19:18.355Z"
   },
   {
    "duration": 5,
    "start_time": "2022-10-06T07:19:18.513Z"
   },
   {
    "duration": 42,
    "start_time": "2022-10-06T07:19:18.519Z"
   },
   {
    "duration": 7,
    "start_time": "2022-10-06T07:19:18.576Z"
   },
   {
    "duration": 14,
    "start_time": "2022-10-06T07:19:18.585Z"
   },
   {
    "duration": 164,
    "start_time": "2022-10-06T07:19:18.601Z"
   },
   {
    "duration": 41,
    "start_time": "2022-10-06T07:19:18.776Z"
   },
   {
    "duration": 7,
    "start_time": "2022-10-06T07:19:18.819Z"
   },
   {
    "duration": 15,
    "start_time": "2022-10-06T07:19:18.828Z"
   },
   {
    "duration": 61,
    "start_time": "2022-10-06T07:19:45.632Z"
   },
   {
    "duration": 7,
    "start_time": "2022-10-06T07:24:41.747Z"
   },
   {
    "duration": 10,
    "start_time": "2022-10-06T07:25:04.330Z"
   },
   {
    "duration": 1171,
    "start_time": "2022-10-06T07:32:31.409Z"
   },
   {
    "duration": 10,
    "start_time": "2022-10-06T07:32:32.582Z"
   },
   {
    "duration": 36,
    "start_time": "2022-10-06T07:32:32.594Z"
   },
   {
    "duration": 83,
    "start_time": "2022-10-06T07:32:32.632Z"
   },
   {
    "duration": 13,
    "start_time": "2022-10-06T07:32:32.717Z"
   },
   {
    "duration": 25,
    "start_time": "2022-10-06T07:32:32.731Z"
   },
   {
    "duration": 41,
    "start_time": "2022-10-06T07:32:32.758Z"
   },
   {
    "duration": 12,
    "start_time": "2022-10-06T07:32:32.801Z"
   },
   {
    "duration": 26,
    "start_time": "2022-10-06T07:32:32.814Z"
   },
   {
    "duration": 26,
    "start_time": "2022-10-06T07:32:32.841Z"
   },
   {
    "duration": 30,
    "start_time": "2022-10-06T07:32:32.869Z"
   },
   {
    "duration": 20,
    "start_time": "2022-10-06T07:32:32.901Z"
   },
   {
    "duration": 294,
    "start_time": "2022-10-06T07:32:32.922Z"
   },
   {
    "duration": 322,
    "start_time": "2022-10-06T07:32:33.220Z"
   },
   {
    "duration": 335,
    "start_time": "2022-10-06T07:32:33.544Z"
   },
   {
    "duration": 436,
    "start_time": "2022-10-06T07:32:33.880Z"
   },
   {
    "duration": 347,
    "start_time": "2022-10-06T07:32:34.318Z"
   },
   {
    "duration": 437,
    "start_time": "2022-10-06T07:32:34.666Z"
   },
   {
    "duration": 204,
    "start_time": "2022-10-06T07:32:35.104Z"
   },
   {
    "duration": 5,
    "start_time": "2022-10-06T07:32:35.310Z"
   },
   {
    "duration": 202,
    "start_time": "2022-10-06T07:32:35.317Z"
   },
   {
    "duration": 160,
    "start_time": "2022-10-06T07:32:35.521Z"
   },
   {
    "duration": 4,
    "start_time": "2022-10-06T07:32:35.683Z"
   },
   {
    "duration": 67,
    "start_time": "2022-10-06T07:32:35.689Z"
   },
   {
    "duration": 6,
    "start_time": "2022-10-06T07:32:35.758Z"
   },
   {
    "duration": 45,
    "start_time": "2022-10-06T07:32:35.766Z"
   },
   {
    "duration": 192,
    "start_time": "2022-10-06T07:32:35.813Z"
   },
   {
    "duration": 40,
    "start_time": "2022-10-06T07:32:36.007Z"
   },
   {
    "duration": 35,
    "start_time": "2022-10-06T07:32:36.048Z"
   },
   {
    "duration": 37,
    "start_time": "2022-10-06T07:32:36.085Z"
   },
   {
    "duration": 316,
    "start_time": "2022-10-06T07:35:57.806Z"
   },
   {
    "duration": 409,
    "start_time": "2022-10-06T07:36:00.327Z"
   },
   {
    "duration": 4,
    "start_time": "2022-10-06T07:37:39.462Z"
   },
   {
    "duration": 47,
    "start_time": "2022-10-06T07:39:02.544Z"
   },
   {
    "duration": 7,
    "start_time": "2022-10-06T07:41:14.823Z"
   },
   {
    "duration": 14,
    "start_time": "2022-10-06T07:42:19.108Z"
   },
   {
    "duration": 14,
    "start_time": "2022-10-06T07:43:05.923Z"
   },
   {
    "duration": 1156,
    "start_time": "2022-10-06T19:42:30.964Z"
   },
   {
    "duration": 12,
    "start_time": "2022-10-06T19:42:32.122Z"
   },
   {
    "duration": 12,
    "start_time": "2022-10-06T19:42:32.945Z"
   },
   {
    "duration": 53,
    "start_time": "2022-10-06T19:42:34.849Z"
   },
   {
    "duration": 17,
    "start_time": "2022-10-06T19:42:35.052Z"
   },
   {
    "duration": 9,
    "start_time": "2022-10-06T19:42:35.232Z"
   },
   {
    "duration": 20,
    "start_time": "2022-10-06T19:42:35.440Z"
   },
   {
    "duration": 11,
    "start_time": "2022-10-06T19:42:35.649Z"
   },
   {
    "duration": 6,
    "start_time": "2022-10-06T19:42:35.834Z"
   },
   {
    "duration": 7,
    "start_time": "2022-10-06T19:42:36.028Z"
   },
   {
    "duration": 9,
    "start_time": "2022-10-06T19:42:36.418Z"
   },
   {
    "duration": 6,
    "start_time": "2022-10-06T19:42:37.053Z"
   },
   {
    "duration": 312,
    "start_time": "2022-10-06T19:42:38.057Z"
   },
   {
    "duration": 354,
    "start_time": "2022-10-06T19:42:39.037Z"
   },
   {
    "duration": 343,
    "start_time": "2022-10-06T19:42:40.614Z"
   },
   {
    "duration": 409,
    "start_time": "2022-10-06T19:42:42.530Z"
   },
   {
    "duration": 356,
    "start_time": "2022-10-06T19:42:44.220Z"
   },
   {
    "duration": 447,
    "start_time": "2022-10-06T19:42:46.672Z"
   },
   {
    "duration": 154,
    "start_time": "2022-10-06T19:42:48.337Z"
   },
   {
    "duration": 5,
    "start_time": "2022-10-06T19:42:49.711Z"
   },
   {
    "duration": 234,
    "start_time": "2022-10-06T19:42:50.989Z"
   },
   {
    "duration": 143,
    "start_time": "2022-10-06T19:42:54.221Z"
   },
   {
    "duration": 6,
    "start_time": "2022-10-06T19:42:55.724Z"
   },
   {
    "duration": 165,
    "start_time": "2022-10-06T19:43:44.037Z"
   }
  ],
  "kernelspec": {
   "display_name": "Python 3 (ipykernel)",
   "language": "python",
   "name": "python3"
  },
  "language_info": {
   "codemirror_mode": {
    "name": "ipython",
    "version": 3
   },
   "file_extension": ".py",
   "mimetype": "text/x-python",
   "name": "python",
   "nbconvert_exporter": "python",
   "pygments_lexer": "ipython3",
   "version": "3.9.13"
  },
  "toc": {
   "base_numbering": 1,
   "nav_menu": {
    "height": "107px",
    "width": "244px"
   },
   "number_sections": true,
   "sideBar": true,
   "skip_h1_title": false,
   "title_cell": "Table of Contents",
   "title_sidebar": "Contents",
   "toc_cell": false,
   "toc_position": {
    "height": "calc(100% - 180px)",
    "left": "10px",
    "top": "150px",
    "width": "289.438px"
   },
   "toc_section_display": true,
   "toc_window_display": false
  }
 },
 "nbformat": 4,
 "nbformat_minor": 2
}
