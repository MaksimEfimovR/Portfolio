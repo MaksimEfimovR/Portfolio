{
 "cells": [
  {
   "cell_type": "markdown",
   "metadata": {},
   "source": [
    "# **Введение**\n",
    "Стартап продаёт продукты питания.\\\n",
    "Нужно выяснить, как ведут себя пользователи мобильного приложения.\n",
    "Для этого будет изучена воронка продаж. Установлен путь, которой пользователи доходят до покупки. Сколько пользователей доходит до покупки, а сколько — «застревает» на предыдущих шагах и на каких именно.\\\n",
    "\\\n",
    "После этого будет проведено исследование результатов A/A/B-эксперимента.\\\n",
    "Дизайнеры захотели поменять шрифты во всём приложении, а менеджеры считают, что пользователям будет непривычно.\\\n",
    "Решение будет принято по результатам A/A/B-теста.\\\n",
    "Пользователей разбили на 3 группы: 2 контрольные со старыми шрифтами и одну экспериментальную — с новыми.\\\n",
    "\\\n",
    "**Задача:** выяснить, какой шрифт лучше.\\\n",
    "\\\n",
    "Создание двух групп A вместо одной имеет определённые преимущества:\n",
    "  - Если две контрольные группы окажутся равны, то можно быть увереным в точности проведенного тестирования.\n",
    "  - Если же между значениями A и A будут существенные различия, это поможет обнаружить факторы, которые привели к искажению результатов.\n",
    "\n",
    "Сравнение контрольных групп также помогает понять, сколько времени и данных потребуется для дальнейших тестов.\n",
    "В случае общей аналитики и A/A/B-эксперимента работа осуществляется с одними и теми же данными.\\\n",
    "\\\n",
    "**Описание данных**\\\n",
    "Каждая запись в логе — это действие пользователя, или событие.\\\n",
    "*EventName* — название события;\\\n",
    "*DeviceIDHash* — уникальный идентификатор пользователя;\\\n",
    "*EventTimestamp* — время события;\\\n",
    "*ExpId* — номер эксперимента: 246 и 247 — контрольные группы, а 248 — экспериментальная.\\\n",
    "\\\n",
    "**Этапы анализа данных**\\\n",
    "\\\n",
    "Этап 1. Изучение общей информации.\\\n",
    "Путь к файлу: /datasets/logs_exp.csv.\\\n",
    "\\\n",
    "Этап 2. Подготовка данных\n",
    "- Замена названий столбцов на удобные;\n",
    "- Проверка наличия пропусков и типов данных;\n",
    "- Добавление столбца даты.\n",
    "\n",
    "Этап 3. Изучение и проверка данных\n",
    "- Сколько всего событий в логе.\n",
    "- Сколько всего пользователей в логе.\n",
    "- Сколько в среднем событий приходится на пользователя.\n",
    "- Данными за какой период имеются. Поиск максимальной и минимальной даты. Построение гистограммы по дате и времени. Определение момента с которого данные полные. Отброс более старых.\n",
    "- Сколко событий и пользователей потеряно после отброса старых данных.\n",
    "- Проверка наличия пользователи из всех трёх экспериментальных групп.\n",
    "\n",
    "Этап 4. Воронка событий\n",
    "- События есть в логах, как часто они встречаются. Сортировка событий по частоте.\n",
    "- Сколько пользователей совершали каждое из этих событий. Сортировка событий по числу пользователей. Долю пользователей, которые хоть раз совершали событие.\n",
    "- Возможный порядок событий.\n",
    "- Расчёт по воронке событий: какая доля пользователей проходит на следующий шаг воронки (от числа пользователей на предыдущем). \n",
    "- Определение шага на котором теряется больше всего пользователей.\n",
    "- Доля пользователей, которая доходит от первого события до оплаты.\n",
    "\n",
    "Этап 5. Эксперимент. Результаты\n",
    "- Кол-во пользователей в каждой экспериментальной группе.\n",
    "- Контрольные группы для А/А-эксперимента (246, 247): проверка корректности всех механизмов и расчётов.\n",
    "- Самое популярное событие. Подсчёт числа пользователей, совершивших это событие в каждой из контрольных групп. Подсчёт доли пользователей, совершивших это событие. Проверьте, будет ли отличие между группами статистически достоверным. Подсчёт для всех других событий. Корректность разбиения на группы.\n",
    "- Аналогичный подсчёт с группой с изменённым шрифтом. Сравните результаты с каждой из контрольных групп в отдельности по каждому событию. Результаты."
   ]
  },
  {
   "cell_type": "markdown",
   "metadata": {},
   "source": [
    "# **Анализ данных**"
   ]
  },
  {
   "cell_type": "markdown",
   "metadata": {},
   "source": [
    "# Этап 1. Общая информация"
   ]
  },
  {
   "cell_type": "code",
   "execution_count": 1,
   "metadata": {},
   "outputs": [
    {
     "data": {
      "text/html": [
       "<div>\n",
       "<style scoped>\n",
       "    .dataframe tbody tr th:only-of-type {\n",
       "        vertical-align: middle;\n",
       "    }\n",
       "\n",
       "    .dataframe tbody tr th {\n",
       "        vertical-align: top;\n",
       "    }\n",
       "\n",
       "    .dataframe thead th {\n",
       "        text-align: right;\n",
       "    }\n",
       "</style>\n",
       "<table border=\"1\" class=\"dataframe\">\n",
       "  <thead>\n",
       "    <tr style=\"text-align: right;\">\n",
       "      <th></th>\n",
       "      <th>EventName</th>\n",
       "      <th>DeviceIDHash</th>\n",
       "      <th>EventTimestamp</th>\n",
       "      <th>ExpId</th>\n",
       "    </tr>\n",
       "  </thead>\n",
       "  <tbody>\n",
       "    <tr>\n",
       "      <th>0</th>\n",
       "      <td>MainScreenAppear</td>\n",
       "      <td>4575588528974610257</td>\n",
       "      <td>1564029816</td>\n",
       "      <td>246</td>\n",
       "    </tr>\n",
       "    <tr>\n",
       "      <th>1</th>\n",
       "      <td>MainScreenAppear</td>\n",
       "      <td>7416695313311560658</td>\n",
       "      <td>1564053102</td>\n",
       "      <td>246</td>\n",
       "    </tr>\n",
       "    <tr>\n",
       "      <th>2</th>\n",
       "      <td>PaymentScreenSuccessful</td>\n",
       "      <td>3518123091307005509</td>\n",
       "      <td>1564054127</td>\n",
       "      <td>248</td>\n",
       "    </tr>\n",
       "    <tr>\n",
       "      <th>3</th>\n",
       "      <td>CartScreenAppear</td>\n",
       "      <td>3518123091307005509</td>\n",
       "      <td>1564054127</td>\n",
       "      <td>248</td>\n",
       "    </tr>\n",
       "    <tr>\n",
       "      <th>4</th>\n",
       "      <td>PaymentScreenSuccessful</td>\n",
       "      <td>6217807653094995999</td>\n",
       "      <td>1564055322</td>\n",
       "      <td>248</td>\n",
       "    </tr>\n",
       "  </tbody>\n",
       "</table>\n",
       "</div>"
      ],
      "text/plain": [
       "                 EventName         DeviceIDHash  EventTimestamp  ExpId\n",
       "0         MainScreenAppear  4575588528974610257      1564029816    246\n",
       "1         MainScreenAppear  7416695313311560658      1564053102    246\n",
       "2  PaymentScreenSuccessful  3518123091307005509      1564054127    248\n",
       "3         CartScreenAppear  3518123091307005509      1564054127    248\n",
       "4  PaymentScreenSuccessful  6217807653094995999      1564055322    248"
      ]
     },
     "execution_count": 1,
     "metadata": {},
     "output_type": "execute_result"
    }
   ],
   "source": [
    "import pandas as pd\n",
    "import matplotlib.pyplot as plt\n",
    "from plotly import graph_objects as go\n",
    "from scipy import stats as st\n",
    "import numpy as np\n",
    "import math as mth\n",
    "import plotly.io as pio\n",
    "pio.renderers.default = 'png'\n",
    "\n",
    "path = 'D:/Я.Практикум/Sprint 15 Combined project 2 AAB-test/'\n",
    "logs = pd.read_csv(path + 'logs_exp.csv', sep='\\t')\n",
    "logs.head(5)"
   ]
  },
  {
   "cell_type": "code",
   "execution_count": 2,
   "metadata": {},
   "outputs": [
    {
     "name": "stdout",
     "output_type": "stream",
     "text": [
      "<class 'pandas.core.frame.DataFrame'>\n",
      "RangeIndex: 244126 entries, 0 to 244125\n",
      "Data columns (total 4 columns):\n",
      " #   Column          Non-Null Count   Dtype \n",
      "---  ------          --------------   ----- \n",
      " 0   EventName       244126 non-null  object\n",
      " 1   DeviceIDHash    244126 non-null  int64 \n",
      " 2   EventTimestamp  244126 non-null  int64 \n",
      " 3   ExpId           244126 non-null  int64 \n",
      "dtypes: int64(3), object(1)\n",
      "memory usage: 7.5+ MB\n"
     ]
    }
   ],
   "source": [
    "logs.info()"
   ]
  },
  {
   "cell_type": "markdown",
   "metadata": {},
   "source": [
    "В датафрейме 4 столбца, 244 126 строк. Пропусков данных нет. Тип данных в столбце EventTimestamp будет преобразован в дату и время. Типы данных в остальных столбцах приемлемы для дальнейшего исследования."
   ]
  },
  {
   "cell_type": "markdown",
   "metadata": {},
   "source": [
    "# Этап 2. Подготовка данных"
   ]
  },
  {
   "cell_type": "markdown",
   "metadata": {},
   "source": [
    "- Замена названий столбцов на удобные;\n",
    "- Проверка наличия пропусков и типов данных;\n",
    "- Добавление столбца даты."
   ]
  },
  {
   "cell_type": "code",
   "execution_count": 3,
   "metadata": {},
   "outputs": [
    {
     "data": {
      "text/plain": [
       "0.0016917493425526163"
      ]
     },
     "execution_count": 3,
     "metadata": {},
     "output_type": "execute_result"
    }
   ],
   "source": [
    "logs.duplicated().mean() # проверка наличия дубликатов"
   ]
  },
  {
   "cell_type": "code",
   "execution_count": 4,
   "metadata": {},
   "outputs": [],
   "source": [
    "logs = logs[~logs.duplicated()] # исключение дубликатов из датафрейма"
   ]
  },
  {
   "cell_type": "code",
   "execution_count": 5,
   "metadata": {},
   "outputs": [
    {
     "data": {
      "text/plain": [
       "0.0"
      ]
     },
     "execution_count": 5,
     "metadata": {},
     "output_type": "execute_result"
    }
   ],
   "source": [
    "logs.duplicated().mean() # проверка наличия дубликатов после очистки от дубликатов"
   ]
  },
  {
   "cell_type": "code",
   "execution_count": 6,
   "metadata": {},
   "outputs": [
    {
     "data": {
      "text/html": [
       "<div>\n",
       "<style scoped>\n",
       "    .dataframe tbody tr th:only-of-type {\n",
       "        vertical-align: middle;\n",
       "    }\n",
       "\n",
       "    .dataframe tbody tr th {\n",
       "        vertical-align: top;\n",
       "    }\n",
       "\n",
       "    .dataframe thead th {\n",
       "        text-align: right;\n",
       "    }\n",
       "</style>\n",
       "<table border=\"1\" class=\"dataframe\">\n",
       "  <thead>\n",
       "    <tr style=\"text-align: right;\">\n",
       "      <th></th>\n",
       "      <th>EventName</th>\n",
       "      <th>DeviceIDHash</th>\n",
       "      <th>EventTimestamp</th>\n",
       "      <th>ExpId</th>\n",
       "    </tr>\n",
       "  </thead>\n",
       "  <tbody>\n",
       "    <tr>\n",
       "      <th>0</th>\n",
       "      <td>MainScreenAppear</td>\n",
       "      <td>4575588528974610257</td>\n",
       "      <td>2019-07-25 04:43:36</td>\n",
       "      <td>246</td>\n",
       "    </tr>\n",
       "    <tr>\n",
       "      <th>1</th>\n",
       "      <td>MainScreenAppear</td>\n",
       "      <td>7416695313311560658</td>\n",
       "      <td>2019-07-25 11:11:42</td>\n",
       "      <td>246</td>\n",
       "    </tr>\n",
       "    <tr>\n",
       "      <th>2</th>\n",
       "      <td>PaymentScreenSuccessful</td>\n",
       "      <td>3518123091307005509</td>\n",
       "      <td>2019-07-25 11:28:47</td>\n",
       "      <td>248</td>\n",
       "    </tr>\n",
       "    <tr>\n",
       "      <th>3</th>\n",
       "      <td>CartScreenAppear</td>\n",
       "      <td>3518123091307005509</td>\n",
       "      <td>2019-07-25 11:28:47</td>\n",
       "      <td>248</td>\n",
       "    </tr>\n",
       "    <tr>\n",
       "      <th>4</th>\n",
       "      <td>PaymentScreenSuccessful</td>\n",
       "      <td>6217807653094995999</td>\n",
       "      <td>2019-07-25 11:48:42</td>\n",
       "      <td>248</td>\n",
       "    </tr>\n",
       "  </tbody>\n",
       "</table>\n",
       "</div>"
      ],
      "text/plain": [
       "                 EventName         DeviceIDHash      EventTimestamp  ExpId\n",
       "0         MainScreenAppear  4575588528974610257 2019-07-25 04:43:36    246\n",
       "1         MainScreenAppear  7416695313311560658 2019-07-25 11:11:42    246\n",
       "2  PaymentScreenSuccessful  3518123091307005509 2019-07-25 11:28:47    248\n",
       "3         CartScreenAppear  3518123091307005509 2019-07-25 11:28:47    248\n",
       "4  PaymentScreenSuccessful  6217807653094995999 2019-07-25 11:48:42    248"
      ]
     },
     "execution_count": 6,
     "metadata": {},
     "output_type": "execute_result"
    }
   ],
   "source": [
    "logs['EventTimestamp'] = pd.to_datetime(logs['EventTimestamp'], unit='s') # преобразование столбца с датой и временем\n",
    "\n",
    "logs.head()"
   ]
  },
  {
   "cell_type": "code",
   "execution_count": 7,
   "metadata": {},
   "outputs": [
    {
     "data": {
      "text/html": [
       "<div>\n",
       "<style scoped>\n",
       "    .dataframe tbody tr th:only-of-type {\n",
       "        vertical-align: middle;\n",
       "    }\n",
       "\n",
       "    .dataframe tbody tr th {\n",
       "        vertical-align: top;\n",
       "    }\n",
       "\n",
       "    .dataframe thead th {\n",
       "        text-align: right;\n",
       "    }\n",
       "</style>\n",
       "<table border=\"1\" class=\"dataframe\">\n",
       "  <thead>\n",
       "    <tr style=\"text-align: right;\">\n",
       "      <th></th>\n",
       "      <th>event_name</th>\n",
       "      <th>user_id</th>\n",
       "      <th>event_time</th>\n",
       "      <th>group</th>\n",
       "    </tr>\n",
       "  </thead>\n",
       "  <tbody>\n",
       "    <tr>\n",
       "      <th>0</th>\n",
       "      <td>MainScreenAppear</td>\n",
       "      <td>4575588528974610257</td>\n",
       "      <td>2019-07-25 04:43:36</td>\n",
       "      <td>246</td>\n",
       "    </tr>\n",
       "    <tr>\n",
       "      <th>1</th>\n",
       "      <td>MainScreenAppear</td>\n",
       "      <td>7416695313311560658</td>\n",
       "      <td>2019-07-25 11:11:42</td>\n",
       "      <td>246</td>\n",
       "    </tr>\n",
       "    <tr>\n",
       "      <th>2</th>\n",
       "      <td>PaymentScreenSuccessful</td>\n",
       "      <td>3518123091307005509</td>\n",
       "      <td>2019-07-25 11:28:47</td>\n",
       "      <td>248</td>\n",
       "    </tr>\n",
       "    <tr>\n",
       "      <th>3</th>\n",
       "      <td>CartScreenAppear</td>\n",
       "      <td>3518123091307005509</td>\n",
       "      <td>2019-07-25 11:28:47</td>\n",
       "      <td>248</td>\n",
       "    </tr>\n",
       "    <tr>\n",
       "      <th>4</th>\n",
       "      <td>PaymentScreenSuccessful</td>\n",
       "      <td>6217807653094995999</td>\n",
       "      <td>2019-07-25 11:48:42</td>\n",
       "      <td>248</td>\n",
       "    </tr>\n",
       "  </tbody>\n",
       "</table>\n",
       "</div>"
      ],
      "text/plain": [
       "                event_name              user_id          event_time  group\n",
       "0         MainScreenAppear  4575588528974610257 2019-07-25 04:43:36    246\n",
       "1         MainScreenAppear  7416695313311560658 2019-07-25 11:11:42    246\n",
       "2  PaymentScreenSuccessful  3518123091307005509 2019-07-25 11:28:47    248\n",
       "3         CartScreenAppear  3518123091307005509 2019-07-25 11:28:47    248\n",
       "4  PaymentScreenSuccessful  6217807653094995999 2019-07-25 11:48:42    248"
      ]
     },
     "execution_count": 7,
     "metadata": {},
     "output_type": "execute_result"
    }
   ],
   "source": [
    "logs.columns = ['event_name', 'user_id', 'event_time', 'group']\n",
    "logs.head(5)"
   ]
  },
  {
   "cell_type": "code",
   "execution_count": 8,
   "metadata": {},
   "outputs": [
    {
     "name": "stdout",
     "output_type": "stream",
     "text": [
      "['MainScreenAppear' 'PaymentScreenSuccessful' 'CartScreenAppear'\n",
      " 'OffersScreenAppear' 'Tutorial']\n",
      "248    85582\n",
      "246    80181\n",
      "247    77950\n",
      "Name: group, dtype: int64\n"
     ]
    }
   ],
   "source": [
    "print(logs['event_name'].unique()) # наименования имеюшихся событий\n",
    "print(logs['group'].value_counts()) # размеры групп"
   ]
  },
  {
   "cell_type": "code",
   "execution_count": 9,
   "metadata": {},
   "outputs": [
    {
     "name": "stdout",
     "output_type": "stream",
     "text": [
      "[]\n",
      "[]\n",
      "[]\n"
     ]
    }
   ],
   "source": [
    "# проверка вхождения одного и того же устройства в несколько групп\n",
    "g246 = logs[logs['group'] == 246]['user_id']\n",
    "g247 = logs[logs['group'] == 247]['user_id']\n",
    "g248 = logs[logs['group'] == 248]['user_id']\n",
    "print(list(set(g246).intersection(set(g247)))) # в 246 и 247\n",
    "print(list(set(g246).intersection(set(g248)))) # в 246 и 248\n",
    "print(list(set(g247).intersection(set(g248)))) # в 247 и 248"
   ]
  },
  {
   "cell_type": "markdown",
   "metadata": {},
   "source": [
    "Данные проверены.\\\n",
    "Пропусков данных нет.\\\n",
    "Дубликаты записей устранены.\\\n",
    "Пользователи, входящие сразу в несколько групп, отсутствуют.\\\n",
    "В данных присутствуют только группы соответствующие описанию и целям исследования: 246, 247, 248."
   ]
  },
  {
   "cell_type": "code",
   "execution_count": 10,
   "metadata": {},
   "outputs": [],
   "source": [
    "logs['event_date'] = pd.to_datetime(logs['event_time'].dt.date) # добавление столбца с датой"
   ]
  },
  {
   "cell_type": "code",
   "execution_count": 11,
   "metadata": {},
   "outputs": [
    {
     "data": {
      "text/html": [
       "<div>\n",
       "<style scoped>\n",
       "    .dataframe tbody tr th:only-of-type {\n",
       "        vertical-align: middle;\n",
       "    }\n",
       "\n",
       "    .dataframe tbody tr th {\n",
       "        vertical-align: top;\n",
       "    }\n",
       "\n",
       "    .dataframe thead th {\n",
       "        text-align: right;\n",
       "    }\n",
       "</style>\n",
       "<table border=\"1\" class=\"dataframe\">\n",
       "  <thead>\n",
       "    <tr style=\"text-align: right;\">\n",
       "      <th></th>\n",
       "      <th>event_name</th>\n",
       "      <th>user_id</th>\n",
       "      <th>event_time</th>\n",
       "      <th>group</th>\n",
       "      <th>event_date</th>\n",
       "    </tr>\n",
       "  </thead>\n",
       "  <tbody>\n",
       "    <tr>\n",
       "      <th>0</th>\n",
       "      <td>MainScreenAppear</td>\n",
       "      <td>4575588528974610257</td>\n",
       "      <td>2019-07-25 04:43:36</td>\n",
       "      <td>246</td>\n",
       "      <td>2019-07-25</td>\n",
       "    </tr>\n",
       "    <tr>\n",
       "      <th>1</th>\n",
       "      <td>MainScreenAppear</td>\n",
       "      <td>7416695313311560658</td>\n",
       "      <td>2019-07-25 11:11:42</td>\n",
       "      <td>246</td>\n",
       "      <td>2019-07-25</td>\n",
       "    </tr>\n",
       "    <tr>\n",
       "      <th>2</th>\n",
       "      <td>PaymentScreenSuccessful</td>\n",
       "      <td>3518123091307005509</td>\n",
       "      <td>2019-07-25 11:28:47</td>\n",
       "      <td>248</td>\n",
       "      <td>2019-07-25</td>\n",
       "    </tr>\n",
       "    <tr>\n",
       "      <th>3</th>\n",
       "      <td>CartScreenAppear</td>\n",
       "      <td>3518123091307005509</td>\n",
       "      <td>2019-07-25 11:28:47</td>\n",
       "      <td>248</td>\n",
       "      <td>2019-07-25</td>\n",
       "    </tr>\n",
       "    <tr>\n",
       "      <th>4</th>\n",
       "      <td>PaymentScreenSuccessful</td>\n",
       "      <td>6217807653094995999</td>\n",
       "      <td>2019-07-25 11:48:42</td>\n",
       "      <td>248</td>\n",
       "      <td>2019-07-25</td>\n",
       "    </tr>\n",
       "  </tbody>\n",
       "</table>\n",
       "</div>"
      ],
      "text/plain": [
       "                event_name              user_id          event_time  group  \\\n",
       "0         MainScreenAppear  4575588528974610257 2019-07-25 04:43:36    246   \n",
       "1         MainScreenAppear  7416695313311560658 2019-07-25 11:11:42    246   \n",
       "2  PaymentScreenSuccessful  3518123091307005509 2019-07-25 11:28:47    248   \n",
       "3         CartScreenAppear  3518123091307005509 2019-07-25 11:28:47    248   \n",
       "4  PaymentScreenSuccessful  6217807653094995999 2019-07-25 11:48:42    248   \n",
       "\n",
       "  event_date  \n",
       "0 2019-07-25  \n",
       "1 2019-07-25  \n",
       "2 2019-07-25  \n",
       "3 2019-07-25  \n",
       "4 2019-07-25  "
      ]
     },
     "execution_count": 11,
     "metadata": {},
     "output_type": "execute_result"
    }
   ],
   "source": [
    "logs.head(5)"
   ]
  },
  {
   "cell_type": "markdown",
   "metadata": {},
   "source": [
    "# Этап 3. Изучение и проверка данных"
   ]
  },
  {
   "cell_type": "markdown",
   "metadata": {},
   "source": [
    "- Сколько всего событий в логе.\n",
    "- Сколько всего пользователей в логе.\n",
    "- Сколько в среднем событий приходится на пользователя.\n",
    "- Данными за какой период имеются. Поиск максимальной и минимальной даты. Построение гистограммы по дате и времени. Определение момента с которого данные полные. Отброс более старых.\n",
    "- Сколко событий и пользователей потеряно после отброса старых данных.\n",
    "- Проверка наличия пользователи из всех трёх экспериментальных групп."
   ]
  },
  {
   "cell_type": "code",
   "execution_count": 12,
   "metadata": {},
   "outputs": [
    {
     "data": {
      "text/plain": [
       "243713"
      ]
     },
     "execution_count": 12,
     "metadata": {},
     "output_type": "execute_result"
    }
   ],
   "source": [
    "logs['event_name'].count()"
   ]
  },
  {
   "cell_type": "code",
   "execution_count": 13,
   "metadata": {},
   "outputs": [
    {
     "data": {
      "text/plain": [
       "MainScreenAppear           119101\n",
       "OffersScreenAppear          46808\n",
       "CartScreenAppear            42668\n",
       "PaymentScreenSuccessful     34118\n",
       "Tutorial                     1018\n",
       "Name: event_name, dtype: int64"
      ]
     },
     "execution_count": 13,
     "metadata": {},
     "output_type": "execute_result"
    }
   ],
   "source": [
    "logs['event_name'].value_counts()"
   ]
  },
  {
   "cell_type": "markdown",
   "metadata": {},
   "source": [
    "В логе 243 713 событий.\\\n",
    "События разбиты на 5 уникальных:\\\n",
    "`MainScreenAppear` - показ главной сраницы,\\\n",
    "`OffersScreenAppear` - показ предложений,\\\n",
    "`CartScreenAppear` - показ корзины,\\\n",
    "`PaymentScreenSuccessful` - показ страницы успешной оплаты,\\\n",
    "`Tutorial` - руководство (обучение)."
   ]
  },
  {
   "cell_type": "code",
   "execution_count": 14,
   "metadata": {},
   "outputs": [
    {
     "data": {
      "text/plain": [
       "7551"
      ]
     },
     "execution_count": 14,
     "metadata": {},
     "output_type": "execute_result"
    }
   ],
   "source": [
    "uniq_users = logs['user_id'].nunique()\n",
    "uniq_users"
   ]
  },
  {
   "cell_type": "code",
   "execution_count": 15,
   "metadata": {},
   "outputs": [
    {
     "data": {
      "text/html": [
       "<div>\n",
       "<style scoped>\n",
       "    .dataframe tbody tr th:only-of-type {\n",
       "        vertical-align: middle;\n",
       "    }\n",
       "\n",
       "    .dataframe tbody tr th {\n",
       "        vertical-align: top;\n",
       "    }\n",
       "\n",
       "    .dataframe thead th {\n",
       "        text-align: right;\n",
       "    }\n",
       "</style>\n",
       "<table border=\"1\" class=\"dataframe\">\n",
       "  <thead>\n",
       "    <tr style=\"text-align: right;\">\n",
       "      <th></th>\n",
       "      <th>user_id</th>\n",
       "    </tr>\n",
       "    <tr>\n",
       "      <th>group</th>\n",
       "      <th></th>\n",
       "    </tr>\n",
       "  </thead>\n",
       "  <tbody>\n",
       "    <tr>\n",
       "      <th>246</th>\n",
       "      <td>2489</td>\n",
       "    </tr>\n",
       "    <tr>\n",
       "      <th>247</th>\n",
       "      <td>2520</td>\n",
       "    </tr>\n",
       "    <tr>\n",
       "      <th>248</th>\n",
       "      <td>2542</td>\n",
       "    </tr>\n",
       "  </tbody>\n",
       "</table>\n",
       "</div>"
      ],
      "text/plain": [
       "       user_id\n",
       "group         \n",
       "246       2489\n",
       "247       2520\n",
       "248       2542"
      ]
     },
     "execution_count": 15,
     "metadata": {},
     "output_type": "execute_result"
    }
   ],
   "source": [
    "logs.groupby('group').agg({'user_id':'nunique'})"
   ]
  },
  {
   "cell_type": "markdown",
   "metadata": {},
   "source": [
    "В логе 7551 уникальный пользователь. Группы пользователей близки по размеру."
   ]
  },
  {
   "cell_type": "code",
   "execution_count": 16,
   "metadata": {},
   "outputs": [
    {
     "data": {
      "text/plain": [
       "32.3"
      ]
     },
     "execution_count": 16,
     "metadata": {},
     "output_type": "execute_result"
    }
   ],
   "source": [
    "events_on_us_mean = round(logs['event_name'].count()/uniq_users, 1)\n",
    "events_on_us_mean"
   ]
  },
  {
   "cell_type": "markdown",
   "metadata": {},
   "source": [
    "В среднем на одного пользователя приходится 33 события."
   ]
  },
  {
   "cell_type": "code",
   "execution_count": 17,
   "metadata": {},
   "outputs": [
    {
     "name": "stdout",
     "output_type": "stream",
     "text": [
      "Дата начала теста: 2019-07-25 00:00:00\n",
      "Дата окончания теста: 2019-08-07 00:00:00\n"
     ]
    }
   ],
   "source": [
    "print('Дата начала теста:', logs['event_date'].min())\n",
    "print('Дата окончания теста:', logs['event_date'].max())"
   ]
  },
  {
   "cell_type": "code",
   "execution_count": 18,
   "metadata": {
    "scrolled": true
   },
   "outputs": [
    {
     "data": {
      "image/png": "[encoded data removed]",
      "text/plain": [
       "<Figure size 500x300 with 1 Axes>"
      ]
     },
     "metadata": {},
     "output_type": "display_data"
    }
   ],
   "source": [
    "plt.figure(figsize=(5, 3))\n",
    "logs['event_date'].hist(bins=14)\n",
    "plt.xticks(rotation=90);"
   ]
  },
  {
   "cell_type": "markdown",
   "metadata": {},
   "source": [
    "Из гистограммы видно, что значительный объём данных сосредоточен с 01-08-2019 по 07-08-2019. С 25 по 31 июля 2019 года данные не полные, из дальнейшего анализа их лучше исключить, чтобы они не привели к перекосу результатов. "
   ]
  },
  {
   "cell_type": "code",
   "execution_count": 19,
   "metadata": {},
   "outputs": [
    {
     "name": "stdout",
     "output_type": "stream",
     "text": [
      "<class 'pandas.core.frame.DataFrame'>\n",
      "Int64Index: 243713 entries, 0 to 244125\n",
      "Data columns (total 5 columns):\n",
      " #   Column      Non-Null Count   Dtype         \n",
      "---  ------      --------------   -----         \n",
      " 0   event_name  243713 non-null  object        \n",
      " 1   user_id     243713 non-null  int64         \n",
      " 2   event_time  243713 non-null  datetime64[ns]\n",
      " 3   group       243713 non-null  int64         \n",
      " 4   event_date  243713 non-null  datetime64[ns]\n",
      "dtypes: datetime64[ns](2), int64(2), object(1)\n",
      "memory usage: 11.2+ MB\n"
     ]
    }
   ],
   "source": [
    "logs.info()"
   ]
  },
  {
   "cell_type": "code",
   "execution_count": 20,
   "metadata": {},
   "outputs": [
    {
     "name": "stdout",
     "output_type": "stream",
     "text": [
      "Кол-во \"доехавших\" записей: 2826\n",
      "% \"доехавших\" от общего числа: 1.16\n"
     ]
    }
   ],
   "source": [
    "old_logs = logs[logs['event_date'] < '2019-08-01']\n",
    "print('Кол-во \"доехавших\" записей:', len(old_logs))\n",
    "print('% \"доехавших\" от общего числа:', round(len(old_logs)*100/len(logs),2))"
   ]
  },
  {
   "cell_type": "markdown",
   "metadata": {},
   "source": [
    "Количество записей в датафрейме, которые являются не полными, т.е. не входят в преобладающее большинство, составляет около 1% от общего числа. Их можно исключить из анализа для получения более достоверных результатов."
   ]
  },
  {
   "cell_type": "code",
   "execution_count": 21,
   "metadata": {},
   "outputs": [],
   "source": [
    "new_logs = logs[logs['event_date'] >= '2019-08-01']"
   ]
  },
  {
   "cell_type": "code",
   "execution_count": 22,
   "metadata": {},
   "outputs": [
    {
     "data": {
      "text/html": [
       "<div>\n",
       "<style scoped>\n",
       "    .dataframe tbody tr th:only-of-type {\n",
       "        vertical-align: middle;\n",
       "    }\n",
       "\n",
       "    .dataframe tbody tr th {\n",
       "        vertical-align: top;\n",
       "    }\n",
       "\n",
       "    .dataframe thead th {\n",
       "        text-align: right;\n",
       "    }\n",
       "</style>\n",
       "<table border=\"1\" class=\"dataframe\">\n",
       "  <thead>\n",
       "    <tr style=\"text-align: right;\">\n",
       "      <th></th>\n",
       "      <th>event_name_new</th>\n",
       "      <th>event_name_old</th>\n",
       "      <th>cleared, %</th>\n",
       "    </tr>\n",
       "    <tr>\n",
       "      <th>group</th>\n",
       "      <th></th>\n",
       "      <th></th>\n",
       "      <th></th>\n",
       "    </tr>\n",
       "  </thead>\n",
       "  <tbody>\n",
       "    <tr>\n",
       "      <th>246</th>\n",
       "      <td>79302</td>\n",
       "      <td>80181</td>\n",
       "      <td>1.10</td>\n",
       "    </tr>\n",
       "    <tr>\n",
       "      <th>247</th>\n",
       "      <td>77022</td>\n",
       "      <td>77950</td>\n",
       "      <td>1.19</td>\n",
       "    </tr>\n",
       "    <tr>\n",
       "      <th>248</th>\n",
       "      <td>84563</td>\n",
       "      <td>85582</td>\n",
       "      <td>1.19</td>\n",
       "    </tr>\n",
       "  </tbody>\n",
       "</table>\n",
       "</div>"
      ],
      "text/plain": [
       "       event_name_new  event_name_old  cleared, %\n",
       "group                                            \n",
       "246             79302           80181        1.10\n",
       "247             77022           77950        1.19\n",
       "248             84563           85582        1.19"
      ]
     },
     "execution_count": 22,
     "metadata": {},
     "output_type": "execute_result"
    }
   ],
   "source": [
    "nl = new_logs.groupby('group').agg({'event_name':'count'}) # датафрейм после удаления \"доехавших\" данных\n",
    "l = logs.groupby('group').agg({'event_name':'count'}) # исходный датафрей\n",
    "\n",
    "# собираем данные в одном датафрейме\n",
    "diff_event = nl.merge(l, left_on='group', right_on='group', suffixes=['_new', '_old'])\n",
    "diff_event['cleared, %'] = round((1 - diff_event['event_name_new'] / diff_event['event_name_old']) * 100, 2)\n",
    "diff_event"
   ]
  },
  {
   "cell_type": "markdown",
   "metadata": {},
   "source": [
    "После очистки отброшено около 1,2% данных по событиям."
   ]
  },
  {
   "cell_type": "code",
   "execution_count": 23,
   "metadata": {},
   "outputs": [
    {
     "data": {
      "text/html": [
       "<div>\n",
       "<style scoped>\n",
       "    .dataframe tbody tr th:only-of-type {\n",
       "        vertical-align: middle;\n",
       "    }\n",
       "\n",
       "    .dataframe tbody tr th {\n",
       "        vertical-align: top;\n",
       "    }\n",
       "\n",
       "    .dataframe thead th {\n",
       "        text-align: right;\n",
       "    }\n",
       "</style>\n",
       "<table border=\"1\" class=\"dataframe\">\n",
       "  <thead>\n",
       "    <tr style=\"text-align: right;\">\n",
       "      <th></th>\n",
       "      <th>user_id_new</th>\n",
       "      <th>user_id_old</th>\n",
       "      <th>cleared, %</th>\n",
       "    </tr>\n",
       "    <tr>\n",
       "      <th>group</th>\n",
       "      <th></th>\n",
       "      <th></th>\n",
       "      <th></th>\n",
       "    </tr>\n",
       "  </thead>\n",
       "  <tbody>\n",
       "    <tr>\n",
       "      <th>246</th>\n",
       "      <td>2484</td>\n",
       "      <td>2489</td>\n",
       "      <td>0.20</td>\n",
       "    </tr>\n",
       "    <tr>\n",
       "      <th>247</th>\n",
       "      <td>2513</td>\n",
       "      <td>2520</td>\n",
       "      <td>0.28</td>\n",
       "    </tr>\n",
       "    <tr>\n",
       "      <th>248</th>\n",
       "      <td>2537</td>\n",
       "      <td>2542</td>\n",
       "      <td>0.20</td>\n",
       "    </tr>\n",
       "  </tbody>\n",
       "</table>\n",
       "</div>"
      ],
      "text/plain": [
       "       user_id_new  user_id_old  cleared, %\n",
       "group                                      \n",
       "246           2484         2489        0.20\n",
       "247           2513         2520        0.28\n",
       "248           2537         2542        0.20"
      ]
     },
     "execution_count": 23,
     "metadata": {},
     "output_type": "execute_result"
    }
   ],
   "source": [
    "nl = new_logs.groupby('group').agg({'user_id':'nunique'})\n",
    "l = logs.groupby('group').agg({'user_id':'nunique'})\n",
    "\n",
    "# собираем данные в одном датафрейме\n",
    "diff_users = nl.merge(l, left_on='group', right_on='group', suffixes=['_new', '_old'])\n",
    "diff_users['cleared, %'] = round((1 - diff_users['user_id_new']/diff_users['user_id_old']) * 100, 2)\n",
    "diff_users"
   ]
  },
  {
   "cell_type": "code",
   "execution_count": 24,
   "metadata": {},
   "outputs": [
    {
     "data": {
      "text/plain": [
       "7534"
      ]
     },
     "execution_count": 24,
     "metadata": {},
     "output_type": "execute_result"
    }
   ],
   "source": [
    "new_logs['user_id'].nunique()"
   ]
  },
  {
   "cell_type": "markdown",
   "metadata": {},
   "source": [
    "После очистки отброшено около 0,2% пользователей. Было 7751, стало 7534."
   ]
  },
  {
   "cell_type": "markdown",
   "metadata": {},
   "source": [
    "# Этап 4. Воронка событий"
   ]
  },
  {
   "cell_type": "markdown",
   "metadata": {},
   "source": [
    "- События есть в логах, как часто они встречаются. Сортировка событий по частоте.\n",
    "- Сколько пользователей совершали каждое из этих событий. Сортировка событий по числу пользователей. Долю пользователей, которые хоть раз совершали событие.\n",
    "- Возможный порядок событий.\n",
    "- Расчёт по воронке событий: какая доля пользователей проходит на следующий шаг воронки (от числа пользователей на предыдущем). \n",
    "- Определение шага на котором теряется больше всего пользователей.\n",
    "- Доля пользователей, которая доходит от первого события до оплаты."
   ]
  },
  {
   "cell_type": "code",
   "execution_count": 25,
   "metadata": {},
   "outputs": [
    {
     "data": {
      "text/plain": [
       "MainScreenAppear           117328\n",
       "OffersScreenAppear          46333\n",
       "CartScreenAppear            42303\n",
       "PaymentScreenSuccessful     33918\n",
       "Tutorial                     1005\n",
       "Name: event_name, dtype: int64"
      ]
     },
     "execution_count": 25,
     "metadata": {},
     "output_type": "execute_result"
    }
   ],
   "source": [
    "# Посмотр событий в логах, как часто они встречаются, сортировка события по частоте.\n",
    "new_logs['event_name'].value_counts()"
   ]
  },
  {
   "cell_type": "markdown",
   "metadata": {},
   "source": [
    "Самым частым событие в логах является просмотр главной страницы, затем просмотр предложений, просмотр корзины, страница успешной оплаты и меньше всего просматривали руководство. "
   ]
  },
  {
   "cell_type": "code",
   "execution_count": 26,
   "metadata": {},
   "outputs": [
    {
     "name": "stdout",
     "output_type": "stream",
     "text": [
      "466 пользователей совершили каждое из 5 видов событий, зафиксированных в логах.\n"
     ]
    }
   ],
   "source": [
    "all_event_users = (new_logs\n",
    "                   .groupby('user_id')\n",
    "                   .agg({'event_name':'nunique'})\n",
    "                   .query('event_name == 5')\n",
    "                  )\n",
    "print(len(all_event_users),'пользователей совершили каждое из 5 видов событий, зафиксированных в логах.')"
   ]
  },
  {
   "cell_type": "code",
   "execution_count": 27,
   "metadata": {},
   "outputs": [
    {
     "data": {
      "text/html": [
       "<div>\n",
       "<style scoped>\n",
       "    .dataframe tbody tr th:only-of-type {\n",
       "        vertical-align: middle;\n",
       "    }\n",
       "\n",
       "    .dataframe tbody tr th {\n",
       "        vertical-align: top;\n",
       "    }\n",
       "\n",
       "    .dataframe thead th {\n",
       "        text-align: right;\n",
       "    }\n",
       "</style>\n",
       "<table border=\"1\" class=\"dataframe\">\n",
       "  <thead>\n",
       "    <tr style=\"text-align: right;\">\n",
       "      <th></th>\n",
       "      <th>event_name</th>\n",
       "      <th>user_id</th>\n",
       "      <th>percent_of_total</th>\n",
       "    </tr>\n",
       "  </thead>\n",
       "  <tbody>\n",
       "    <tr>\n",
       "      <th>1</th>\n",
       "      <td>MainScreenAppear</td>\n",
       "      <td>7419</td>\n",
       "      <td>98.47</td>\n",
       "    </tr>\n",
       "    <tr>\n",
       "      <th>2</th>\n",
       "      <td>OffersScreenAppear</td>\n",
       "      <td>4593</td>\n",
       "      <td>60.96</td>\n",
       "    </tr>\n",
       "    <tr>\n",
       "      <th>0</th>\n",
       "      <td>CartScreenAppear</td>\n",
       "      <td>3734</td>\n",
       "      <td>49.56</td>\n",
       "    </tr>\n",
       "    <tr>\n",
       "      <th>3</th>\n",
       "      <td>PaymentScreenSuccessful</td>\n",
       "      <td>3539</td>\n",
       "      <td>46.97</td>\n",
       "    </tr>\n",
       "    <tr>\n",
       "      <th>4</th>\n",
       "      <td>Tutorial</td>\n",
       "      <td>840</td>\n",
       "      <td>11.15</td>\n",
       "    </tr>\n",
       "  </tbody>\n",
       "</table>\n",
       "</div>"
      ],
      "text/plain": [
       "                event_name  user_id  percent_of_total\n",
       "1         MainScreenAppear     7419             98.47\n",
       "2       OffersScreenAppear     4593             60.96\n",
       "0         CartScreenAppear     3734             49.56\n",
       "3  PaymentScreenSuccessful     3539             46.97\n",
       "4                 Tutorial      840             11.15"
      ]
     },
     "execution_count": 27,
     "metadata": {},
     "output_type": "execute_result"
    }
   ],
   "source": [
    "# подсчет кол-ва пользователей совершивших каждое из событий c сортировкой по числу пользователей\n",
    "# подсчёт доли пользователей, которые хоть раз совершали событие\n",
    "event_users = (new_logs\n",
    "               .groupby('event_name', as_index=False)\n",
    "               .agg({'user_id':'nunique'})\n",
    "               .sort_values('user_id', ascending=False)\n",
    "               .assign(percent_of_total = lambda x: round(x['user_id'] * 100 / new_logs['user_id'].nunique(), 2))\n",
    "              )\n",
    "               \n",
    "event_users"
   ]
  },
  {
   "cell_type": "markdown",
   "metadata": {},
   "source": [
    "Из данной таблицы видно, что:\\\n",
    "98,47% пользователей хотя бы раз просматривали главную страницу,\\\n",
    "60,96% - просмотрели предложения,\\\n",
    "49,56% - просмотрели корзину покупок,\\\n",
    "46,97% - успешно оплатили заказ,\\\n",
    "11,15% - просматривали руководство.\\\n",
    "\\\n",
    "По процентным значениям имеющейся воронки событий и по логике совершения покупок в интернет-магазине предположительный порядок событий следующий:\n",
    "1. Просмотр главной страницы\n",
    "2. Просмотр предложений\n",
    "3. Просмотр корзины\n",
    "4. Страница успешной оплаты заказа\n",
    "\n",
    "При этом имеется некое руководство (обучение), вероятно, оно показывает, как совершать покупки в данном интернет-магазине. Чаще всего руководство можно пропустить, поэтому всего 11,15% от всех пользователей просмотрели его. Так как его просмотр является необязательным и не влияет на осуществление остальных событий, он может быть любым в очереди, но наиболее возможный вариант - сразу после попадания на главную страницу, возможно, при первом посещении, когда пользователь только знакомится с магазином. И тогда возможная очередность событий выгядит так:\n",
    "1. Просмотр главной страницы\n",
    "2. Просмотр руководства\n",
    "3. Просмотр предложений\n",
    "4. Просмотр корзины\n",
    "5. Страница успешной оплаты заказа\n",
    "\n",
    "Для дальнейшего анализа воронки продаж будем рассматривать только события, которые пользователь не может пропустить для совершения покупки, то есть:\n",
    "1. Просмотр главной страницы\n",
    "2. Просмотр предложений\n",
    "3. Просмотр корзины\n",
    "4. Страница успешной оплаты заказа"
   ]
  },
  {
   "cell_type": "code",
   "execution_count": 28,
   "metadata": {},
   "outputs": [
    {
     "data": {
      "text/html": [
       "<div>\n",
       "<style scoped>\n",
       "    .dataframe tbody tr th:only-of-type {\n",
       "        vertical-align: middle;\n",
       "    }\n",
       "\n",
       "    .dataframe tbody tr th {\n",
       "        vertical-align: top;\n",
       "    }\n",
       "\n",
       "    .dataframe thead th {\n",
       "        text-align: right;\n",
       "    }\n",
       "</style>\n",
       "<table border=\"1\" class=\"dataframe\">\n",
       "  <thead>\n",
       "    <tr style=\"text-align: right;\">\n",
       "      <th></th>\n",
       "      <th>event_name</th>\n",
       "      <th>user_id</th>\n",
       "      <th>percent_of_total</th>\n",
       "    </tr>\n",
       "  </thead>\n",
       "  <tbody>\n",
       "    <tr>\n",
       "      <th>1</th>\n",
       "      <td>MainScreenAppear</td>\n",
       "      <td>7419</td>\n",
       "      <td>98.47</td>\n",
       "    </tr>\n",
       "    <tr>\n",
       "      <th>2</th>\n",
       "      <td>OffersScreenAppear</td>\n",
       "      <td>4593</td>\n",
       "      <td>60.96</td>\n",
       "    </tr>\n",
       "    <tr>\n",
       "      <th>0</th>\n",
       "      <td>CartScreenAppear</td>\n",
       "      <td>3734</td>\n",
       "      <td>49.56</td>\n",
       "    </tr>\n",
       "    <tr>\n",
       "      <th>3</th>\n",
       "      <td>PaymentScreenSuccessful</td>\n",
       "      <td>3539</td>\n",
       "      <td>46.97</td>\n",
       "    </tr>\n",
       "  </tbody>\n",
       "</table>\n",
       "</div>"
      ],
      "text/plain": [
       "                event_name  user_id  percent_of_total\n",
       "1         MainScreenAppear     7419             98.47\n",
       "2       OffersScreenAppear     4593             60.96\n",
       "0         CartScreenAppear     3734             49.56\n",
       "3  PaymentScreenSuccessful     3539             46.97"
      ]
     },
     "execution_count": 28,
     "metadata": {},
     "output_type": "execute_result"
    }
   ],
   "source": [
    "funnel = event_users.drop(index=4)\n",
    "\n",
    "funnel"
   ]
  },
  {
   "cell_type": "code",
   "execution_count": 29,
   "metadata": {},
   "outputs": [
    {
     "data": {
      "text/html": [
       "<div>\n",
       "<style scoped>\n",
       "    .dataframe tbody tr th:only-of-type {\n",
       "        vertical-align: middle;\n",
       "    }\n",
       "\n",
       "    .dataframe tbody tr th {\n",
       "        vertical-align: top;\n",
       "    }\n",
       "\n",
       "    .dataframe thead th {\n",
       "        text-align: right;\n",
       "    }\n",
       "</style>\n",
       "<table border=\"1\" class=\"dataframe\">\n",
       "  <thead>\n",
       "    <tr style=\"text-align: right;\">\n",
       "      <th></th>\n",
       "      <th>event_name</th>\n",
       "      <th>user_id</th>\n",
       "      <th>percent_of_total</th>\n",
       "      <th>percent_of_previous</th>\n",
       "      <th>loss_of_previous</th>\n",
       "      <th>percent_of_initial</th>\n",
       "    </tr>\n",
       "  </thead>\n",
       "  <tbody>\n",
       "    <tr>\n",
       "      <th>1</th>\n",
       "      <td>MainScreenAppear</td>\n",
       "      <td>7419</td>\n",
       "      <td>98.47</td>\n",
       "      <td>NaN</td>\n",
       "      <td>NaN</td>\n",
       "      <td>100.00</td>\n",
       "    </tr>\n",
       "    <tr>\n",
       "      <th>2</th>\n",
       "      <td>OffersScreenAppear</td>\n",
       "      <td>4593</td>\n",
       "      <td>60.96</td>\n",
       "      <td>61.91</td>\n",
       "      <td>38.09</td>\n",
       "      <td>61.91</td>\n",
       "    </tr>\n",
       "    <tr>\n",
       "      <th>0</th>\n",
       "      <td>CartScreenAppear</td>\n",
       "      <td>3734</td>\n",
       "      <td>49.56</td>\n",
       "      <td>81.30</td>\n",
       "      <td>18.70</td>\n",
       "      <td>50.33</td>\n",
       "    </tr>\n",
       "    <tr>\n",
       "      <th>3</th>\n",
       "      <td>PaymentScreenSuccessful</td>\n",
       "      <td>3539</td>\n",
       "      <td>46.97</td>\n",
       "      <td>94.78</td>\n",
       "      <td>5.22</td>\n",
       "      <td>47.70</td>\n",
       "    </tr>\n",
       "  </tbody>\n",
       "</table>\n",
       "</div>"
      ],
      "text/plain": [
       "                event_name  user_id  percent_of_total  percent_of_previous  \\\n",
       "1         MainScreenAppear     7419             98.47                  NaN   \n",
       "2       OffersScreenAppear     4593             60.96                61.91   \n",
       "0         CartScreenAppear     3734             49.56                81.30   \n",
       "3  PaymentScreenSuccessful     3539             46.97                94.78   \n",
       "\n",
       "   loss_of_previous  percent_of_initial  \n",
       "1               NaN              100.00  \n",
       "2             38.09               61.91  \n",
       "0             18.70               50.33  \n",
       "3              5.22               47.70  "
      ]
     },
     "execution_count": 29,
     "metadata": {},
     "output_type": "execute_result"
    }
   ],
   "source": [
    "funnel.assign(percent_of_previous = lambda x: round(x['user_id'] * 100 / x['user_id'].shift(), 2))\\\n",
    "      .assign(loss_of_previous = lambda x: round((1 - x['user_id'] / x['user_id'].shift()) * 100, 2))\\\n",
    "      .assign(percent_of_initial = lambda x: round(x['user_id'] * 100 / funnel['user_id'].max(), 2))"
   ]
  },
  {
   "cell_type": "code",
   "execution_count": 30,
   "metadata": {
    "scrolled": false
   },
   "outputs": [
    {
     "data": {
      "image/png": "[encoded data removed]"
     },
     "metadata": {},
     "output_type": "display_data"
    }
   ],
   "source": [
    "fig = go.Figure(go.Funnel(\n",
    "    y = funnel['event_name'],\n",
    "    x = funnel['user_id'],\n",
    "    textposition = \"inside\",\n",
    "    textinfo = \"value+percent initial+percent previous\",\n",
    "    opacity = 1, marker = {\"color\": [\"deepskyblue\", \"lightsalmon\", \"lightyellow\", \"teal\"],\n",
    "    \"line\": {\"width\": [4, 2, 2, 3, 1, 1], \"color\": [\"wheat\", \"wheat\", \"wheat\", \"wheat\", \"wheat\"]}},\n",
    "    connector = {\"line\": {\"color\": \"grey\", \"dash\": \"dot\", \"width\": 3}})\n",
    "    )\n",
    "fig.update_layout(title=\"Воронка событий\", width=900, height=500)\n",
    "fig.show()"
   ]
  },
  {
   "cell_type": "markdown",
   "metadata": {},
   "source": [
    "Самым частым событие в логах является просмотр главной страницы, затем просмотр предложений, просмотр корзины, страница успешной оплаты и меньше всего просматривали руководство.\\\n",
    "466 пользователей совершили каждое из 5 видов событий, зафиксированных в логах.\\\n",
    "Из таблицы видно, что:\\\n",
    "98,47% пользователей хотя бы раз просматривали главную страницу,\\\n",
    "60,96% - просмотрели предложения,\\\n",
    "49,56% - просмотрели корзину покупок,\\\n",
    "46,97% - успешно оплатили заказ,\\\n",
    "11,15% - просматривали руководство.\\\n",
    "\\\n",
    "По процентным значениям имеющейся воронки событий и по логике совершения покупок в интернет-магазине предположительный порядок событий следующий:\n",
    "1. Просмотр главной страницы\n",
    "2. Просмотр предложений\n",
    "3. Просмотр корзины\n",
    "4. Страница успешной оплаты заказа\n",
    "\n",
    "При этом имеется некое руководство (обучение), вероятно, оно показывает, как совершать покупки в данном интернет-магазине. Чаще всего руководство можно пропустить, поэтому всего 11,15% от всех пользователей просмотрели его. Так как его просмотр является необязательным и не влияет на осуществление остальных событий, он может быть любым в очереди, но наиболее возможный вариант - сразу после попадания на главную страницу, возможно, при первом посещении, когда пользователь только знакомится с магазином. И тогда возможная очередность событий выгядит так:\n",
    "1. Просмотр главной страницы\n",
    "2. Просмотр руководства\n",
    "3. Просмотр предложений\n",
    "4. Просмотр корзины\n",
    "5. Страница успешной оплаты заказа\n",
    "\n",
    "Для дальнейшего анализа воронки продаж будем рассматривать только события, которые пользователь не может пропустить для совершения покупки, то есть:\n",
    "1. Просмотр главной страницы\n",
    "2. Просмотр предложений\n",
    "3. Просмотр корзины\n",
    "4. Страница успешной оплаты заказа\n",
    "\n",
    "По воронке событий посчитано, что:"
   ]
  },
  {
   "cell_type": "markdown",
   "metadata": {},
   "source": [
    "\n",
    "| Вид события | Кол-во пользователей текущего события| Доля от всех пользователей, % | Доля от предыдущего события, % | Потеря пользователей от пред.шага, % | Доля пользователей от первого события, % |\n",
    "| :-: | :-: | :-: | :-: | :-: | :-: |\n",
    "| Просмотр главной страницы | 7419 | 98.47 | - | - | 100.00 |\n",
    "| Просмотр предложений | 4593 | 60.96 | 61.91 | 38.09 | 61.91 |\n",
    "| Просмотр корзины | 3734 | 49.56 | 81.30 | 18.70 | 50.33 |\n",
    "| Успешная оплата | 3539 | 46.97 | 94.78 | 5.22 | 47.70 |"
   ]
  },
  {
   "cell_type": "markdown",
   "metadata": {},
   "source": [
    "Наибольшая потеря пользователей происходит на этапе просмотра предложений, после просмотра главной страницы - 38% уходят.\\\n",
    "48% процентов пользователей, просматривавших главную страницу, в конечном счёте совершили покупку."
   ]
  },
  {
   "cell_type": "markdown",
   "metadata": {},
   "source": [
    "# Этап 5. Эксперимент. Результаты"
   ]
  },
  {
   "cell_type": "markdown",
   "metadata": {},
   "source": [
    "- Количество пользователей в каждой экспериментальной группе.\n",
    "- Проверка по статистическим критериям наличия разницы между выборками 246 и 247 (2 контрольные группы для А/А-эксперимента) с целью проверить корректность всех механизмов и расчётов.\n",
    "- Самое популярное событие. Количество пользователей, совершивших это событие в каждой из контрольных групп. Доля пользователей, совершивших это событие. Проверка отличия между группами статистически достоверным.\n",
    "- Проверка группы с изменённым шрифтом. Сравнение результатов каждой из контрольных групп в отдельности по каждому событию. Сравнение результатов с объединённой контрольной группой."
   ]
  },
  {
   "cell_type": "code",
   "execution_count": 31,
   "metadata": {},
   "outputs": [
    {
     "data": {
      "text/html": [
       "<div>\n",
       "<style scoped>\n",
       "    .dataframe tbody tr th:only-of-type {\n",
       "        vertical-align: middle;\n",
       "    }\n",
       "\n",
       "    .dataframe tbody tr th {\n",
       "        vertical-align: top;\n",
       "    }\n",
       "\n",
       "    .dataframe thead th {\n",
       "        text-align: right;\n",
       "    }\n",
       "</style>\n",
       "<table border=\"1\" class=\"dataframe\">\n",
       "  <thead>\n",
       "    <tr style=\"text-align: right;\">\n",
       "      <th></th>\n",
       "      <th>user_id</th>\n",
       "    </tr>\n",
       "    <tr>\n",
       "      <th>group</th>\n",
       "      <th></th>\n",
       "    </tr>\n",
       "  </thead>\n",
       "  <tbody>\n",
       "    <tr>\n",
       "      <th>246</th>\n",
       "      <td>2484</td>\n",
       "    </tr>\n",
       "    <tr>\n",
       "      <th>247</th>\n",
       "      <td>2513</td>\n",
       "    </tr>\n",
       "    <tr>\n",
       "      <th>248</th>\n",
       "      <td>2537</td>\n",
       "    </tr>\n",
       "  </tbody>\n",
       "</table>\n",
       "</div>"
      ],
      "text/plain": [
       "       user_id\n",
       "group         \n",
       "246       2484\n",
       "247       2513\n",
       "248       2537"
      ]
     },
     "execution_count": 31,
     "metadata": {},
     "output_type": "execute_result"
    }
   ],
   "source": [
    "# кол-во пользователей в каждой экспериментальной группе\n",
    "nl"
   ]
  },
  {
   "cell_type": "code",
   "execution_count": 32,
   "metadata": {},
   "outputs": [
    {
     "data": {
      "text/html": [
       "<div>\n",
       "<style scoped>\n",
       "    .dataframe tbody tr th:only-of-type {\n",
       "        vertical-align: middle;\n",
       "    }\n",
       "\n",
       "    .dataframe tbody tr th {\n",
       "        vertical-align: top;\n",
       "    }\n",
       "\n",
       "    .dataframe thead th {\n",
       "        text-align: right;\n",
       "    }\n",
       "</style>\n",
       "<table border=\"1\" class=\"dataframe\">\n",
       "  <thead>\n",
       "    <tr style=\"text-align: right;\">\n",
       "      <th>group</th>\n",
       "      <th>246</th>\n",
       "      <th>247</th>\n",
       "      <th>248</th>\n",
       "    </tr>\n",
       "    <tr>\n",
       "      <th>event_name</th>\n",
       "      <th></th>\n",
       "      <th></th>\n",
       "      <th></th>\n",
       "    </tr>\n",
       "  </thead>\n",
       "  <tbody>\n",
       "    <tr>\n",
       "      <th>MainScreenAppear</th>\n",
       "      <td>2450</td>\n",
       "      <td>2476</td>\n",
       "      <td>2493</td>\n",
       "    </tr>\n",
       "    <tr>\n",
       "      <th>OffersScreenAppear</th>\n",
       "      <td>1542</td>\n",
       "      <td>1520</td>\n",
       "      <td>1531</td>\n",
       "    </tr>\n",
       "    <tr>\n",
       "      <th>CartScreenAppear</th>\n",
       "      <td>1266</td>\n",
       "      <td>1238</td>\n",
       "      <td>1230</td>\n",
       "    </tr>\n",
       "    <tr>\n",
       "      <th>PaymentScreenSuccessful</th>\n",
       "      <td>1200</td>\n",
       "      <td>1158</td>\n",
       "      <td>1181</td>\n",
       "    </tr>\n",
       "  </tbody>\n",
       "</table>\n",
       "</div>"
      ],
      "text/plain": [
       "group                     246   247   248\n",
       "event_name                               \n",
       "MainScreenAppear         2450  2476  2493\n",
       "OffersScreenAppear       1542  1520  1531\n",
       "CartScreenAppear         1266  1238  1230\n",
       "PaymentScreenSuccessful  1200  1158  1181"
      ]
     },
     "execution_count": 32,
     "metadata": {},
     "output_type": "execute_result"
    }
   ],
   "source": [
    "test_group = new_logs.pivot_table(index='event_name', columns='group', values='user_id', aggfunc='nunique')\\\n",
    "            .sort_values(246, ascending=False)\\\n",
    "            .drop('Tutorial')\n",
    "test_group"
   ]
  },
  {
   "cell_type": "markdown",
   "metadata": {},
   "source": [
    "Нулевая гипотеза: пропорций двух генеральных совокупностей равны.\\\n",
    "Альтернативная гипотеза: они не равны."
   ]
  },
  {
   "cell_type": "code",
   "execution_count": 33,
   "metadata": {},
   "outputs": [],
   "source": [
    "def proportion_test(test_group, group_1, group_2, alpha):\n",
    "    for x in test_group.index:\n",
    "\n",
    "        # критический уровень статистической значимости\n",
    "        #alpha = .01\n",
    "\n",
    "        # пропорция успехов в первой группе:\n",
    "        p1 = test_group[group_1][x]/test_group[group_1].sum()\n",
    "\n",
    "        # пропорция успехов во второй группе:\n",
    "        p2 = test_group[group_2][x]/test_group[group_2].sum()\n",
    "\n",
    "        # пропорция успехов в комбинированном датасете:\n",
    "        p_combined = (test_group[group_1][x] + test_group[group_2][x])\\\n",
    "                   / (test_group[group_1].sum() + test_group[group_2].sum())\n",
    "\n",
    "        # разница пропорций в датасетах\n",
    "        difference = p1 - p2\n",
    "\n",
    "        # считаем статистику в ст.отклонениях стандартного нормального распределения\n",
    "        z_value = difference / mth.sqrt(p_combined * (1 - p_combined) * (1/test_group[group_1].sum() + 1/test_group[group_2].sum()))\n",
    "\n",
    "        # задаем стандартное нормальное распределение (среднее 0, ст.отклонение 1)\n",
    "        distr = st.norm(0, 1)\n",
    "\n",
    "        p_value = (1 - distr.cdf(abs(z_value))) * 2\n",
    "\n",
    "        print(f'{x} p-значение:', p_value)\n",
    "\n",
    "        if p_value < alpha:\n",
    "            print('Отвергаем нулевую гипотезу: между долями есть значимая разница\\n')\n",
    "        else:\n",
    "            print(\n",
    "                'Не получилось отвергнуть нулевую гипотезу, нет оснований считать доли разными\\n'\n",
    "            )"
   ]
  },
  {
   "cell_type": "code",
   "execution_count": 34,
   "metadata": {},
   "outputs": [
    {
     "name": "stdout",
     "output_type": "stream",
     "text": [
      "MainScreenAppear p-значение: 0.35195027387494493\n",
      "Не получилось отвергнуть нулевую гипотезу, нет оснований считать доли разными\n",
      "\n",
      "OffersScreenAppear p-значение: 0.8966517949162409\n",
      "Не получилось отвергнуть нулевую гипотезу, нет оснований считать доли разными\n",
      "\n",
      "CartScreenAppear p-значение: 0.7359876852552283\n",
      "Не получилось отвергнуть нулевую гипотезу, нет оснований считать доли разными\n",
      "\n",
      "PaymentScreenSuccessful p-значение: 0.4957537491808677\n",
      "Не получилось отвергнуть нулевую гипотезу, нет оснований считать доли разными\n",
      "\n"
     ]
    }
   ],
   "source": [
    "proportion_test(test_group, 246, 247, .05)"
   ]
  },
  {
   "cell_type": "markdown",
   "metadata": {},
   "source": [
    "На основании проведенного теста для контрольных групп 246 и 247, для каждого из событий в логе, можно сделать вывод, что статистически значимой разницы между группами нет."
   ]
  },
  {
   "cell_type": "code",
   "execution_count": 35,
   "metadata": {},
   "outputs": [
    {
     "name": "stdout",
     "output_type": "stream",
     "text": [
      "MainScreenAppear p-значение: 0.3479384267818224\n",
      "Не получилось отвергнуть нулевую гипотезу, нет оснований считать доли разными\n",
      "\n",
      "OffersScreenAppear p-значение: 0.9091919819522383\n",
      "Не получилось отвергнуть нулевую гипотезу, нет оснований считать доли разными\n",
      "\n",
      "CartScreenAppear p-значение: 0.4819458398461809\n",
      "Не получилось отвергнуть нулевую гипотезу, нет оснований считать доли разными\n",
      "\n",
      "PaymentScreenSuccessful p-значение: 0.7377553009873645\n",
      "Не получилось отвергнуть нулевую гипотезу, нет оснований считать доли разными\n",
      "\n"
     ]
    }
   ],
   "source": [
    "proportion_test(test_group, 246, 248, .05)"
   ]
  },
  {
   "cell_type": "markdown",
   "metadata": {},
   "source": [
    "На основании проведенного теста для групп 246 и 248, для каждого из событий в логе, можно сделать вывод, что статистически значимой разницы между группами нет."
   ]
  },
  {
   "cell_type": "code",
   "execution_count": 36,
   "metadata": {},
   "outputs": [
    {
     "name": "stdout",
     "output_type": "stream",
     "text": [
      "MainScreenAppear p-значение: 0.9950483608560174\n",
      "Не получилось отвергнуть нулевую гипотезу, нет оснований считать доли разными\n",
      "\n",
      "OffersScreenAppear p-значение: 0.9872247229217914\n",
      "Не получилось отвергнуть нулевую гипотезу, нет оснований считать доли разными\n",
      "\n",
      "CartScreenAppear p-значение: 0.7154743061042801\n",
      "Не получилось отвергнуть нулевую гипотезу, нет оснований считать доли разными\n",
      "\n",
      "PaymentScreenSuccessful p-значение: 0.7288652017205819\n",
      "Не получилось отвергнуть нулевую гипотезу, нет оснований считать доли разными\n",
      "\n"
     ]
    }
   ],
   "source": [
    "proportion_test(test_group, 247, 248, .05)"
   ]
  },
  {
   "cell_type": "markdown",
   "metadata": {},
   "source": [
    "На основании проведенного теста для групп 247 и 248, для каждого из событий в логе, можно сделать вывод, что статистически значимой разницы между группами нет."
   ]
  },
  {
   "cell_type": "code",
   "execution_count": 37,
   "metadata": {},
   "outputs": [
    {
     "data": {
      "text/html": [
       "<div>\n",
       "<style scoped>\n",
       "    .dataframe tbody tr th:only-of-type {\n",
       "        vertical-align: middle;\n",
       "    }\n",
       "\n",
       "    .dataframe tbody tr th {\n",
       "        vertical-align: top;\n",
       "    }\n",
       "\n",
       "    .dataframe thead th {\n",
       "        text-align: right;\n",
       "    }\n",
       "</style>\n",
       "<table border=\"1\" class=\"dataframe\">\n",
       "  <thead>\n",
       "    <tr style=\"text-align: right;\">\n",
       "      <th>group</th>\n",
       "      <th>246</th>\n",
       "      <th>247</th>\n",
       "      <th>248</th>\n",
       "      <th>A</th>\n",
       "    </tr>\n",
       "    <tr>\n",
       "      <th>event_name</th>\n",
       "      <th></th>\n",
       "      <th></th>\n",
       "      <th></th>\n",
       "      <th></th>\n",
       "    </tr>\n",
       "  </thead>\n",
       "  <tbody>\n",
       "    <tr>\n",
       "      <th>MainScreenAppear</th>\n",
       "      <td>2450</td>\n",
       "      <td>2476</td>\n",
       "      <td>2493</td>\n",
       "      <td>4926</td>\n",
       "    </tr>\n",
       "    <tr>\n",
       "      <th>OffersScreenAppear</th>\n",
       "      <td>1542</td>\n",
       "      <td>1520</td>\n",
       "      <td>1531</td>\n",
       "      <td>3062</td>\n",
       "    </tr>\n",
       "    <tr>\n",
       "      <th>CartScreenAppear</th>\n",
       "      <td>1266</td>\n",
       "      <td>1238</td>\n",
       "      <td>1230</td>\n",
       "      <td>2504</td>\n",
       "    </tr>\n",
       "    <tr>\n",
       "      <th>PaymentScreenSuccessful</th>\n",
       "      <td>1200</td>\n",
       "      <td>1158</td>\n",
       "      <td>1181</td>\n",
       "      <td>2358</td>\n",
       "    </tr>\n",
       "  </tbody>\n",
       "</table>\n",
       "</div>"
      ],
      "text/plain": [
       "group                     246   247   248     A\n",
       "event_name                                     \n",
       "MainScreenAppear         2450  2476  2493  4926\n",
       "OffersScreenAppear       1542  1520  1531  3062\n",
       "CartScreenAppear         1266  1238  1230  2504\n",
       "PaymentScreenSuccessful  1200  1158  1181  2358"
      ]
     },
     "execution_count": 37,
     "metadata": {},
     "output_type": "execute_result"
    }
   ],
   "source": [
    "testAB = test_group.assign(A = lambda x: x[246] + x[247])\n",
    "testAB"
   ]
  },
  {
   "cell_type": "code",
   "execution_count": 38,
   "metadata": {},
   "outputs": [
    {
     "name": "stdout",
     "output_type": "stream",
     "text": [
      "MainScreenAppear p-значение: 0.584187313263467\n",
      "Не получилось отвергнуть нулевую гипотезу, нет оснований считать доли разными\n",
      "\n",
      "OffersScreenAppear p-значение: 0.9546052060788499\n",
      "Не получилось отвергнуть нулевую гипотезу, нет оснований считать доли разными\n",
      "\n",
      "CartScreenAppear p-значение: 0.5374067036534838\n",
      "Не получилось отвергнуть нулевую гипотезу, нет оснований считать доли разными\n",
      "\n",
      "PaymentScreenSuccessful p-значение: 0.9965395455405515\n",
      "Не получилось отвергнуть нулевую гипотезу, нет оснований считать доли разными\n",
      "\n"
     ]
    }
   ],
   "source": [
    "proportion_test(testAB, 'A', 248, .05)"
   ]
  },
  {
   "cell_type": "markdown",
   "metadata": {},
   "source": [
    "Были проведены проверки отличия групп для каждого из возможных событий:\n",
    "1. Просмотр главной страницы\n",
    "2. Просмотр предложений\n",
    "3. Просмотр корзины\n",
    "4. Страница успешной оплаты заказа\n",
    "\n",
    "Проверки произведены:\n",
    " - для контрольных групп 246 и 247,\n",
    " - для групп до и после изменения шрифтов 246 и 248, 247 и 248,\n",
    " - для объединенной группы А, которая получена путем объединения групп 246, 247, и 248.\n",
    " \n",
    "Самым популярным событием является просмотр главной страницы - MainScreenAppear. Его совершили:\n",
    " - в группе 246 - 2450 пользователей,\n",
    " - в группе 247 - 2476 пользователей,\n",
    " - в группе 248 - 2493 пользователя.\n",
    "\n",
    "Результаты теста групп 246 и 247 показали, что статистически значимой разницы между группами нет, значит механизмы и расчёты тестирования - корректны. Разбиение на группы работает корректно.\\\n",
    "\\\n",
    "В сумме проведено 12 тестов, каждый из которых показал отсутствие статистически значимой разницы между группами по каждому из событий.\n",
    "Тесты проведены для уровня статистической значимости 0,05.\n",
    "\n",
    "**Вывод:** На основании проведённых тестов можно сделать вывод о том, что статистически значимой разницы между группами (до и после изменения шрифтов) нет. Это говорит о том, что изменение шрифтов в приложении никак не повлияло на поведение пользователей."
   ]
  }
 ],
 "metadata": {
  "ExecuteTimeLog": [
   {
    "duration": 940,
    "start_time": "2022-10-08T06:32:04.672Z"
   },
   {
    "duration": 169,
    "start_time": "2022-10-08T06:32:19.412Z"
   },
   {
    "duration": 19,
    "start_time": "2022-10-08T06:41:24.213Z"
   },
   {
    "duration": 67,
    "start_time": "2022-10-08T06:41:38.832Z"
   },
   {
    "duration": 54,
    "start_time": "2022-10-08T06:41:48.332Z"
   },
   {
    "duration": 59,
    "start_time": "2022-10-08T06:42:12.753Z"
   },
   {
    "duration": 58,
    "start_time": "2022-10-08T06:42:21.673Z"
   },
   {
    "duration": 416,
    "start_time": "2022-10-08T06:43:36.332Z"
   },
   {
    "duration": 15,
    "start_time": "2022-10-08T06:44:14.645Z"
   },
   {
    "duration": 10,
    "start_time": "2022-10-08T06:44:40.348Z"
   },
   {
    "duration": 53,
    "start_time": "2022-10-08T06:44:45.172Z"
   },
   {
    "duration": 4,
    "start_time": "2022-10-08T06:46:12.911Z"
   },
   {
    "duration": 11,
    "start_time": "2022-10-08T06:46:34.393Z"
   },
   {
    "duration": 12,
    "start_time": "2022-10-08T06:46:42.332Z"
   },
   {
    "duration": 14,
    "start_time": "2022-10-08T06:47:05.196Z"
   },
   {
    "duration": 18,
    "start_time": "2022-10-08T06:47:11.958Z"
   },
   {
    "duration": 11,
    "start_time": "2022-10-08T06:47:31.073Z"
   },
   {
    "duration": 8,
    "start_time": "2022-10-08T06:47:41.684Z"
   },
   {
    "duration": 45,
    "start_time": "2022-10-08T06:47:50.093Z"
   },
   {
    "duration": 11,
    "start_time": "2022-10-08T06:48:03.451Z"
   },
   {
    "duration": 35,
    "start_time": "2022-10-08T06:48:10.493Z"
   },
   {
    "duration": 10,
    "start_time": "2022-10-08T06:48:21.813Z"
   },
   {
    "duration": 31,
    "start_time": "2022-10-08T06:48:28.012Z"
   },
   {
    "duration": 958,
    "start_time": "2022-10-08T06:49:28.092Z"
   },
   {
    "duration": 153,
    "start_time": "2022-10-08T06:49:34.712Z"
   },
   {
    "duration": 25,
    "start_time": "2022-10-08T06:49:34.867Z"
   },
   {
    "duration": 56,
    "start_time": "2022-10-08T06:49:34.893Z"
   },
   {
    "duration": 72,
    "start_time": "2022-10-08T06:49:34.951Z"
   },
   {
    "duration": 61,
    "start_time": "2022-10-08T06:49:35.025Z"
   },
   {
    "duration": 13,
    "start_time": "2022-10-08T06:49:35.088Z"
   },
   {
    "duration": 19,
    "start_time": "2022-10-08T06:49:37.772Z"
   },
   {
    "duration": 20,
    "start_time": "2022-10-08T06:49:55.212Z"
   },
   {
    "duration": 15,
    "start_time": "2022-10-08T06:49:58.371Z"
   },
   {
    "duration": 11,
    "start_time": "2022-10-08T06:50:14.832Z"
   },
   {
    "duration": 15,
    "start_time": "2022-10-08T06:50:32.772Z"
   },
   {
    "duration": 19,
    "start_time": "2022-10-08T06:50:39.103Z"
   },
   {
    "duration": 8,
    "start_time": "2022-10-08T06:51:07.432Z"
   },
   {
    "duration": 18,
    "start_time": "2022-10-08T06:57:04.661Z"
   },
   {
    "duration": 19,
    "start_time": "2022-10-08T07:12:30.874Z"
   },
   {
    "duration": 155,
    "start_time": "2022-10-08T07:13:53.750Z"
   },
   {
    "duration": 24,
    "start_time": "2022-10-08T07:13:53.907Z"
   },
   {
    "duration": 72,
    "start_time": "2022-10-08T07:13:53.933Z"
   },
   {
    "duration": 58,
    "start_time": "2022-10-08T07:13:54.007Z"
   },
   {
    "duration": 51,
    "start_time": "2022-10-08T07:13:54.076Z"
   },
   {
    "duration": 13,
    "start_time": "2022-10-08T07:13:54.128Z"
   },
   {
    "duration": 8,
    "start_time": "2022-10-08T07:13:54.142Z"
   },
   {
    "duration": 9,
    "start_time": "2022-10-08T07:16:33.852Z"
   },
   {
    "duration": 21,
    "start_time": "2022-10-08T07:16:41.242Z"
   },
   {
    "duration": 41,
    "start_time": "2022-10-08T07:18:42.169Z"
   },
   {
    "duration": 798,
    "start_time": "2022-10-08T07:18:45.570Z"
   },
   {
    "duration": 734,
    "start_time": "2022-10-08T07:19:46.470Z"
   },
   {
    "duration": 1234,
    "start_time": "2022-10-08T07:20:51.470Z"
   },
   {
    "duration": 1463,
    "start_time": "2022-10-08T07:21:06.151Z"
   },
   {
    "duration": 26,
    "start_time": "2022-10-08T07:21:37.090Z"
   },
   {
    "duration": 21,
    "start_time": "2022-10-08T07:21:56.992Z"
   },
   {
    "duration": 17,
    "start_time": "2022-10-08T07:22:12.969Z"
   },
   {
    "duration": 18,
    "start_time": "2022-10-08T07:22:58.951Z"
   },
   {
    "duration": 7,
    "start_time": "2022-10-08T07:23:11.237Z"
   },
   {
    "duration": 9,
    "start_time": "2022-10-08T07:23:32.654Z"
   },
   {
    "duration": 17,
    "start_time": "2022-10-08T07:23:42.749Z"
   },
   {
    "duration": 33,
    "start_time": "2022-10-08T07:24:44.841Z"
   },
   {
    "duration": 31,
    "start_time": "2022-10-08T07:24:51.410Z"
   },
   {
    "duration": 35,
    "start_time": "2022-10-08T07:25:00.553Z"
   },
   {
    "duration": 32,
    "start_time": "2022-10-08T07:25:41.648Z"
   },
   {
    "duration": 17,
    "start_time": "2022-10-08T07:25:56.289Z"
   },
   {
    "duration": 15,
    "start_time": "2022-10-08T07:26:09.049Z"
   },
   {
    "duration": 32,
    "start_time": "2022-10-08T07:26:12.469Z"
   },
   {
    "duration": 39,
    "start_time": "2022-10-08T07:26:35.170Z"
   },
   {
    "duration": 61,
    "start_time": "2022-10-08T07:27:05.384Z"
   },
   {
    "duration": 63,
    "start_time": "2022-10-08T07:27:24.971Z"
   },
   {
    "duration": 60,
    "start_time": "2022-10-08T07:27:41.241Z"
   },
   {
    "duration": 61,
    "start_time": "2022-10-08T07:27:47.370Z"
   },
   {
    "duration": 61,
    "start_time": "2022-10-08T07:28:33.971Z"
   },
   {
    "duration": 9,
    "start_time": "2022-10-08T07:33:19.250Z"
   },
   {
    "duration": 23,
    "start_time": "2022-10-08T07:33:20.790Z"
   },
   {
    "duration": 1385,
    "start_time": "2022-10-08T07:33:21.757Z"
   },
   {
    "duration": 88,
    "start_time": "2022-10-08T07:33:35.153Z"
   },
   {
    "duration": 9,
    "start_time": "2022-10-08T07:35:04.407Z"
   },
   {
    "duration": 21,
    "start_time": "2022-10-08T07:35:08.608Z"
   },
   {
    "duration": 915,
    "start_time": "2022-10-08T07:35:10.033Z"
   },
   {
    "duration": 61,
    "start_time": "2022-10-08T07:35:23.295Z"
   },
   {
    "duration": 46,
    "start_time": "2022-10-08T07:35:59.276Z"
   },
   {
    "duration": 4,
    "start_time": "2022-10-08T07:36:56.868Z"
   },
   {
    "duration": 5,
    "start_time": "2022-10-08T07:37:48.189Z"
   },
   {
    "duration": 123,
    "start_time": "2022-10-08T08:26:08.595Z"
   },
   {
    "duration": 15,
    "start_time": "2022-10-08T08:26:14.066Z"
   },
   {
    "duration": 7,
    "start_time": "2022-10-08T08:26:52.297Z"
   },
   {
    "duration": 7,
    "start_time": "2022-10-08T08:27:02.207Z"
   },
   {
    "duration": 9,
    "start_time": "2022-10-08T08:27:07.197Z"
   },
   {
    "duration": 21,
    "start_time": "2022-10-08T08:50:56.025Z"
   },
   {
    "duration": 170,
    "start_time": "2022-10-08T08:51:05.324Z"
   },
   {
    "duration": 20,
    "start_time": "2022-10-08T08:51:18.465Z"
   },
   {
    "duration": 10,
    "start_time": "2022-10-08T08:58:50.785Z"
   },
   {
    "duration": 5,
    "start_time": "2022-10-08T08:59:41.544Z"
   },
   {
    "duration": 36,
    "start_time": "2022-10-08T09:00:09.604Z"
   },
   {
    "duration": 67,
    "start_time": "2022-10-08T09:01:10.705Z"
   },
   {
    "duration": 13,
    "start_time": "2022-10-08T09:03:02.134Z"
   },
   {
    "duration": 7,
    "start_time": "2022-10-08T09:03:11.783Z"
   },
   {
    "duration": 34,
    "start_time": "2022-10-08T09:03:12.804Z"
   },
   {
    "duration": 11,
    "start_time": "2022-10-08T09:03:14.353Z"
   },
   {
    "duration": 12,
    "start_time": "2022-10-08T09:03:57.624Z"
   },
   {
    "duration": 12,
    "start_time": "2022-10-08T09:04:06.285Z"
   },
   {
    "duration": 8,
    "start_time": "2022-10-08T09:04:11.506Z"
   },
   {
    "duration": 5,
    "start_time": "2022-10-08T09:08:24.184Z"
   },
   {
    "duration": 25,
    "start_time": "2022-10-08T09:08:42.824Z"
   },
   {
    "duration": 858,
    "start_time": "2022-10-08T09:09:43.243Z"
   },
   {
    "duration": 499,
    "start_time": "2022-10-08T09:10:15.145Z"
   },
   {
    "duration": 500,
    "start_time": "2022-10-08T09:10:21.125Z"
   },
   {
    "duration": 438,
    "start_time": "2022-10-08T09:10:50.324Z"
   },
   {
    "duration": 416,
    "start_time": "2022-10-08T09:10:55.443Z"
   },
   {
    "duration": 422,
    "start_time": "2022-10-08T09:10:58.982Z"
   },
   {
    "duration": 163,
    "start_time": "2022-10-08T09:15:00.052Z"
   },
   {
    "duration": 159,
    "start_time": "2022-10-08T09:15:07.043Z"
   },
   {
    "duration": 19,
    "start_time": "2022-10-08T09:15:07.204Z"
   },
   {
    "duration": 63,
    "start_time": "2022-10-08T09:15:07.224Z"
   },
   {
    "duration": 53,
    "start_time": "2022-10-08T09:15:07.289Z"
   },
   {
    "duration": 69,
    "start_time": "2022-10-08T09:15:07.344Z"
   },
   {
    "duration": 13,
    "start_time": "2022-10-08T09:15:07.414Z"
   },
   {
    "duration": 8,
    "start_time": "2022-10-08T09:15:07.429Z"
   },
   {
    "duration": 40,
    "start_time": "2022-10-08T09:15:07.438Z"
   },
   {
    "duration": 62,
    "start_time": "2022-10-08T09:15:07.479Z"
   },
   {
    "duration": 91,
    "start_time": "2022-10-08T09:15:07.543Z"
   },
   {
    "duration": 13,
    "start_time": "2022-10-08T09:15:07.636Z"
   },
   {
    "duration": 30,
    "start_time": "2022-10-08T09:15:07.650Z"
   },
   {
    "duration": 18,
    "start_time": "2022-10-08T09:15:07.681Z"
   },
   {
    "duration": 36,
    "start_time": "2022-10-08T09:15:07.701Z"
   },
   {
    "duration": 14,
    "start_time": "2022-10-08T09:15:07.739Z"
   },
   {
    "duration": 44,
    "start_time": "2022-10-08T09:15:07.755Z"
   },
   {
    "duration": 26,
    "start_time": "2022-10-08T09:15:10.943Z"
   },
   {
    "duration": 421,
    "start_time": "2022-10-08T09:15:11.802Z"
   },
   {
    "duration": 486,
    "start_time": "2022-10-08T09:15:16.563Z"
   },
   {
    "duration": 408,
    "start_time": "2022-10-08T09:15:23.702Z"
   },
   {
    "duration": 9,
    "start_time": "2022-10-08T09:21:16.422Z"
   },
   {
    "duration": 226,
    "start_time": "2022-10-08T09:22:07.690Z"
   },
   {
    "duration": 250,
    "start_time": "2022-10-08T09:22:26.823Z"
   },
   {
    "duration": 368,
    "start_time": "2022-10-08T09:23:11.621Z"
   },
   {
    "duration": 1317,
    "start_time": "2022-10-08T11:17:53.467Z"
   },
   {
    "duration": 21,
    "start_time": "2022-10-08T11:17:54.786Z"
   },
   {
    "duration": 102,
    "start_time": "2022-10-08T11:17:54.808Z"
   },
   {
    "duration": 83,
    "start_time": "2022-10-08T11:17:54.911Z"
   },
   {
    "duration": 88,
    "start_time": "2022-10-08T11:17:54.997Z"
   },
   {
    "duration": 19,
    "start_time": "2022-10-08T11:17:55.087Z"
   },
   {
    "duration": 30,
    "start_time": "2022-10-08T11:17:55.121Z"
   },
   {
    "duration": 75,
    "start_time": "2022-10-08T11:17:55.153Z"
   },
   {
    "duration": 110,
    "start_time": "2022-10-08T11:17:55.229Z"
   },
   {
    "duration": 89,
    "start_time": "2022-10-08T11:17:55.341Z"
   },
   {
    "duration": 9,
    "start_time": "2022-10-08T11:17:55.431Z"
   },
   {
    "duration": 29,
    "start_time": "2022-10-08T11:17:55.442Z"
   },
   {
    "duration": 21,
    "start_time": "2022-10-08T11:17:55.473Z"
   },
   {
    "duration": 50,
    "start_time": "2022-10-08T11:17:55.497Z"
   },
   {
    "duration": 18,
    "start_time": "2022-10-08T11:17:55.549Z"
   },
   {
    "duration": 53,
    "start_time": "2022-10-08T11:17:55.570Z"
   },
   {
    "duration": 508,
    "start_time": "2022-10-08T11:17:55.625Z"
   },
   {
    "duration": 270,
    "start_time": "2022-10-08T11:17:56.134Z"
   },
   {
    "duration": 178,
    "start_time": "2022-10-08T11:18:35.846Z"
   },
   {
    "duration": 4,
    "start_time": "2022-10-08T11:20:20.625Z"
   },
   {
    "duration": 8,
    "start_time": "2022-10-08T11:20:44.517Z"
   },
   {
    "duration": 8,
    "start_time": "2022-10-08T11:20:51.666Z"
   },
   {
    "duration": 64,
    "start_time": "2022-10-08T11:23:03.939Z"
   },
   {
    "duration": 55,
    "start_time": "2022-10-08T11:23:12.484Z"
   },
   {
    "duration": 28,
    "start_time": "2022-10-08T11:23:22.965Z"
   },
   {
    "duration": 268,
    "start_time": "2022-10-08T11:23:38.446Z"
   },
   {
    "duration": 243,
    "start_time": "2022-10-08T11:27:05.788Z"
   },
   {
    "duration": 186,
    "start_time": "2022-10-08T11:27:35.225Z"
   },
   {
    "duration": 12,
    "start_time": "2022-10-08T11:28:36.604Z"
   },
   {
    "duration": 265,
    "start_time": "2022-10-08T11:29:50.558Z"
   },
   {
    "duration": 34,
    "start_time": "2022-10-08T11:31:52.324Z"
   },
   {
    "duration": 72,
    "start_time": "2022-10-08T11:32:32.233Z"
   },
   {
    "duration": 12,
    "start_time": "2022-10-08T11:32:34.456Z"
   },
   {
    "duration": 35,
    "start_time": "2022-10-08T11:32:55.429Z"
   },
   {
    "duration": 16,
    "start_time": "2022-10-08T11:33:02.820Z"
   },
   {
    "duration": 8,
    "start_time": "2022-10-08T11:33:06.206Z"
   },
   {
    "duration": 11,
    "start_time": "2022-10-08T11:33:10.998Z"
   },
   {
    "duration": 10,
    "start_time": "2022-10-08T11:33:12.844Z"
   },
   {
    "duration": 86,
    "start_time": "2022-10-08T11:33:17.703Z"
   },
   {
    "duration": 11,
    "start_time": "2022-10-08T11:33:20.079Z"
   },
   {
    "duration": 28,
    "start_time": "2022-10-08T11:33:23.364Z"
   },
   {
    "duration": 115,
    "start_time": "2022-10-08T11:35:58.537Z"
   },
   {
    "duration": 20,
    "start_time": "2022-10-08T11:36:03.097Z"
   },
   {
    "duration": 10,
    "start_time": "2022-10-08T11:36:08.306Z"
   },
   {
    "duration": 172,
    "start_time": "2022-10-08T11:36:26.864Z"
   },
   {
    "duration": 33,
    "start_time": "2022-10-08T11:36:27.039Z"
   },
   {
    "duration": 89,
    "start_time": "2022-10-08T11:36:27.074Z"
   },
   {
    "duration": 78,
    "start_time": "2022-10-08T11:36:27.168Z"
   },
   {
    "duration": 61,
    "start_time": "2022-10-08T11:36:27.248Z"
   },
   {
    "duration": 17,
    "start_time": "2022-10-08T11:36:27.322Z"
   },
   {
    "duration": 45,
    "start_time": "2022-10-08T11:36:27.342Z"
   },
   {
    "duration": 72,
    "start_time": "2022-10-08T11:36:27.389Z"
   },
   {
    "duration": 96,
    "start_time": "2022-10-08T11:36:27.463Z"
   },
   {
    "duration": 126,
    "start_time": "2022-10-08T11:36:27.561Z"
   },
   {
    "duration": 9,
    "start_time": "2022-10-08T11:36:27.690Z"
   },
   {
    "duration": 70,
    "start_time": "2022-10-08T11:36:27.701Z"
   },
   {
    "duration": 21,
    "start_time": "2022-10-08T11:36:27.774Z"
   },
   {
    "duration": 108,
    "start_time": "2022-10-08T11:36:27.798Z"
   },
   {
    "duration": 11,
    "start_time": "2022-10-08T11:36:27.908Z"
   },
   {
    "duration": 28,
    "start_time": "2022-10-08T11:36:27.921Z"
   },
   {
    "duration": 209,
    "start_time": "2022-10-08T11:36:27.951Z"
   },
   {
    "duration": 19,
    "start_time": "2022-10-08T11:36:28.161Z"
   },
   {
    "duration": 6,
    "start_time": "2022-10-08T11:36:45.905Z"
   },
   {
    "duration": 14,
    "start_time": "2022-10-08T11:36:52.338Z"
   },
   {
    "duration": 56,
    "start_time": "2022-10-08T11:37:20.385Z"
   },
   {
    "duration": 7,
    "start_time": "2022-10-08T11:37:39.140Z"
   },
   {
    "duration": 5,
    "start_time": "2022-10-08T11:38:15.764Z"
   },
   {
    "duration": 5,
    "start_time": "2022-10-08T11:39:27.204Z"
   },
   {
    "duration": 6,
    "start_time": "2022-10-08T11:40:10.809Z"
   },
   {
    "duration": 7,
    "start_time": "2022-10-08T11:40:18.965Z"
   },
   {
    "duration": 10,
    "start_time": "2022-10-08T11:40:32.325Z"
   },
   {
    "duration": 9,
    "start_time": "2022-10-08T11:40:41.533Z"
   },
   {
    "duration": 6,
    "start_time": "2022-10-08T11:40:50.004Z"
   },
   {
    "duration": 39,
    "start_time": "2022-10-08T11:46:18.544Z"
   },
   {
    "duration": 15,
    "start_time": "2022-10-08T11:47:26.984Z"
   },
   {
    "duration": 49,
    "start_time": "2022-10-08T11:47:30.225Z"
   },
   {
    "duration": 156,
    "start_time": "2022-10-08T11:47:50.953Z"
   },
   {
    "duration": 20,
    "start_time": "2022-10-08T11:47:51.111Z"
   },
   {
    "duration": 70,
    "start_time": "2022-10-08T11:47:51.133Z"
   },
   {
    "duration": 65,
    "start_time": "2022-10-08T11:47:51.204Z"
   },
   {
    "duration": 72,
    "start_time": "2022-10-08T11:47:51.271Z"
   },
   {
    "duration": 13,
    "start_time": "2022-10-08T11:47:51.345Z"
   },
   {
    "duration": 9,
    "start_time": "2022-10-08T11:47:51.360Z"
   },
   {
    "duration": 25,
    "start_time": "2022-10-08T11:47:51.371Z"
   },
   {
    "duration": 87,
    "start_time": "2022-10-08T11:47:51.398Z"
   },
   {
    "duration": 121,
    "start_time": "2022-10-08T11:47:51.487Z"
   },
   {
    "duration": 16,
    "start_time": "2022-10-08T11:47:51.610Z"
   },
   {
    "duration": 27,
    "start_time": "2022-10-08T11:47:51.628Z"
   },
   {
    "duration": 35,
    "start_time": "2022-10-08T11:47:51.657Z"
   },
   {
    "duration": 47,
    "start_time": "2022-10-08T11:47:51.695Z"
   },
   {
    "duration": 13,
    "start_time": "2022-10-08T11:47:51.744Z"
   },
   {
    "duration": 21,
    "start_time": "2022-10-08T11:47:51.759Z"
   },
   {
    "duration": 218,
    "start_time": "2022-10-08T11:47:51.782Z"
   },
   {
    "duration": 34,
    "start_time": "2022-10-08T11:47:52.001Z"
   },
   {
    "duration": 11,
    "start_time": "2022-10-08T11:47:52.039Z"
   },
   {
    "duration": 12,
    "start_time": "2022-10-08T11:47:52.051Z"
   },
   {
    "duration": 47,
    "start_time": "2022-10-08T11:47:58.942Z"
   },
   {
    "duration": 221,
    "start_time": "2022-10-08T11:57:18.837Z"
   },
   {
    "duration": 29,
    "start_time": "2022-10-08T11:57:19.061Z"
   },
   {
    "duration": 88,
    "start_time": "2022-10-08T11:57:19.092Z"
   },
   {
    "duration": 85,
    "start_time": "2022-10-08T11:57:19.182Z"
   },
   {
    "duration": 90,
    "start_time": "2022-10-08T11:57:19.269Z"
   },
   {
    "duration": 15,
    "start_time": "2022-10-08T11:57:19.361Z"
   },
   {
    "duration": 13,
    "start_time": "2022-10-08T11:57:19.377Z"
   },
   {
    "duration": 39,
    "start_time": "2022-10-08T11:57:19.391Z"
   },
   {
    "duration": 93,
    "start_time": "2022-10-08T11:57:19.432Z"
   },
   {
    "duration": 119,
    "start_time": "2022-10-08T11:57:19.528Z"
   },
   {
    "duration": 20,
    "start_time": "2022-10-08T11:57:19.649Z"
   },
   {
    "duration": 31,
    "start_time": "2022-10-08T11:57:19.671Z"
   },
   {
    "duration": 22,
    "start_time": "2022-10-08T11:57:19.704Z"
   },
   {
    "duration": 58,
    "start_time": "2022-10-08T11:57:19.728Z"
   },
   {
    "duration": 13,
    "start_time": "2022-10-08T11:57:19.788Z"
   },
   {
    "duration": 11,
    "start_time": "2022-10-08T11:57:19.803Z"
   },
   {
    "duration": 238,
    "start_time": "2022-10-08T11:57:19.816Z"
   },
   {
    "duration": 27,
    "start_time": "2022-10-08T11:57:20.056Z"
   },
   {
    "duration": 12,
    "start_time": "2022-10-08T11:57:29.745Z"
   },
   {
    "duration": 43,
    "start_time": "2022-10-08T11:57:39.133Z"
   },
   {
    "duration": 76,
    "start_time": "2022-10-08T12:00:30.085Z"
   },
   {
    "duration": 65,
    "start_time": "2022-10-08T12:00:39.564Z"
   },
   {
    "duration": 66,
    "start_time": "2022-10-08T12:01:34.666Z"
   },
   {
    "duration": 73,
    "start_time": "2022-10-08T12:01:39.444Z"
   },
   {
    "duration": 35,
    "start_time": "2022-10-08T12:01:49.125Z"
   },
   {
    "duration": 35,
    "start_time": "2022-10-08T12:01:54.999Z"
   },
   {
    "duration": 77,
    "start_time": "2022-10-08T12:05:49.064Z"
   },
   {
    "duration": 80,
    "start_time": "2022-10-08T12:05:53.485Z"
   },
   {
    "duration": 82,
    "start_time": "2022-10-08T12:06:02.209Z"
   },
   {
    "duration": 68,
    "start_time": "2022-10-08T12:06:24.789Z"
   },
   {
    "duration": 71,
    "start_time": "2022-10-08T12:06:31.250Z"
   },
   {
    "duration": 66,
    "start_time": "2022-10-08T12:06:34.845Z"
   },
   {
    "duration": 86,
    "start_time": "2022-10-08T12:07:20.328Z"
   },
   {
    "duration": 73,
    "start_time": "2022-10-08T12:07:25.394Z"
   },
   {
    "duration": 65,
    "start_time": "2022-10-08T12:07:35.708Z"
   },
   {
    "duration": 66,
    "start_time": "2022-10-08T12:07:48.006Z"
   },
   {
    "duration": 79,
    "start_time": "2022-10-08T12:08:48.789Z"
   },
   {
    "duration": 777,
    "start_time": "2022-10-08T12:11:41.877Z"
   },
   {
    "duration": 85,
    "start_time": "2022-10-08T12:12:06.225Z"
   },
   {
    "duration": 37,
    "start_time": "2022-10-08T12:12:24.564Z"
   },
   {
    "duration": 21,
    "start_time": "2022-10-08T12:33:33.044Z"
   },
   {
    "duration": 32,
    "start_time": "2022-10-08T12:34:49.827Z"
   },
   {
    "duration": 26,
    "start_time": "2022-10-08T12:36:20.965Z"
   },
   {
    "duration": 46,
    "start_time": "2022-10-08T12:43:47.023Z"
   },
   {
    "duration": 13,
    "start_time": "2022-10-08T12:46:25.265Z"
   },
   {
    "duration": 538,
    "start_time": "2022-10-08T12:46:29.525Z"
   },
   {
    "duration": 535,
    "start_time": "2022-10-08T12:47:01.145Z"
   },
   {
    "duration": 79,
    "start_time": "2022-10-08T12:47:12.954Z"
   },
   {
    "duration": 70,
    "start_time": "2022-10-08T12:47:18.444Z"
   },
   {
    "duration": 100,
    "start_time": "2022-10-08T12:48:07.163Z"
   },
   {
    "duration": 63,
    "start_time": "2022-10-08T12:48:25.115Z"
   },
   {
    "duration": 59,
    "start_time": "2022-10-08T12:48:41.143Z"
   },
   {
    "duration": 61,
    "start_time": "2022-10-08T12:48:56.463Z"
   },
   {
    "duration": 65,
    "start_time": "2022-10-08T12:49:17.625Z"
   },
   {
    "duration": 1412,
    "start_time": "2022-10-11T07:53:19.131Z"
   },
   {
    "duration": 17,
    "start_time": "2022-10-11T07:53:20.545Z"
   },
   {
    "duration": 59,
    "start_time": "2022-10-11T07:53:20.564Z"
   },
   {
    "duration": 64,
    "start_time": "2022-10-11T07:53:20.624Z"
   },
   {
    "duration": 63,
    "start_time": "2022-10-11T07:53:20.690Z"
   },
   {
    "duration": 14,
    "start_time": "2022-10-11T07:53:20.754Z"
   },
   {
    "duration": 7,
    "start_time": "2022-10-11T07:53:20.769Z"
   },
   {
    "duration": 22,
    "start_time": "2022-10-11T07:53:20.778Z"
   },
   {
    "duration": 74,
    "start_time": "2022-10-11T07:53:20.801Z"
   },
   {
    "duration": 95,
    "start_time": "2022-10-11T07:53:20.876Z"
   },
   {
    "duration": 8,
    "start_time": "2022-10-11T07:53:20.972Z"
   },
   {
    "duration": 13,
    "start_time": "2022-10-11T07:53:20.982Z"
   },
   {
    "duration": 34,
    "start_time": "2022-10-11T07:53:20.997Z"
   },
   {
    "duration": 8,
    "start_time": "2022-10-11T07:53:21.034Z"
   },
   {
    "duration": 37,
    "start_time": "2022-10-11T07:53:21.043Z"
   },
   {
    "duration": 11,
    "start_time": "2022-10-11T07:53:21.081Z"
   },
   {
    "duration": 29,
    "start_time": "2022-10-11T07:53:21.094Z"
   },
   {
    "duration": 237,
    "start_time": "2022-10-11T07:53:21.124Z"
   },
   {
    "duration": 16,
    "start_time": "2022-10-11T07:53:21.363Z"
   },
   {
    "duration": 6,
    "start_time": "2022-10-11T07:53:21.380Z"
   },
   {
    "duration": 16,
    "start_time": "2022-10-11T07:53:21.388Z"
   },
   {
    "duration": 44,
    "start_time": "2022-10-11T07:53:21.406Z"
   },
   {
    "duration": 70,
    "start_time": "2022-10-11T07:53:21.452Z"
   },
   {
    "duration": 77,
    "start_time": "2022-10-11T07:53:21.524Z"
   },
   {
    "duration": 0,
    "start_time": "2022-10-11T07:53:21.602Z"
   },
   {
    "duration": 0,
    "start_time": "2022-10-11T07:53:21.603Z"
   },
   {
    "duration": 0,
    "start_time": "2022-10-11T07:53:21.605Z"
   },
   {
    "duration": 19,
    "start_time": "2022-10-11T07:53:40.269Z"
   },
   {
    "duration": 51,
    "start_time": "2022-10-11T07:53:42.769Z"
   },
   {
    "duration": 59,
    "start_time": "2022-10-11T07:57:28.082Z"
   },
   {
    "duration": 54,
    "start_time": "2022-10-11T07:57:40.050Z"
   },
   {
    "duration": 50,
    "start_time": "2022-10-11T07:58:02.290Z"
   },
   {
    "duration": 59,
    "start_time": "2022-10-11T07:58:16.169Z"
   },
   {
    "duration": 735,
    "start_time": "2022-10-11T08:06:52.684Z"
   },
   {
    "duration": 20,
    "start_time": "2022-10-11T08:06:53.421Z"
   },
   {
    "duration": 59,
    "start_time": "2022-10-11T08:06:53.443Z"
   },
   {
    "duration": 83,
    "start_time": "2022-10-11T08:06:53.504Z"
   },
   {
    "duration": 69,
    "start_time": "2022-10-11T08:06:53.589Z"
   },
   {
    "duration": 15,
    "start_time": "2022-10-11T08:06:53.660Z"
   },
   {
    "duration": 8,
    "start_time": "2022-10-11T08:06:53.676Z"
   },
   {
    "duration": 43,
    "start_time": "2022-10-11T08:06:53.686Z"
   },
   {
    "duration": 56,
    "start_time": "2022-10-11T08:06:53.731Z"
   },
   {
    "duration": 108,
    "start_time": "2022-10-11T08:06:53.790Z"
   },
   {
    "duration": 10,
    "start_time": "2022-10-11T08:06:53.899Z"
   },
   {
    "duration": 15,
    "start_time": "2022-10-11T08:06:53.922Z"
   },
   {
    "duration": 26,
    "start_time": "2022-10-11T08:06:53.938Z"
   },
   {
    "duration": 11,
    "start_time": "2022-10-11T08:06:53.965Z"
   },
   {
    "duration": 45,
    "start_time": "2022-10-11T08:06:53.978Z"
   },
   {
    "duration": 11,
    "start_time": "2022-10-11T08:06:54.024Z"
   },
   {
    "duration": 6,
    "start_time": "2022-10-11T08:06:54.037Z"
   },
   {
    "duration": 251,
    "start_time": "2022-10-11T08:06:54.044Z"
   },
   {
    "duration": 25,
    "start_time": "2022-10-11T08:06:54.297Z"
   },
   {
    "duration": 8,
    "start_time": "2022-10-11T08:06:54.323Z"
   },
   {
    "duration": 15,
    "start_time": "2022-10-11T08:06:54.333Z"
   },
   {
    "duration": 35,
    "start_time": "2022-10-11T08:06:54.350Z"
   },
   {
    "duration": 85,
    "start_time": "2022-10-11T08:06:54.387Z"
   },
   {
    "duration": 19,
    "start_time": "2022-10-11T08:06:54.474Z"
   },
   {
    "duration": 70,
    "start_time": "2022-10-11T08:06:54.495Z"
   },
   {
    "duration": 60,
    "start_time": "2022-10-11T08:06:54.567Z"
   },
   {
    "duration": 51,
    "start_time": "2022-10-11T08:07:27.137Z"
   },
   {
    "duration": 56,
    "start_time": "2022-10-11T08:09:30.472Z"
   },
   {
    "duration": 53,
    "start_time": "2022-10-11T08:09:45.732Z"
   },
   {
    "duration": 53,
    "start_time": "2022-10-11T08:09:52.631Z"
   },
   {
    "duration": 51,
    "start_time": "2022-10-11T08:10:09.932Z"
   },
   {
    "duration": 687,
    "start_time": "2022-10-11T10:56:49.374Z"
   },
   {
    "duration": 17,
    "start_time": "2022-10-11T10:56:50.062Z"
   },
   {
    "duration": 62,
    "start_time": "2022-10-11T10:56:50.081Z"
   },
   {
    "duration": 63,
    "start_time": "2022-10-11T10:56:50.145Z"
   },
   {
    "duration": 53,
    "start_time": "2022-10-11T10:56:50.221Z"
   },
   {
    "duration": 15,
    "start_time": "2022-10-11T10:56:50.276Z"
   },
   {
    "duration": 7,
    "start_time": "2022-10-11T10:56:50.293Z"
   },
   {
    "duration": 37,
    "start_time": "2022-10-11T10:56:50.301Z"
   },
   {
    "duration": 57,
    "start_time": "2022-10-11T10:56:50.339Z"
   },
   {
    "duration": 103,
    "start_time": "2022-10-11T10:56:50.398Z"
   },
   {
    "duration": 8,
    "start_time": "2022-10-11T10:56:50.503Z"
   },
   {
    "duration": 11,
    "start_time": "2022-10-11T10:56:50.522Z"
   },
   {
    "duration": 20,
    "start_time": "2022-10-11T10:56:50.535Z"
   },
   {
    "duration": 9,
    "start_time": "2022-10-11T10:56:50.558Z"
   },
   {
    "duration": 54,
    "start_time": "2022-10-11T10:56:50.568Z"
   },
   {
    "duration": 11,
    "start_time": "2022-10-11T10:56:50.624Z"
   },
   {
    "duration": 7,
    "start_time": "2022-10-11T10:56:50.637Z"
   },
   {
    "duration": 247,
    "start_time": "2022-10-11T10:56:50.646Z"
   },
   {
    "duration": 18,
    "start_time": "2022-10-11T10:56:50.895Z"
   },
   {
    "duration": 6,
    "start_time": "2022-10-11T10:56:50.922Z"
   },
   {
    "duration": 12,
    "start_time": "2022-10-11T10:56:50.930Z"
   },
   {
    "duration": 34,
    "start_time": "2022-10-11T10:56:50.944Z"
   },
   {
    "duration": 85,
    "start_time": "2022-10-11T10:56:50.979Z"
   },
   {
    "duration": 18,
    "start_time": "2022-10-11T10:56:51.066Z"
   },
   {
    "duration": 74,
    "start_time": "2022-10-11T10:56:51.086Z"
   },
   {
    "duration": 65,
    "start_time": "2022-10-11T10:56:51.161Z"
   },
   {
    "duration": 733,
    "start_time": "2022-10-11T11:09:31.733Z"
   },
   {
    "duration": 17,
    "start_time": "2022-10-11T11:09:32.469Z"
   },
   {
    "duration": 74,
    "start_time": "2022-10-11T11:09:32.488Z"
   },
   {
    "duration": 75,
    "start_time": "2022-10-11T11:09:32.564Z"
   },
   {
    "duration": 53,
    "start_time": "2022-10-11T11:09:32.640Z"
   },
   {
    "duration": 13,
    "start_time": "2022-10-11T11:09:32.695Z"
   },
   {
    "duration": 7,
    "start_time": "2022-10-11T11:09:32.722Z"
   },
   {
    "duration": 46,
    "start_time": "2022-10-11T11:09:32.730Z"
   },
   {
    "duration": 57,
    "start_time": "2022-10-11T11:09:32.777Z"
   },
   {
    "duration": 98,
    "start_time": "2022-10-11T11:09:32.836Z"
   },
   {
    "duration": 13,
    "start_time": "2022-10-11T11:09:32.935Z"
   },
   {
    "duration": 28,
    "start_time": "2022-10-11T11:09:32.950Z"
   },
   {
    "duration": 43,
    "start_time": "2022-10-11T11:09:32.984Z"
   },
   {
    "duration": 14,
    "start_time": "2022-10-11T11:09:33.029Z"
   },
   {
    "duration": 55,
    "start_time": "2022-10-11T11:09:33.044Z"
   },
   {
    "duration": 10,
    "start_time": "2022-10-11T11:09:33.100Z"
   },
   {
    "duration": 25,
    "start_time": "2022-10-11T11:09:33.112Z"
   },
   {
    "duration": 251,
    "start_time": "2022-10-11T11:09:33.139Z"
   },
   {
    "duration": 18,
    "start_time": "2022-10-11T11:09:33.392Z"
   },
   {
    "duration": 16,
    "start_time": "2022-10-11T11:09:33.412Z"
   },
   {
    "duration": 22,
    "start_time": "2022-10-11T11:09:33.429Z"
   },
   {
    "duration": 36,
    "start_time": "2022-10-11T11:09:33.452Z"
   },
   {
    "duration": 68,
    "start_time": "2022-10-11T11:09:33.490Z"
   },
   {
    "duration": 19,
    "start_time": "2022-10-11T11:09:33.559Z"
   },
   {
    "duration": 79,
    "start_time": "2022-10-11T11:09:33.580Z"
   },
   {
    "duration": 60,
    "start_time": "2022-10-11T11:09:33.661Z"
   },
   {
    "duration": 58,
    "start_time": "2022-10-11T12:02:51.193Z"
   },
   {
    "duration": 63,
    "start_time": "2022-10-11T12:04:56.102Z"
   },
   {
    "duration": 1471,
    "start_time": "2022-10-11T12:06:20.649Z"
   },
   {
    "duration": 1239,
    "start_time": "2022-10-11T12:06:31.568Z"
   },
   {
    "duration": 57,
    "start_time": "2022-10-11T12:06:46.990Z"
   },
   {
    "duration": 7,
    "start_time": "2022-10-11T12:09:07.397Z"
   },
   {
    "duration": 9,
    "start_time": "2022-10-11T12:21:13.349Z"
   },
   {
    "duration": 761,
    "start_time": "2022-10-11T12:22:42.591Z"
   },
   {
    "duration": 20,
    "start_time": "2022-10-11T12:22:43.354Z"
   },
   {
    "duration": 74,
    "start_time": "2022-10-11T12:22:43.375Z"
   },
   {
    "duration": 81,
    "start_time": "2022-10-11T12:22:43.451Z"
   },
   {
    "duration": 54,
    "start_time": "2022-10-11T12:22:43.533Z"
   },
   {
    "duration": 14,
    "start_time": "2022-10-11T12:22:43.588Z"
   },
   {
    "duration": 25,
    "start_time": "2022-10-11T12:22:43.604Z"
   },
   {
    "duration": 29,
    "start_time": "2022-10-11T12:22:43.631Z"
   },
   {
    "duration": 68,
    "start_time": "2022-10-11T12:22:43.662Z"
   },
   {
    "duration": 97,
    "start_time": "2022-10-11T12:22:43.732Z"
   },
   {
    "duration": 9,
    "start_time": "2022-10-11T12:22:43.830Z"
   },
   {
    "duration": 14,
    "start_time": "2022-10-11T12:22:43.840Z"
   },
   {
    "duration": 27,
    "start_time": "2022-10-11T12:22:43.855Z"
   },
   {
    "duration": 24,
    "start_time": "2022-10-11T12:22:43.883Z"
   },
   {
    "duration": 40,
    "start_time": "2022-10-11T12:22:43.908Z"
   },
   {
    "duration": 10,
    "start_time": "2022-10-11T12:22:43.950Z"
   },
   {
    "duration": 8,
    "start_time": "2022-10-11T12:22:43.962Z"
   },
   {
    "duration": 257,
    "start_time": "2022-10-11T12:22:43.971Z"
   },
   {
    "duration": 18,
    "start_time": "2022-10-11T12:22:44.229Z"
   },
   {
    "duration": 7,
    "start_time": "2022-10-11T12:22:44.248Z"
   },
   {
    "duration": 13,
    "start_time": "2022-10-11T12:22:44.256Z"
   },
   {
    "duration": 61,
    "start_time": "2022-10-11T12:22:44.270Z"
   },
   {
    "duration": 63,
    "start_time": "2022-10-11T12:22:44.333Z"
   },
   {
    "duration": 34,
    "start_time": "2022-10-11T12:22:44.397Z"
   },
   {
    "duration": 66,
    "start_time": "2022-10-11T12:22:44.432Z"
   },
   {
    "duration": 116,
    "start_time": "2022-10-11T12:22:44.500Z"
   },
   {
    "duration": 0,
    "start_time": "2022-10-11T12:22:44.621Z"
   },
   {
    "duration": 0,
    "start_time": "2022-10-11T12:22:44.622Z"
   },
   {
    "duration": 58,
    "start_time": "2022-10-11T12:23:02.240Z"
   },
   {
    "duration": 7,
    "start_time": "2022-10-11T12:23:08.768Z"
   },
   {
    "duration": 1743,
    "start_time": "2022-10-11T12:23:10.854Z"
   },
   {
    "duration": 1407,
    "start_time": "2022-10-11T12:23:49.935Z"
   },
   {
    "duration": 8,
    "start_time": "2022-10-11T12:30:36.962Z"
   },
   {
    "duration": 7,
    "start_time": "2022-10-11T12:30:40.284Z"
   },
   {
    "duration": 8,
    "start_time": "2022-10-11T12:30:42.652Z"
   },
   {
    "duration": 1774,
    "start_time": "2022-10-11T12:31:05.157Z"
   },
   {
    "duration": 7,
    "start_time": "2022-10-11T12:31:53.428Z"
   },
   {
    "duration": 741,
    "start_time": "2022-10-11T12:41:18.529Z"
   },
   {
    "duration": 16,
    "start_time": "2022-10-11T12:41:19.272Z"
   },
   {
    "duration": 64,
    "start_time": "2022-10-11T12:41:19.289Z"
   },
   {
    "duration": 68,
    "start_time": "2022-10-11T12:41:19.355Z"
   },
   {
    "duration": 52,
    "start_time": "2022-10-11T12:41:19.425Z"
   },
   {
    "duration": 12,
    "start_time": "2022-10-11T12:41:19.479Z"
   },
   {
    "duration": 7,
    "start_time": "2022-10-11T12:41:19.492Z"
   },
   {
    "duration": 17,
    "start_time": "2022-10-11T12:41:19.521Z"
   },
   {
    "duration": 56,
    "start_time": "2022-10-11T12:41:19.539Z"
   },
   {
    "duration": 103,
    "start_time": "2022-10-11T12:41:19.597Z"
   },
   {
    "duration": 8,
    "start_time": "2022-10-11T12:41:19.702Z"
   },
   {
    "duration": 10,
    "start_time": "2022-10-11T12:41:19.721Z"
   },
   {
    "duration": 19,
    "start_time": "2022-10-11T12:41:19.733Z"
   },
   {
    "duration": 8,
    "start_time": "2022-10-11T12:41:19.753Z"
   },
   {
    "duration": 30,
    "start_time": "2022-10-11T12:41:19.762Z"
   },
   {
    "duration": 30,
    "start_time": "2022-10-11T12:41:19.793Z"
   },
   {
    "duration": 5,
    "start_time": "2022-10-11T12:41:19.824Z"
   },
   {
    "duration": 238,
    "start_time": "2022-10-11T12:41:19.830Z"
   },
   {
    "duration": 17,
    "start_time": "2022-10-11T12:41:20.070Z"
   },
   {
    "duration": 7,
    "start_time": "2022-10-11T12:41:20.088Z"
   },
   {
    "duration": 28,
    "start_time": "2022-10-11T12:41:20.096Z"
   },
   {
    "duration": 33,
    "start_time": "2022-10-11T12:41:20.126Z"
   },
   {
    "duration": 69,
    "start_time": "2022-10-11T12:41:20.160Z"
   },
   {
    "duration": 17,
    "start_time": "2022-10-11T12:41:20.231Z"
   },
   {
    "duration": 53,
    "start_time": "2022-10-11T12:41:20.250Z"
   },
   {
    "duration": 68,
    "start_time": "2022-10-11T12:41:20.305Z"
   },
   {
    "duration": 77,
    "start_time": "2022-10-11T12:41:20.375Z"
   },
   {
    "duration": 0,
    "start_time": "2022-10-11T12:41:20.453Z"
   },
   {
    "duration": 0,
    "start_time": "2022-10-11T12:41:20.455Z"
   },
   {
    "duration": 12,
    "start_time": "2022-10-11T12:41:41.470Z"
   },
   {
    "duration": 10,
    "start_time": "2022-10-11T12:41:46.418Z"
   },
   {
    "duration": 11,
    "start_time": "2022-10-11T12:42:06.572Z"
   },
   {
    "duration": 219,
    "start_time": "2022-10-11T12:42:31.973Z"
   },
   {
    "duration": 7,
    "start_time": "2022-10-11T12:42:38.492Z"
   },
   {
    "duration": 130,
    "start_time": "2022-10-11T12:44:41.633Z"
   },
   {
    "duration": 11,
    "start_time": "2022-10-11T12:44:49.892Z"
   },
   {
    "duration": 690,
    "start_time": "2022-10-11T12:47:39.968Z"
   },
   {
    "duration": 17,
    "start_time": "2022-10-11T12:47:40.659Z"
   },
   {
    "duration": 68,
    "start_time": "2022-10-11T12:47:40.677Z"
   },
   {
    "duration": 58,
    "start_time": "2022-10-11T12:47:40.746Z"
   },
   {
    "duration": 61,
    "start_time": "2022-10-11T12:47:40.806Z"
   },
   {
    "duration": 12,
    "start_time": "2022-10-11T12:47:40.869Z"
   },
   {
    "duration": 7,
    "start_time": "2022-10-11T12:47:40.883Z"
   },
   {
    "duration": 38,
    "start_time": "2022-10-11T12:47:40.892Z"
   },
   {
    "duration": 56,
    "start_time": "2022-10-11T12:47:40.932Z"
   },
   {
    "duration": 108,
    "start_time": "2022-10-11T12:47:40.991Z"
   },
   {
    "duration": 19,
    "start_time": "2022-10-11T12:47:41.102Z"
   },
   {
    "duration": 11,
    "start_time": "2022-10-11T12:47:41.123Z"
   },
   {
    "duration": 18,
    "start_time": "2022-10-11T12:47:41.135Z"
   },
   {
    "duration": 12,
    "start_time": "2022-10-11T12:47:41.155Z"
   },
   {
    "duration": 31,
    "start_time": "2022-10-11T12:47:41.169Z"
   },
   {
    "duration": 25,
    "start_time": "2022-10-11T12:47:41.201Z"
   },
   {
    "duration": 7,
    "start_time": "2022-10-11T12:47:41.227Z"
   },
   {
    "duration": 245,
    "start_time": "2022-10-11T12:47:41.235Z"
   },
   {
    "duration": 17,
    "start_time": "2022-10-11T12:47:41.481Z"
   },
   {
    "duration": 6,
    "start_time": "2022-10-11T12:47:41.499Z"
   },
   {
    "duration": 27,
    "start_time": "2022-10-11T12:47:41.507Z"
   },
   {
    "duration": 47,
    "start_time": "2022-10-11T12:47:41.536Z"
   },
   {
    "duration": 81,
    "start_time": "2022-10-11T12:47:41.585Z"
   },
   {
    "duration": 21,
    "start_time": "2022-10-11T12:47:41.667Z"
   },
   {
    "duration": 71,
    "start_time": "2022-10-11T12:47:41.690Z"
   },
   {
    "duration": 82,
    "start_time": "2022-10-11T12:47:41.762Z"
   },
   {
    "duration": 7,
    "start_time": "2022-10-11T12:47:41.846Z"
   },
   {
    "duration": 203,
    "start_time": "2022-10-11T12:47:41.857Z"
   },
   {
    "duration": 11,
    "start_time": "2022-10-11T12:48:10.675Z"
   },
   {
    "duration": 78,
    "start_time": "2022-10-11T12:48:49.794Z"
   },
   {
    "duration": 12,
    "start_time": "2022-10-11T12:49:03.369Z"
   },
   {
    "duration": 711,
    "start_time": "2022-10-11T12:58:22.743Z"
   },
   {
    "duration": 16,
    "start_time": "2022-10-11T12:58:23.456Z"
   },
   {
    "duration": 63,
    "start_time": "2022-10-11T12:58:23.474Z"
   },
   {
    "duration": 61,
    "start_time": "2022-10-11T12:58:23.538Z"
   },
   {
    "duration": 62,
    "start_time": "2022-10-11T12:58:23.601Z"
   },
   {
    "duration": 13,
    "start_time": "2022-10-11T12:58:23.664Z"
   },
   {
    "duration": 6,
    "start_time": "2022-10-11T12:58:23.679Z"
   },
   {
    "duration": 43,
    "start_time": "2022-10-11T12:58:23.687Z"
   },
   {
    "duration": 57,
    "start_time": "2022-10-11T12:58:23.732Z"
   },
   {
    "duration": 98,
    "start_time": "2022-10-11T12:58:23.791Z"
   },
   {
    "duration": 12,
    "start_time": "2022-10-11T12:58:23.890Z"
   },
   {
    "duration": 30,
    "start_time": "2022-10-11T12:58:23.903Z"
   },
   {
    "duration": 29,
    "start_time": "2022-10-11T12:58:23.935Z"
   },
   {
    "duration": 14,
    "start_time": "2022-10-11T12:58:23.967Z"
   },
   {
    "duration": 49,
    "start_time": "2022-10-11T12:58:23.983Z"
   },
   {
    "duration": 11,
    "start_time": "2022-10-11T12:58:24.034Z"
   },
   {
    "duration": 19,
    "start_time": "2022-10-11T12:58:24.046Z"
   },
   {
    "duration": 252,
    "start_time": "2022-10-11T12:58:24.066Z"
   },
   {
    "duration": 17,
    "start_time": "2022-10-11T12:58:24.321Z"
   },
   {
    "duration": 7,
    "start_time": "2022-10-11T12:58:24.339Z"
   },
   {
    "duration": 15,
    "start_time": "2022-10-11T12:58:24.347Z"
   },
   {
    "duration": 34,
    "start_time": "2022-10-11T12:58:24.363Z"
   },
   {
    "duration": 77,
    "start_time": "2022-10-11T12:58:24.398Z"
   },
   {
    "duration": 18,
    "start_time": "2022-10-11T12:58:24.476Z"
   },
   {
    "duration": 79,
    "start_time": "2022-10-11T12:58:24.495Z"
   },
   {
    "duration": 62,
    "start_time": "2022-10-11T12:58:24.576Z"
   },
   {
    "duration": 8,
    "start_time": "2022-10-11T12:58:24.639Z"
   },
   {
    "duration": 188,
    "start_time": "2022-10-11T12:58:24.648Z"
   },
   {
    "duration": 12,
    "start_time": "2022-10-11T12:58:59.240Z"
   },
   {
    "duration": 10,
    "start_time": "2022-10-11T12:59:06.773Z"
   },
   {
    "duration": 11,
    "start_time": "2022-10-11T12:59:16.623Z"
   },
   {
    "duration": 10,
    "start_time": "2022-10-11T12:59:26.678Z"
   },
   {
    "duration": 11,
    "start_time": "2022-10-11T12:59:37.254Z"
   },
   {
    "duration": 9,
    "start_time": "2022-10-11T12:59:50.436Z"
   },
   {
    "duration": 10,
    "start_time": "2022-10-11T13:00:36.363Z"
   },
   {
    "duration": 95,
    "start_time": "2022-10-11T13:00:49.455Z"
   },
   {
    "duration": 10,
    "start_time": "2022-10-11T13:00:54.334Z"
   },
   {
    "duration": 10,
    "start_time": "2022-10-11T13:01:01.035Z"
   },
   {
    "duration": 10,
    "start_time": "2022-10-11T13:01:09.948Z"
   },
   {
    "duration": 11,
    "start_time": "2022-10-11T13:01:25.538Z"
   },
   {
    "duration": 11,
    "start_time": "2022-10-11T13:01:44.995Z"
   },
   {
    "duration": 11,
    "start_time": "2022-10-11T13:01:51.735Z"
   },
   {
    "duration": 22,
    "start_time": "2022-10-11T13:02:00.477Z"
   },
   {
    "duration": 13,
    "start_time": "2022-10-11T13:02:06.037Z"
   },
   {
    "duration": 11,
    "start_time": "2022-10-11T13:02:26.497Z"
   },
   {
    "duration": 10,
    "start_time": "2022-10-11T13:03:11.115Z"
   },
   {
    "duration": 17,
    "start_time": "2022-10-11T13:03:38.743Z"
   },
   {
    "duration": 11,
    "start_time": "2022-10-11T13:03:43.676Z"
   },
   {
    "duration": 11,
    "start_time": "2022-10-11T13:03:53.275Z"
   },
   {
    "duration": 13,
    "start_time": "2022-10-11T13:05:12.321Z"
   },
   {
    "duration": 18,
    "start_time": "2022-10-11T13:05:38.260Z"
   },
   {
    "duration": 13,
    "start_time": "2022-10-11T13:05:48.056Z"
   },
   {
    "duration": 10,
    "start_time": "2022-10-11T13:05:55.417Z"
   },
   {
    "duration": 11,
    "start_time": "2022-10-11T13:06:00.476Z"
   },
   {
    "duration": 791,
    "start_time": "2022-10-11T13:09:52.397Z"
   },
   {
    "duration": 22,
    "start_time": "2022-10-11T13:09:53.190Z"
   },
   {
    "duration": 71,
    "start_time": "2022-10-11T13:09:53.213Z"
   },
   {
    "duration": 78,
    "start_time": "2022-10-11T13:09:53.286Z"
   },
   {
    "duration": 59,
    "start_time": "2022-10-11T13:09:53.366Z"
   },
   {
    "duration": 13,
    "start_time": "2022-10-11T13:09:53.426Z"
   },
   {
    "duration": 8,
    "start_time": "2022-10-11T13:09:53.441Z"
   },
   {
    "duration": 33,
    "start_time": "2022-10-11T13:09:53.450Z"
   },
   {
    "duration": 67,
    "start_time": "2022-10-11T13:09:53.484Z"
   },
   {
    "duration": 102,
    "start_time": "2022-10-11T13:09:53.553Z"
   },
   {
    "duration": 11,
    "start_time": "2022-10-11T13:09:53.656Z"
   },
   {
    "duration": 18,
    "start_time": "2022-10-11T13:09:53.669Z"
   },
   {
    "duration": 37,
    "start_time": "2022-10-11T13:09:53.689Z"
   },
   {
    "duration": 12,
    "start_time": "2022-10-11T13:09:53.729Z"
   },
   {
    "duration": 35,
    "start_time": "2022-10-11T13:09:53.742Z"
   },
   {
    "duration": 16,
    "start_time": "2022-10-11T13:09:53.779Z"
   },
   {
    "duration": 9,
    "start_time": "2022-10-11T13:09:53.797Z"
   },
   {
    "duration": 245,
    "start_time": "2022-10-11T13:09:53.821Z"
   },
   {
    "duration": 24,
    "start_time": "2022-10-11T13:09:54.068Z"
   },
   {
    "duration": 15,
    "start_time": "2022-10-11T13:09:54.094Z"
   },
   {
    "duration": 13,
    "start_time": "2022-10-11T13:09:54.122Z"
   },
   {
    "duration": 56,
    "start_time": "2022-10-11T13:09:54.136Z"
   },
   {
    "duration": 67,
    "start_time": "2022-10-11T13:09:54.194Z"
   },
   {
    "duration": 24,
    "start_time": "2022-10-11T13:09:54.263Z"
   },
   {
    "duration": 65,
    "start_time": "2022-10-11T13:09:54.289Z"
   },
   {
    "duration": 65,
    "start_time": "2022-10-11T13:09:54.356Z"
   },
   {
    "duration": 7,
    "start_time": "2022-10-11T13:09:54.423Z"
   },
   {
    "duration": 11,
    "start_time": "2022-10-11T13:10:04.253Z"
   },
   {
    "duration": 11,
    "start_time": "2022-10-11T13:10:25.711Z"
   },
   {
    "duration": 105,
    "start_time": "2022-10-11T13:31:35.888Z"
   },
   {
    "duration": 64,
    "start_time": "2022-10-11T13:31:52.669Z"
   },
   {
    "duration": 64,
    "start_time": "2022-10-11T13:32:14.789Z"
   },
   {
    "duration": 94,
    "start_time": "2022-10-11T13:32:25.388Z"
   },
   {
    "duration": 126,
    "start_time": "2022-10-11T13:32:30.570Z"
   },
   {
    "duration": 73,
    "start_time": "2022-10-11T13:32:46.010Z"
   },
   {
    "duration": 63,
    "start_time": "2022-10-11T13:32:55.931Z"
   },
   {
    "duration": 52,
    "start_time": "2022-10-11T13:33:18.750Z"
   },
   {
    "duration": 104,
    "start_time": "2022-10-11T13:34:22.370Z"
   },
   {
    "duration": 85,
    "start_time": "2022-10-11T13:34:32.732Z"
   },
   {
    "duration": 191,
    "start_time": "2022-10-11T13:34:42.869Z"
   },
   {
    "duration": 54,
    "start_time": "2022-10-11T13:34:58.686Z"
   },
   {
    "duration": 101,
    "start_time": "2022-10-11T13:39:40.250Z"
   },
   {
    "duration": 9,
    "start_time": "2022-10-11T13:39:50.749Z"
   },
   {
    "duration": 9,
    "start_time": "2022-10-11T13:43:10.820Z"
   },
   {
    "duration": 9,
    "start_time": "2022-10-11T13:43:22.138Z"
   },
   {
    "duration": 10,
    "start_time": "2022-10-11T13:43:28.771Z"
   },
   {
    "duration": 10,
    "start_time": "2022-10-11T13:43:43.510Z"
   },
   {
    "duration": 81,
    "start_time": "2022-10-11T13:44:06.011Z"
   },
   {
    "duration": 8,
    "start_time": "2022-10-11T13:44:12.195Z"
   },
   {
    "duration": 10,
    "start_time": "2022-10-11T13:44:23.713Z"
   },
   {
    "duration": 27,
    "start_time": "2022-10-11T13:46:15.871Z"
   },
   {
    "duration": 56,
    "start_time": "2022-10-11T13:46:29.112Z"
   },
   {
    "duration": 76,
    "start_time": "2022-10-11T13:46:57.052Z"
   },
   {
    "duration": 65,
    "start_time": "2022-10-11T13:47:02.691Z"
   },
   {
    "duration": 60,
    "start_time": "2022-10-11T13:47:12.752Z"
   },
   {
    "duration": 59,
    "start_time": "2022-10-11T13:47:28.121Z"
   },
   {
    "duration": 9,
    "start_time": "2022-10-11T13:48:15.712Z"
   },
   {
    "duration": 11,
    "start_time": "2022-10-11T13:48:29.304Z"
   },
   {
    "duration": 4,
    "start_time": "2022-10-11T13:49:16.711Z"
   },
   {
    "duration": 8,
    "start_time": "2022-10-11T13:49:37.375Z"
   },
   {
    "duration": 12,
    "start_time": "2022-10-11T13:51:58.197Z"
   },
   {
    "duration": 104,
    "start_time": "2022-10-11T13:52:33.955Z"
   },
   {
    "duration": 12,
    "start_time": "2022-10-11T13:52:47.615Z"
   },
   {
    "duration": 70,
    "start_time": "2022-10-11T14:04:07.902Z"
   },
   {
    "duration": 67,
    "start_time": "2022-10-11T14:04:17.299Z"
   },
   {
    "duration": 58,
    "start_time": "2022-10-11T14:05:25.578Z"
   },
   {
    "duration": 41,
    "start_time": "2022-10-11T14:05:30.381Z"
   },
   {
    "duration": 44,
    "start_time": "2022-10-11T14:05:34.261Z"
   },
   {
    "duration": 83,
    "start_time": "2022-10-11T14:10:18.486Z"
   },
   {
    "duration": 117,
    "start_time": "2022-10-11T14:10:29.639Z"
   },
   {
    "duration": 12,
    "start_time": "2022-10-11T14:10:39.156Z"
   },
   {
    "duration": 11,
    "start_time": "2022-10-11T14:10:52.957Z"
   },
   {
    "duration": 75,
    "start_time": "2022-10-11T14:11:12.096Z"
   },
   {
    "duration": 13,
    "start_time": "2022-10-11T14:11:40.575Z"
   },
   {
    "duration": 77,
    "start_time": "2022-10-11T14:14:33.037Z"
   },
   {
    "duration": 15,
    "start_time": "2022-10-11T14:15:43.419Z"
   },
   {
    "duration": 14,
    "start_time": "2022-10-11T14:16:11.980Z"
   },
   {
    "duration": 8,
    "start_time": "2022-10-11T14:16:28.839Z"
   },
   {
    "duration": 16,
    "start_time": "2022-10-11T14:16:39.579Z"
   },
   {
    "duration": 14,
    "start_time": "2022-10-11T14:16:55.120Z"
   },
   {
    "duration": 16,
    "start_time": "2022-10-11T14:17:04.240Z"
   },
   {
    "duration": 1597,
    "start_time": "2022-10-11T14:18:32.480Z"
   },
   {
    "duration": 18,
    "start_time": "2022-10-11T14:19:25.840Z"
   },
   {
    "duration": 17,
    "start_time": "2022-10-11T14:19:45.871Z"
   },
   {
    "duration": 814,
    "start_time": "2022-10-11T14:26:47.723Z"
   },
   {
    "duration": 18,
    "start_time": "2022-10-11T14:26:48.539Z"
   },
   {
    "duration": 70,
    "start_time": "2022-10-11T14:26:48.558Z"
   },
   {
    "duration": 66,
    "start_time": "2022-10-11T14:26:48.630Z"
   },
   {
    "duration": 66,
    "start_time": "2022-10-11T14:26:48.698Z"
   },
   {
    "duration": 14,
    "start_time": "2022-10-11T14:26:48.765Z"
   },
   {
    "duration": 7,
    "start_time": "2022-10-11T14:26:48.780Z"
   },
   {
    "duration": 41,
    "start_time": "2022-10-11T14:26:48.788Z"
   },
   {
    "duration": 58,
    "start_time": "2022-10-11T14:26:48.830Z"
   },
   {
    "duration": 99,
    "start_time": "2022-10-11T14:26:48.890Z"
   },
   {
    "duration": 11,
    "start_time": "2022-10-11T14:26:48.991Z"
   },
   {
    "duration": 24,
    "start_time": "2022-10-11T14:26:49.004Z"
   },
   {
    "duration": 22,
    "start_time": "2022-10-11T14:26:49.030Z"
   },
   {
    "duration": 14,
    "start_time": "2022-10-11T14:26:49.053Z"
   },
   {
    "duration": 56,
    "start_time": "2022-10-11T14:26:49.068Z"
   },
   {
    "duration": 11,
    "start_time": "2022-10-11T14:26:49.126Z"
   },
   {
    "duration": 15,
    "start_time": "2022-10-11T14:26:49.138Z"
   },
   {
    "duration": 259,
    "start_time": "2022-10-11T14:26:49.154Z"
   },
   {
    "duration": 20,
    "start_time": "2022-10-11T14:26:49.415Z"
   },
   {
    "duration": 7,
    "start_time": "2022-10-11T14:26:49.436Z"
   },
   {
    "duration": 13,
    "start_time": "2022-10-11T14:26:49.444Z"
   },
   {
    "duration": 34,
    "start_time": "2022-10-11T14:26:49.459Z"
   },
   {
    "duration": 82,
    "start_time": "2022-10-11T14:26:49.495Z"
   },
   {
    "duration": 6,
    "start_time": "2022-10-11T14:26:49.579Z"
   },
   {
    "duration": 39,
    "start_time": "2022-10-11T14:26:49.586Z"
   },
   {
    "duration": 49,
    "start_time": "2022-10-11T14:26:49.626Z"
   },
   {
    "duration": 70,
    "start_time": "2022-10-11T14:26:49.677Z"
   },
   {
    "duration": 7,
    "start_time": "2022-10-11T14:26:49.749Z"
   },
   {
    "duration": 90,
    "start_time": "2022-10-11T14:26:49.758Z"
   },
   {
    "duration": 0,
    "start_time": "2022-10-11T14:26:49.849Z"
   },
   {
    "duration": 18,
    "start_time": "2022-10-11T14:27:04.899Z"
   },
   {
    "duration": 1201,
    "start_time": "2022-10-11T14:27:26.445Z"
   },
   {
    "duration": 16,
    "start_time": "2022-10-11T14:28:00.819Z"
   },
   {
    "duration": 15,
    "start_time": "2022-10-11T14:28:23.739Z"
   },
   {
    "duration": 15,
    "start_time": "2022-10-11T14:28:28.446Z"
   },
   {
    "duration": 13,
    "start_time": "2022-10-11T14:28:49.148Z"
   },
   {
    "duration": 14,
    "start_time": "2022-10-11T14:29:03.120Z"
   },
   {
    "duration": 14,
    "start_time": "2022-10-11T14:29:32.155Z"
   },
   {
    "duration": 192,
    "start_time": "2022-10-11T14:29:40.066Z"
   },
   {
    "duration": 15,
    "start_time": "2022-10-11T14:31:01.976Z"
   },
   {
    "duration": 92,
    "start_time": "2022-10-11T14:54:19.688Z"
   },
   {
    "duration": 749,
    "start_time": "2022-10-11T15:26:30.529Z"
   },
   {
    "duration": 17,
    "start_time": "2022-10-11T15:26:31.279Z"
   },
   {
    "duration": 69,
    "start_time": "2022-10-11T15:26:31.297Z"
   },
   {
    "duration": 74,
    "start_time": "2022-10-11T15:26:31.368Z"
   },
   {
    "duration": 78,
    "start_time": "2022-10-11T15:26:31.445Z"
   },
   {
    "duration": 16,
    "start_time": "2022-10-11T15:26:31.525Z"
   },
   {
    "duration": 9,
    "start_time": "2022-10-11T15:26:31.543Z"
   },
   {
    "duration": 24,
    "start_time": "2022-10-11T15:26:31.554Z"
   },
   {
    "duration": 84,
    "start_time": "2022-10-11T15:26:31.579Z"
   },
   {
    "duration": 98,
    "start_time": "2022-10-11T15:26:31.664Z"
   },
   {
    "duration": 9,
    "start_time": "2022-10-11T15:26:31.764Z"
   },
   {
    "duration": 15,
    "start_time": "2022-10-11T15:26:31.774Z"
   },
   {
    "duration": 34,
    "start_time": "2022-10-11T15:26:31.791Z"
   },
   {
    "duration": 13,
    "start_time": "2022-10-11T15:26:31.828Z"
   },
   {
    "duration": 47,
    "start_time": "2022-10-11T15:26:31.843Z"
   },
   {
    "duration": 33,
    "start_time": "2022-10-11T15:26:31.892Z"
   },
   {
    "duration": 9,
    "start_time": "2022-10-11T15:26:31.927Z"
   },
   {
    "duration": 256,
    "start_time": "2022-10-11T15:26:31.938Z"
   },
   {
    "duration": 18,
    "start_time": "2022-10-11T15:26:32.195Z"
   },
   {
    "duration": 13,
    "start_time": "2022-10-11T15:26:32.214Z"
   },
   {
    "duration": 13,
    "start_time": "2022-10-11T15:26:32.229Z"
   },
   {
    "duration": 38,
    "start_time": "2022-10-11T15:26:32.244Z"
   },
   {
    "duration": 81,
    "start_time": "2022-10-11T15:26:32.284Z"
   },
   {
    "duration": 6,
    "start_time": "2022-10-11T15:26:32.367Z"
   },
   {
    "duration": 19,
    "start_time": "2022-10-11T15:26:32.375Z"
   },
   {
    "duration": 65,
    "start_time": "2022-10-11T15:26:32.396Z"
   },
   {
    "duration": 60,
    "start_time": "2022-10-11T15:26:32.462Z"
   },
   {
    "duration": 7,
    "start_time": "2022-10-11T15:26:32.524Z"
   },
   {
    "duration": 16,
    "start_time": "2022-10-11T15:26:32.532Z"
   },
   {
    "duration": 222,
    "start_time": "2022-10-11T15:26:32.549Z"
   },
   {
    "duration": 3,
    "start_time": "2022-10-11T15:26:32.774Z"
   },
   {
    "duration": 6,
    "start_time": "2022-10-11T15:28:03.574Z"
   },
   {
    "duration": 5,
    "start_time": "2022-10-11T15:28:54.097Z"
   },
   {
    "duration": 1834,
    "start_time": "2022-10-12T05:15:40.603Z"
   },
   {
    "duration": 97,
    "start_time": "2022-10-12T05:15:50.943Z"
   },
   {
    "duration": 1288,
    "start_time": "2022-10-12T05:15:58.901Z"
   },
   {
    "duration": 19,
    "start_time": "2022-10-12T05:16:00.191Z"
   },
   {
    "duration": 80,
    "start_time": "2022-10-12T05:16:00.212Z"
   },
   {
    "duration": 86,
    "start_time": "2022-10-12T05:16:00.295Z"
   },
   {
    "duration": 71,
    "start_time": "2022-10-12T05:16:00.384Z"
   },
   {
    "duration": 17,
    "start_time": "2022-10-12T05:16:00.457Z"
   },
   {
    "duration": 19,
    "start_time": "2022-10-12T05:16:00.476Z"
   },
   {
    "duration": 41,
    "start_time": "2022-10-12T05:16:00.497Z"
   },
   {
    "duration": 77,
    "start_time": "2022-10-12T05:16:00.540Z"
   },
   {
    "duration": 119,
    "start_time": "2022-10-12T05:16:00.621Z"
   },
   {
    "duration": 20,
    "start_time": "2022-10-12T05:16:00.742Z"
   },
   {
    "duration": 26,
    "start_time": "2022-10-12T05:16:00.764Z"
   },
   {
    "duration": 81,
    "start_time": "2022-10-12T05:16:00.792Z"
   },
   {
    "duration": 36,
    "start_time": "2022-10-12T05:16:00.875Z"
   },
   {
    "duration": 72,
    "start_time": "2022-10-12T05:16:00.912Z"
   },
   {
    "duration": 11,
    "start_time": "2022-10-12T05:16:00.986Z"
   },
   {
    "duration": 26,
    "start_time": "2022-10-12T05:16:00.999Z"
   },
   {
    "duration": 295,
    "start_time": "2022-10-12T05:16:01.026Z"
   },
   {
    "duration": 20,
    "start_time": "2022-10-12T05:16:01.323Z"
   },
   {
    "duration": 8,
    "start_time": "2022-10-12T05:16:01.355Z"
   },
   {
    "duration": 19,
    "start_time": "2022-10-12T05:16:01.365Z"
   },
   {
    "duration": 69,
    "start_time": "2022-10-12T05:16:01.387Z"
   },
   {
    "duration": 103,
    "start_time": "2022-10-12T05:16:01.459Z"
   },
   {
    "duration": 10,
    "start_time": "2022-10-12T05:16:01.564Z"
   },
   {
    "duration": 39,
    "start_time": "2022-10-12T05:16:01.576Z"
   },
   {
    "duration": 98,
    "start_time": "2022-10-12T05:16:01.617Z"
   },
   {
    "duration": 75,
    "start_time": "2022-10-12T05:16:01.717Z"
   },
   {
    "duration": 10,
    "start_time": "2022-10-12T05:16:01.796Z"
   },
   {
    "duration": 30,
    "start_time": "2022-10-12T05:16:01.807Z"
   },
   {
    "duration": 248,
    "start_time": "2022-10-12T05:16:01.839Z"
   },
   {
    "duration": 7,
    "start_time": "2022-10-12T05:16:02.089Z"
   },
   {
    "duration": 106,
    "start_time": "2022-10-12T05:19:03.037Z"
   },
   {
    "duration": 10,
    "start_time": "2022-10-12T05:19:08.590Z"
   },
   {
    "duration": 53,
    "start_time": "2022-10-12T05:19:28.011Z"
   },
   {
    "duration": 124,
    "start_time": "2022-10-12T05:19:49.328Z"
   },
   {
    "duration": 10,
    "start_time": "2022-10-12T05:20:09.444Z"
   },
   {
    "duration": 81,
    "start_time": "2022-10-12T05:20:15.687Z"
   },
   {
    "duration": 86,
    "start_time": "2022-10-12T05:21:23.381Z"
   },
   {
    "duration": 83,
    "start_time": "2022-10-12T05:21:33.968Z"
   },
   {
    "duration": 81,
    "start_time": "2022-10-12T05:21:39.768Z"
   },
   {
    "duration": 86,
    "start_time": "2022-10-12T05:24:02.708Z"
   },
   {
    "duration": 88,
    "start_time": "2022-10-12T05:24:14.958Z"
   },
   {
    "duration": 87,
    "start_time": "2022-10-12T05:35:11.192Z"
   },
   {
    "duration": 88,
    "start_time": "2022-10-12T05:35:30.922Z"
   },
   {
    "duration": 87,
    "start_time": "2022-10-12T05:35:42.457Z"
   },
   {
    "duration": 81,
    "start_time": "2022-10-12T05:35:57.748Z"
   },
   {
    "duration": 82,
    "start_time": "2022-10-12T05:36:05.108Z"
   },
   {
    "duration": 89,
    "start_time": "2022-10-12T05:36:20.531Z"
   },
   {
    "duration": 82,
    "start_time": "2022-10-12T05:36:33.172Z"
   },
   {
    "duration": 89,
    "start_time": "2022-10-12T05:38:11.776Z"
   },
   {
    "duration": 86,
    "start_time": "2022-10-12T05:38:25.880Z"
   },
   {
    "duration": 86,
    "start_time": "2022-10-12T05:38:32.560Z"
   },
   {
    "duration": 93,
    "start_time": "2022-10-12T06:03:19.234Z"
   },
   {
    "duration": 81,
    "start_time": "2022-10-12T06:03:26.049Z"
   },
   {
    "duration": 83,
    "start_time": "2022-10-12T06:03:48.328Z"
   },
   {
    "duration": 58,
    "start_time": "2022-10-12T06:03:52.001Z"
   },
   {
    "duration": 89,
    "start_time": "2022-10-12T06:03:57.126Z"
   },
   {
    "duration": 76,
    "start_time": "2022-10-12T06:14:43.183Z"
   },
   {
    "duration": 84,
    "start_time": "2022-10-12T06:14:51.843Z"
   },
   {
    "duration": 1252,
    "start_time": "2022-10-12T06:24:49.021Z"
   },
   {
    "duration": 19,
    "start_time": "2022-10-12T06:24:50.276Z"
   },
   {
    "duration": 75,
    "start_time": "2022-10-12T06:24:50.296Z"
   },
   {
    "duration": 68,
    "start_time": "2022-10-12T06:24:50.373Z"
   },
   {
    "duration": 60,
    "start_time": "2022-10-12T06:24:50.453Z"
   },
   {
    "duration": 15,
    "start_time": "2022-10-12T06:24:50.514Z"
   },
   {
    "duration": 27,
    "start_time": "2022-10-12T06:24:50.531Z"
   },
   {
    "duration": 27,
    "start_time": "2022-10-12T06:24:50.560Z"
   },
   {
    "duration": 84,
    "start_time": "2022-10-12T06:24:50.589Z"
   },
   {
    "duration": 112,
    "start_time": "2022-10-12T06:24:50.676Z"
   },
   {
    "duration": 9,
    "start_time": "2022-10-12T06:24:50.790Z"
   },
   {
    "duration": 14,
    "start_time": "2022-10-12T06:24:50.801Z"
   },
   {
    "duration": 41,
    "start_time": "2022-10-12T06:24:50.817Z"
   },
   {
    "duration": 14,
    "start_time": "2022-10-12T06:24:50.860Z"
   },
   {
    "duration": 39,
    "start_time": "2022-10-12T06:24:50.876Z"
   },
   {
    "duration": 12,
    "start_time": "2022-10-12T06:24:50.917Z"
   },
   {
    "duration": 6,
    "start_time": "2022-10-12T06:24:50.954Z"
   },
   {
    "duration": 281,
    "start_time": "2022-10-12T06:24:50.962Z"
   },
   {
    "duration": 26,
    "start_time": "2022-10-12T06:24:51.245Z"
   },
   {
    "duration": 8,
    "start_time": "2022-10-12T06:24:51.273Z"
   },
   {
    "duration": 23,
    "start_time": "2022-10-12T06:24:51.283Z"
   },
   {
    "duration": 60,
    "start_time": "2022-10-12T06:24:51.307Z"
   },
   {
    "duration": 92,
    "start_time": "2022-10-12T06:24:51.369Z"
   },
   {
    "duration": 8,
    "start_time": "2022-10-12T06:24:51.463Z"
   },
   {
    "duration": 40,
    "start_time": "2022-10-12T06:24:51.473Z"
   },
   {
    "duration": 81,
    "start_time": "2022-10-12T06:24:51.515Z"
   },
   {
    "duration": 85,
    "start_time": "2022-10-12T06:24:51.598Z"
   },
   {
    "duration": 10,
    "start_time": "2022-10-12T06:24:51.687Z"
   },
   {
    "duration": 49,
    "start_time": "2022-10-12T06:24:51.699Z"
   },
   {
    "duration": 184,
    "start_time": "2022-10-12T06:24:51.751Z"
   },
   {
    "duration": 7,
    "start_time": "2022-10-12T06:24:51.938Z"
   },
   {
    "duration": 135,
    "start_time": "2022-10-12T06:24:51.946Z"
   },
   {
    "duration": 141,
    "start_time": "2022-10-12T06:24:52.082Z"
   },
   {
    "duration": 100,
    "start_time": "2022-10-12T06:25:44.785Z"
   },
   {
    "duration": 44,
    "start_time": "2022-10-12T06:25:55.986Z"
   },
   {
    "duration": 63,
    "start_time": "2022-10-12T06:27:14.732Z"
   },
   {
    "duration": 90,
    "start_time": "2022-10-12T06:27:52.786Z"
   },
   {
    "duration": 5,
    "start_time": "2022-10-12T06:28:12.516Z"
   },
   {
    "duration": 10,
    "start_time": "2022-10-12T06:28:40.891Z"
   },
   {
    "duration": 7,
    "start_time": "2022-10-12T06:30:00.660Z"
   },
   {
    "duration": 11,
    "start_time": "2022-10-12T06:30:02.232Z"
   },
   {
    "duration": 57,
    "start_time": "2022-10-12T06:30:51.483Z"
   },
   {
    "duration": 80,
    "start_time": "2022-10-12T06:31:28.141Z"
   },
   {
    "duration": 6,
    "start_time": "2022-10-12T06:31:49.501Z"
   },
   {
    "duration": 112,
    "start_time": "2022-10-12T06:31:53.699Z"
   },
   {
    "duration": 7,
    "start_time": "2022-10-12T06:32:01.720Z"
   },
   {
    "duration": 10,
    "start_time": "2022-10-12T06:32:03.939Z"
   },
   {
    "duration": 5,
    "start_time": "2022-10-12T06:32:52.522Z"
   },
   {
    "duration": 10,
    "start_time": "2022-10-12T06:32:53.619Z"
   },
   {
    "duration": 5,
    "start_time": "2022-10-12T06:33:49.601Z"
   },
   {
    "duration": 13,
    "start_time": "2022-10-12T06:33:51.526Z"
   },
   {
    "duration": 6,
    "start_time": "2022-10-12T06:33:59.260Z"
   },
   {
    "duration": 10,
    "start_time": "2022-10-12T06:33:59.870Z"
   },
   {
    "duration": 6,
    "start_time": "2022-10-12T06:46:12.626Z"
   },
   {
    "duration": 11,
    "start_time": "2022-10-12T06:46:14.468Z"
   },
   {
    "duration": 10,
    "start_time": "2022-10-12T06:47:24.453Z"
   },
   {
    "duration": 6,
    "start_time": "2022-10-12T06:47:27.963Z"
   },
   {
    "duration": 11,
    "start_time": "2022-10-12T06:47:28.846Z"
   },
   {
    "duration": 12,
    "start_time": "2022-10-12T06:47:42.793Z"
   },
   {
    "duration": 11,
    "start_time": "2022-10-12T06:47:50.833Z"
   },
   {
    "duration": 10,
    "start_time": "2022-10-12T06:47:57.155Z"
   },
   {
    "duration": 10,
    "start_time": "2022-10-12T06:48:23.240Z"
   },
   {
    "duration": 11,
    "start_time": "2022-10-12T06:48:41.240Z"
   },
   {
    "duration": 5,
    "start_time": "2022-10-12T06:52:25.203Z"
   },
   {
    "duration": 10,
    "start_time": "2022-10-12T06:52:39.285Z"
   },
   {
    "duration": 11,
    "start_time": "2022-10-12T06:52:54.740Z"
   },
   {
    "duration": 10,
    "start_time": "2022-10-12T06:52:57.021Z"
   },
   {
    "duration": 9,
    "start_time": "2022-10-12T06:54:49.787Z"
   },
   {
    "duration": 9,
    "start_time": "2022-10-12T06:55:44.413Z"
   },
   {
    "duration": 11,
    "start_time": "2022-10-12T06:55:50.833Z"
   },
   {
    "duration": 1433,
    "start_time": "2022-10-12T07:31:41.367Z"
   },
   {
    "duration": 24,
    "start_time": "2022-10-12T07:31:42.802Z"
   },
   {
    "duration": 80,
    "start_time": "2022-10-12T07:31:42.828Z"
   },
   {
    "duration": 80,
    "start_time": "2022-10-12T07:31:42.910Z"
   },
   {
    "duration": 74,
    "start_time": "2022-10-12T07:31:42.993Z"
   },
   {
    "duration": 15,
    "start_time": "2022-10-12T07:31:43.069Z"
   },
   {
    "duration": 14,
    "start_time": "2022-10-12T07:31:43.086Z"
   },
   {
    "duration": 32,
    "start_time": "2022-10-12T07:31:43.102Z"
   },
   {
    "duration": 84,
    "start_time": "2022-10-12T07:31:43.136Z"
   },
   {
    "duration": 111,
    "start_time": "2022-10-12T07:31:43.222Z"
   },
   {
    "duration": 20,
    "start_time": "2022-10-12T07:31:43.335Z"
   },
   {
    "duration": 32,
    "start_time": "2022-10-12T07:31:43.357Z"
   },
   {
    "duration": 38,
    "start_time": "2022-10-12T07:31:43.391Z"
   },
   {
    "duration": 11,
    "start_time": "2022-10-12T07:31:43.432Z"
   },
   {
    "duration": 40,
    "start_time": "2022-10-12T07:31:43.445Z"
   },
   {
    "duration": 12,
    "start_time": "2022-10-12T07:31:43.487Z"
   },
   {
    "duration": 31,
    "start_time": "2022-10-12T07:31:43.500Z"
   },
   {
    "duration": 381,
    "start_time": "2022-10-12T07:31:43.532Z"
   },
   {
    "duration": 21,
    "start_time": "2022-10-12T07:31:43.915Z"
   },
   {
    "duration": 23,
    "start_time": "2022-10-12T07:31:43.938Z"
   },
   {
    "duration": 39,
    "start_time": "2022-10-12T07:31:43.962Z"
   },
   {
    "duration": 49,
    "start_time": "2022-10-12T07:31:44.003Z"
   },
   {
    "duration": 70,
    "start_time": "2022-10-12T07:31:44.053Z"
   },
   {
    "duration": 7,
    "start_time": "2022-10-12T07:31:44.125Z"
   },
   {
    "duration": 32,
    "start_time": "2022-10-12T07:31:44.133Z"
   },
   {
    "duration": 77,
    "start_time": "2022-10-12T07:31:44.167Z"
   },
   {
    "duration": 60,
    "start_time": "2022-10-12T07:31:44.246Z"
   },
   {
    "duration": 8,
    "start_time": "2022-10-12T07:31:44.308Z"
   },
   {
    "duration": 48,
    "start_time": "2022-10-12T07:31:44.318Z"
   },
   {
    "duration": 238,
    "start_time": "2022-10-12T07:31:44.368Z"
   },
   {
    "duration": 7,
    "start_time": "2022-10-12T07:31:44.607Z"
   },
   {
    "duration": 178,
    "start_time": "2022-10-12T07:31:44.616Z"
   },
   {
    "duration": 58,
    "start_time": "2022-10-12T07:31:44.796Z"
   },
   {
    "duration": 23,
    "start_time": "2022-10-12T07:31:44.856Z"
   },
   {
    "duration": 39,
    "start_time": "2022-10-12T07:31:44.881Z"
   },
   {
    "duration": 12,
    "start_time": "2022-10-12T07:31:44.955Z"
   },
   {
    "duration": 15,
    "start_time": "2022-10-12T07:31:44.969Z"
   },
   {
    "duration": 14,
    "start_time": "2022-10-12T07:31:44.986Z"
   },
   {
    "duration": 1268,
    "start_time": "2022-10-12T07:41:57.713Z"
   },
   {
    "duration": 21,
    "start_time": "2022-10-12T07:41:58.983Z"
   },
   {
    "duration": 81,
    "start_time": "2022-10-12T07:41:59.006Z"
   },
   {
    "duration": 85,
    "start_time": "2022-10-12T07:41:59.088Z"
   },
   {
    "duration": 60,
    "start_time": "2022-10-12T07:41:59.176Z"
   },
   {
    "duration": 28,
    "start_time": "2022-10-12T07:41:59.238Z"
   },
   {
    "duration": 8,
    "start_time": "2022-10-12T07:41:59.268Z"
   },
   {
    "duration": 31,
    "start_time": "2022-10-12T07:41:59.277Z"
   },
   {
    "duration": 83,
    "start_time": "2022-10-12T07:41:59.310Z"
   },
   {
    "duration": 114,
    "start_time": "2022-10-12T07:41:59.395Z"
   },
   {
    "duration": 11,
    "start_time": "2022-10-12T07:41:59.511Z"
   },
   {
    "duration": 32,
    "start_time": "2022-10-12T07:41:59.523Z"
   },
   {
    "duration": 22,
    "start_time": "2022-10-12T07:41:59.556Z"
   },
   {
    "duration": 11,
    "start_time": "2022-10-12T07:41:59.581Z"
   },
   {
    "duration": 36,
    "start_time": "2022-10-12T07:41:59.594Z"
   },
   {
    "duration": 30,
    "start_time": "2022-10-12T07:41:59.632Z"
   },
   {
    "duration": 8,
    "start_time": "2022-10-12T07:41:59.664Z"
   },
   {
    "duration": 291,
    "start_time": "2022-10-12T07:41:59.673Z"
   },
   {
    "duration": 20,
    "start_time": "2022-10-12T07:41:59.966Z"
   },
   {
    "duration": 7,
    "start_time": "2022-10-12T07:41:59.987Z"
   },
   {
    "duration": 17,
    "start_time": "2022-10-12T07:41:59.996Z"
   },
   {
    "duration": 63,
    "start_time": "2022-10-12T07:42:00.016Z"
   },
   {
    "duration": 90,
    "start_time": "2022-10-12T07:42:00.081Z"
   },
   {
    "duration": 7,
    "start_time": "2022-10-12T07:42:00.173Z"
   },
   {
    "duration": 35,
    "start_time": "2022-10-12T07:42:00.182Z"
   },
   {
    "duration": 81,
    "start_time": "2022-10-12T07:42:00.219Z"
   },
   {
    "duration": 77,
    "start_time": "2022-10-12T07:42:00.302Z"
   },
   {
    "duration": 9,
    "start_time": "2022-10-12T07:42:00.381Z"
   },
   {
    "duration": 42,
    "start_time": "2022-10-12T07:42:00.391Z"
   },
   {
    "duration": 199,
    "start_time": "2022-10-12T07:42:00.435Z"
   },
   {
    "duration": 9,
    "start_time": "2022-10-12T07:42:00.636Z"
   },
   {
    "duration": 163,
    "start_time": "2022-10-12T07:42:00.646Z"
   },
   {
    "duration": 6,
    "start_time": "2022-10-12T07:42:00.811Z"
   },
   {
    "duration": 72,
    "start_time": "2022-10-12T07:42:00.819Z"
   },
   {
    "duration": 39,
    "start_time": "2022-10-12T07:42:00.893Z"
   },
   {
    "duration": 36,
    "start_time": "2022-10-12T07:42:00.934Z"
   },
   {
    "duration": 54,
    "start_time": "2022-10-12T07:42:00.972Z"
   },
   {
    "duration": 40,
    "start_time": "2022-10-12T07:42:01.028Z"
   }
  ],
  "kernelspec": {
   "display_name": "Python 3 (ipykernel)",
   "language": "python",
   "name": "python3"
  },
  "language_info": {
   "codemirror_mode": {
    "name": "ipython",
    "version": 3
   },
   "file_extension": ".py",
   "mimetype": "text/x-python",
   "name": "python",
   "nbconvert_exporter": "python",
   "pygments_lexer": "ipython3",
   "version": "3.9.13"
  },
  "toc": {
   "base_numbering": 1,
   "nav_menu": {},
   "number_sections": false,
   "sideBar": true,
   "skip_h1_title": false,
   "title_cell": "Table of Contents",
   "title_sidebar": "Contents",
   "toc_cell": false,
   "toc_position": {
    "height": "calc(100% - 180px)",
    "left": "10px",
    "top": "150px",
    "width": "264.438px"
   },
   "toc_section_display": true,
   "toc_window_display": true
  }
 },
 "nbformat": 4,
 "nbformat_minor": 2
}
